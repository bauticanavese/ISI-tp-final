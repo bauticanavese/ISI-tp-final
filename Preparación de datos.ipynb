{
 "cells": [
  {
   "cell_type": "code",
   "execution_count": 159,
   "id": "fe2dd66b",
   "metadata": {},
   "outputs": [],
   "source": [
    "import pandas as pd\n",
    "import matplotlib.pyplot as plt\n",
    "import seaborn as sns\n",
    "import numpy as np"
   ]
  },
  {
   "cell_type": "code",
   "execution_count": 160,
   "id": "34f1c1d6",
   "metadata": {},
   "outputs": [],
   "source": [
    "# Agregar el dataset 'survey_results_public.csv' en el directorio data/\n",
    "df = pd.read_csv('data/survey_results_public.csv')"
   ]
  },
  {
   "cell_type": "code",
   "execution_count": 161,
   "id": "dc54c28f",
   "metadata": {
    "scrolled": true
   },
   "outputs": [
    {
     "name": "stdout",
     "output_type": "stream",
     "text": [
      "<class 'pandas.core.frame.DataFrame'>\n",
      "RangeIndex: 64461 entries, 0 to 64460\n",
      "Data columns (total 61 columns):\n",
      " #   Column                        Non-Null Count  Dtype  \n",
      "---  ------                        --------------  -----  \n",
      " 0   Respondent                    64461 non-null  int64  \n",
      " 1   MainBranch                    64162 non-null  object \n",
      " 2   Hobbyist                      64416 non-null  object \n",
      " 3   Age                           45446 non-null  float64\n",
      " 4   Age1stCode                    57900 non-null  object \n",
      " 5   CompFreq                      40069 non-null  object \n",
      " 6   CompTotal                     34826 non-null  float64\n",
      " 7   ConvertedComp                 34756 non-null  float64\n",
      " 8   Country                       64072 non-null  object \n",
      " 9   CurrencyDesc                  45472 non-null  object \n",
      " 10  CurrencySymbol                45472 non-null  object \n",
      " 11  DatabaseDesireNextYear        44070 non-null  object \n",
      " 12  DatabaseWorkedWith            49537 non-null  object \n",
      " 13  DevType                       49370 non-null  object \n",
      " 14  EdLevel                       57431 non-null  object \n",
      " 15  Employment                    63854 non-null  object \n",
      " 16  Ethnicity                     45948 non-null  object \n",
      " 17  Gender                        50557 non-null  object \n",
      " 18  JobFactors                    49349 non-null  object \n",
      " 19  JobSat                        45194 non-null  object \n",
      " 20  JobSeek                       51727 non-null  object \n",
      " 21  LanguageDesireNextYear        54113 non-null  object \n",
      " 22  LanguageWorkedWith            57378 non-null  object \n",
      " 23  MiscTechDesireNextYear        42379 non-null  object \n",
      " 24  MiscTechWorkedWith            40314 non-null  object \n",
      " 25  NEWCollabToolsDesireNextYear  47287 non-null  object \n",
      " 26  NEWCollabToolsWorkedWith      52883 non-null  object \n",
      " 27  NEWDevOps                     42686 non-null  object \n",
      " 28  NEWDevOpsImpt                 41732 non-null  object \n",
      " 29  NEWEdImpt                     48465 non-null  object \n",
      " 30  NEWJobHunt                    42286 non-null  object \n",
      " 31  NEWJobHuntResearch            41022 non-null  object \n",
      " 32  NEWLearn                      56156 non-null  object \n",
      " 33  NEWOffTopic                   50804 non-null  object \n",
      " 34  NEWOnboardGood                42623 non-null  object \n",
      " 35  NEWOtherComms                 57205 non-null  object \n",
      " 36  NEWOvertime                   43231 non-null  object \n",
      " 37  NEWPurchaseResearch           37321 non-null  object \n",
      " 38  NEWPurpleLink                 54803 non-null  object \n",
      " 39  NEWSOSites                    58275 non-null  object \n",
      " 40  NEWStuck                      54983 non-null  object \n",
      " 41  OpSys                         56228 non-null  object \n",
      " 42  OrgSize                       44334 non-null  object \n",
      " 43  PlatformDesireNextYear        50605 non-null  object \n",
      " 44  PlatformWorkedWith            53843 non-null  object \n",
      " 45  PurchaseWhat                  39364 non-null  object \n",
      " 46  Sexuality                     43992 non-null  object \n",
      " 47  SOAccount                     56805 non-null  object \n",
      " 48  SOComm                        56476 non-null  object \n",
      " 49  SOPartFreq                    46792 non-null  object \n",
      " 50  SOVisitFreq                   56970 non-null  object \n",
      " 51  SurveyEase                    51802 non-null  object \n",
      " 52  SurveyLength                  51701 non-null  object \n",
      " 53  Trans                         49345 non-null  object \n",
      " 54  UndergradMajor                50995 non-null  object \n",
      " 55  WebframeDesireNextYear        40024 non-null  object \n",
      " 56  WebframeWorkedWith            42279 non-null  object \n",
      " 57  WelcomeChange                 52683 non-null  object \n",
      " 58  WorkWeekHrs                   41151 non-null  float64\n",
      " 59  YearsCode                     57684 non-null  object \n",
      " 60  YearsCodePro                  46349 non-null  object \n",
      "dtypes: float64(4), int64(1), object(56)\n",
      "memory usage: 30.0+ MB\n"
     ]
    }
   ],
   "source": [
    "df.info()"
   ]
  },
  {
   "cell_type": "code",
   "execution_count": 162,
   "id": "c223a896",
   "metadata": {
    "scrolled": true
   },
   "outputs": [
    {
     "data": {
      "text/html": [
       "<div>\n",
       "<style scoped>\n",
       "    .dataframe tbody tr th:only-of-type {\n",
       "        vertical-align: middle;\n",
       "    }\n",
       "\n",
       "    .dataframe tbody tr th {\n",
       "        vertical-align: top;\n",
       "    }\n",
       "\n",
       "    .dataframe thead th {\n",
       "        text-align: right;\n",
       "    }\n",
       "</style>\n",
       "<table border=\"1\" class=\"dataframe\">\n",
       "  <thead>\n",
       "    <tr style=\"text-align: right;\">\n",
       "      <th></th>\n",
       "      <th>Respondent</th>\n",
       "      <th>Age</th>\n",
       "      <th>CompTotal</th>\n",
       "      <th>ConvertedComp</th>\n",
       "      <th>WorkWeekHrs</th>\n",
       "    </tr>\n",
       "  </thead>\n",
       "  <tbody>\n",
       "    <tr>\n",
       "      <th>count</th>\n",
       "      <td>64461.000000</td>\n",
       "      <td>45446.000000</td>\n",
       "      <td>3.482600e+04</td>\n",
       "      <td>3.475600e+04</td>\n",
       "      <td>41151.000000</td>\n",
       "    </tr>\n",
       "    <tr>\n",
       "      <th>mean</th>\n",
       "      <td>32554.079738</td>\n",
       "      <td>30.834111</td>\n",
       "      <td>3.190464e+242</td>\n",
       "      <td>1.037561e+05</td>\n",
       "      <td>40.782174</td>\n",
       "    </tr>\n",
       "    <tr>\n",
       "      <th>std</th>\n",
       "      <td>18967.442360</td>\n",
       "      <td>9.585392</td>\n",
       "      <td>inf</td>\n",
       "      <td>2.268853e+05</td>\n",
       "      <td>17.816383</td>\n",
       "    </tr>\n",
       "    <tr>\n",
       "      <th>min</th>\n",
       "      <td>1.000000</td>\n",
       "      <td>1.000000</td>\n",
       "      <td>0.000000e+00</td>\n",
       "      <td>0.000000e+00</td>\n",
       "      <td>1.000000</td>\n",
       "    </tr>\n",
       "    <tr>\n",
       "      <th>25%</th>\n",
       "      <td>16116.000000</td>\n",
       "      <td>24.000000</td>\n",
       "      <td>2.000000e+04</td>\n",
       "      <td>2.464800e+04</td>\n",
       "      <td>40.000000</td>\n",
       "    </tr>\n",
       "    <tr>\n",
       "      <th>50%</th>\n",
       "      <td>32231.000000</td>\n",
       "      <td>29.000000</td>\n",
       "      <td>6.300000e+04</td>\n",
       "      <td>5.404900e+04</td>\n",
       "      <td>40.000000</td>\n",
       "    </tr>\n",
       "    <tr>\n",
       "      <th>75%</th>\n",
       "      <td>49142.000000</td>\n",
       "      <td>35.000000</td>\n",
       "      <td>1.250000e+05</td>\n",
       "      <td>9.500000e+04</td>\n",
       "      <td>44.000000</td>\n",
       "    </tr>\n",
       "    <tr>\n",
       "      <th>max</th>\n",
       "      <td>65639.000000</td>\n",
       "      <td>279.000000</td>\n",
       "      <td>1.111111e+247</td>\n",
       "      <td>2.000000e+06</td>\n",
       "      <td>475.000000</td>\n",
       "    </tr>\n",
       "  </tbody>\n",
       "</table>\n",
       "</div>"
      ],
      "text/plain": [
       "         Respondent           Age      CompTotal  ConvertedComp   WorkWeekHrs\n",
       "count  64461.000000  45446.000000   3.482600e+04   3.475600e+04  41151.000000\n",
       "mean   32554.079738     30.834111  3.190464e+242   1.037561e+05     40.782174\n",
       "std    18967.442360      9.585392            inf   2.268853e+05     17.816383\n",
       "min        1.000000      1.000000   0.000000e+00   0.000000e+00      1.000000\n",
       "25%    16116.000000     24.000000   2.000000e+04   2.464800e+04     40.000000\n",
       "50%    32231.000000     29.000000   6.300000e+04   5.404900e+04     40.000000\n",
       "75%    49142.000000     35.000000   1.250000e+05   9.500000e+04     44.000000\n",
       "max    65639.000000    279.000000  1.111111e+247   2.000000e+06    475.000000"
      ]
     },
     "execution_count": 162,
     "metadata": {},
     "output_type": "execute_result"
    }
   ],
   "source": [
    "df.describe()"
   ]
  },
  {
   "cell_type": "code",
   "execution_count": 163,
   "id": "c3fd56e7",
   "metadata": {},
   "outputs": [],
   "source": [
    "# Select cols.\n",
    "ATTRS = ['MainBranch', 'Age', 'Age1stCode', 'CompFreq', 'ConvertedComp', 'Country',\n",
    "         'DevType', 'EdLevel', 'Employment', 'Gender', 'JobFactors',\n",
    "         'JobSat', 'JobSeek', 'LanguageDesireNextYear', 'LanguageWorkedWith', 'NEWCollabToolsDesireNextYear',\n",
    "         'NEWCollabToolsWorkedWith', 'NEWEdImpt', 'NEWJobHunt', 'NEWOnboardGood', 'NEWOvertime',\n",
    "         'OrgSize', 'PlatformDesireNextYear', 'PlatformWorkedWith', 'PurchaseWhat', 'Sexuality', 'WorkWeekHrs', 'YearsCode', 'YearsCodePro']\n",
    "\n",
    "df = df[ATTRS]"
   ]
  },
  {
   "cell_type": "code",
   "execution_count": 164,
   "id": "9cbbe2ea",
   "metadata": {},
   "outputs": [],
   "source": [
    "# Only developers by profession.\n",
    "df = df[df['MainBranch'] == 'I am a developer by profession']\n",
    "df.drop('MainBranch', 1, inplace=True)"
   ]
  },
  {
   "cell_type": "code",
   "execution_count": 165,
   "id": "753bdb49",
   "metadata": {
    "scrolled": true
   },
   "outputs": [
    {
     "name": "stdout",
     "output_type": "stream",
     "text": [
      "<class 'pandas.core.frame.DataFrame'>\n",
      "Int64Index: 47193 entries, 0 to 64159\n",
      "Data columns (total 28 columns):\n",
      " #   Column                        Non-Null Count  Dtype  \n",
      "---  ------                        --------------  -----  \n",
      " 0   Age                           34348 non-null  float64\n",
      " 1   Age1stCode                    42944 non-null  object \n",
      " 2   CompFreq                      36310 non-null  object \n",
      " 3   ConvertedComp                 31581 non-null  float64\n",
      " 4   Country                       47008 non-null  object \n",
      " 5   DevType                       41733 non-null  object \n",
      " 6   EdLevel                       42781 non-null  object \n",
      " 7   Employment                    46930 non-null  object \n",
      " 8   Gender                        37592 non-null  object \n",
      " 9   JobFactors                    38553 non-null  object \n",
      " 10  JobSat                        40764 non-null  object \n",
      " 11  JobSeek                       40376 non-null  object \n",
      " 12  LanguageDesireNextYear        39951 non-null  object \n",
      " 13  LanguageWorkedWith            42397 non-null  object \n",
      " 14  NEWCollabToolsDesireNextYear  35542 non-null  object \n",
      " 15  NEWCollabToolsWorkedWith      40045 non-null  object \n",
      " 16  NEWEdImpt                     41744 non-null  object \n",
      " 17  NEWJobHunt                    38084 non-null  object \n",
      " 18  NEWOnboardGood                38498 non-null  object \n",
      " 19  NEWOvertime                   39032 non-null  object \n",
      " 20  OrgSize                       40048 non-null  object \n",
      " 21  PlatformDesireNextYear        37807 non-null  object \n",
      " 22  PlatformWorkedWith            40282 non-null  object \n",
      " 23  PurchaseWhat                  35587 non-null  object \n",
      " 24  Sexuality                     33220 non-null  object \n",
      " 25  WorkWeekHrs                   37203 non-null  float64\n",
      " 26  YearsCode                     42855 non-null  object \n",
      " 27  YearsCodePro                  41087 non-null  object \n",
      "dtypes: float64(3), object(25)\n",
      "memory usage: 10.4+ MB\n"
     ]
    }
   ],
   "source": [
    "df.info()"
   ]
  },
  {
   "cell_type": "code",
   "execution_count": null,
   "id": "7071bcf3",
   "metadata": {},
   "outputs": [],
   "source": [
    "# Age1stCode, YearsCode, YearsCodePro"
   ]
  },
  {
   "cell_type": "code",
   "execution_count": 142,
   "id": "bc9bb9e9",
   "metadata": {},
   "outputs": [],
   "source": [
    "# DevType proccess.\n",
    "# TOP 6 types.\n",
    "# Developer, back-end\n",
    "# 55.2%\n",
    "# Developer, full-stack\n",
    "# 54.9%\n",
    "# Developer, front-end\n",
    "# 37.1%\n",
    "# Developer, desktop or enterprise applications\n",
    "# 23.9%\n",
    "# Developer, mobile\n",
    "# 19.2%\n",
    "# DevOps specialist\n",
    "DEV_TYPES = ['Developer, back-end', 'Developer, full-stack', 'Developer, front-end',\n",
    "    'Developer, desktop or enterprise applications', 'Developer, mobile', 'DevOps specialist']\n",
    "\n",
    "for dev_type in DEV_TYPES:\n",
    "    t = dev_type.replace('-', ' ').split(' ')\n",
    "    t = ''.join([x.capitalize() for x in t]).replace(',', '')\n",
    "    \n",
    "    df['DevType' + t] = np.where(df['DevType'].str.contains(dev_type), 1, 0)\n",
    "\n",
    "df['DevTypeOther'] = np.where(\n",
    "    (df['DevTypeDeveloperBackEnd'] == 0) & (df['DevTypeDeveloperFullStack'] == 0)\n",
    "    & (df['DevTypeDeveloperFrontEnd'] == 0) & (df['DevTypeDeveloperDesktopOrEnterpriseApplications'] == 0) &\n",
    "    (df['DevTypeDeveloperMobile'] == 0) & (df['DevTypeDevopsSpecialist'] == 0), \n",
    "    1, 0)\n",
    "\n",
    "df.drop('DevType', 1, inplace=True)"
   ]
  },
  {
   "cell_type": "code",
   "execution_count": 143,
   "id": "e7b27a15",
   "metadata": {},
   "outputs": [
    {
     "data": {
      "text/plain": [
       "<AxesSubplot:>"
      ]
     },
     "execution_count": 143,
     "metadata": {},
     "output_type": "execute_result"
    },
    {
     "data": {
      "image/png": "[encoded data removed]",
      "text/plain": [
       "<Figure size 432x288 with 1 Axes>"
      ]
     },
     "metadata": {
      "needs_background": "light"
     },
     "output_type": "display_data"
    }
   ],
   "source": [
    "# Age\n",
    "df['Age'].hist()"
   ]
  },
  {
   "cell_type": "code",
   "execution_count": 144,
   "id": "1a794d49",
   "metadata": {},
   "outputs": [],
   "source": [
    "# Age procces\n",
    "df[df['Age'] > 100] = None"
   ]
  },
  {
   "cell_type": "code",
   "execution_count": 145,
   "id": "fca30713",
   "metadata": {},
   "outputs": [
    {
     "data": {
      "text/plain": [
       "count     42943\n",
       "unique       53\n",
       "top          15\n",
       "freq       4324\n",
       "Name: Age1stCode, dtype: object"
      ]
     },
     "execution_count": 145,
     "metadata": {},
     "output_type": "execute_result"
    }
   ],
   "source": [
    "df['Age1stCode'].describe()"
   ]
  },
  {
   "cell_type": "code",
   "execution_count": 146,
   "id": "fb7c2da8",
   "metadata": {},
   "outputs": [
    {
     "data": {
      "text/plain": [
       "10884"
      ]
     },
     "execution_count": 146,
     "metadata": {},
     "output_type": "execute_result"
    }
   ],
   "source": [
    "df['CompFreq'].isna().sum()"
   ]
  },
  {
   "cell_type": "code",
   "execution_count": 147,
   "id": "fd2d88c6",
   "metadata": {},
   "outputs": [
    {
     "data": {
      "text/plain": [
       "0                2 to 9 employees\n",
       "1        1,000 to 4,999 employees\n",
       "3              20 to 99 employees\n",
       "5                             NaN\n",
       "6              20 to 99 employees\n",
       "                   ...           \n",
       "64154          20 to 99 employees\n",
       "64155                         NaN\n",
       "64157                         NaN\n",
       "64158                         NaN\n",
       "64159                         NaN\n",
       "Name: OrgSize, Length: 47193, dtype: object"
      ]
     },
     "execution_count": 147,
     "metadata": {},
     "output_type": "execute_result"
    }
   ],
   "source": [
    "df['OrgSize']"
   ]
  },
  {
   "cell_type": "code",
   "execution_count": 148,
   "id": "74c39aad",
   "metadata": {},
   "outputs": [],
   "source": [
    "def parse_org_size(row):\n",
    "    org_size = row['OrgSize']\n",
    "    if isinstance(org_size, str):\n",
    "        if not 'known' in org_size:\n",
    "            return org_size\n",
    "\n",
    "df['OrgSize'] = df.apply(parse_org_size, axis = 1)"
   ]
  },
  {
   "cell_type": "code",
   "execution_count": 149,
   "id": "bf7a2502",
   "metadata": {},
   "outputs": [],
   "source": [
    "# 'LanguageDesireNextYear', 'LanguageWorkedWith'\n",
    "\n",
    "def parse_languages_desire(row):\n",
    "    worked_with = row['LanguageWorkedWith']\n",
    "    next_year = row['LanguageDesireNextYear']\n",
    "    if isinstance(worked_with, str) and isinstance(next_year, str):\n",
    "        worked_with, next_year = worked_with.split(';'), next_year.split(';')\n",
    "        result = set(next_year) - set(worked_with)\n",
    "        return 1 if len(result) < len(next_year) else 0\n",
    "       \n",
    "\n",
    "df['LanguagesWorkedAndDesire'] = df.apply(parse_languages_desire, axis = 1)\n",
    "df.drop(['LanguageDesireNextYear', 'LanguageWorkedWith'], 1, inplace=True)"
   ]
  },
  {
   "cell_type": "code",
   "execution_count": 150,
   "id": "2dfbf2a4",
   "metadata": {
    "scrolled": true
   },
   "outputs": [
    {
     "data": {
      "text/plain": [
       "<AxesSubplot:>"
      ]
     },
     "execution_count": 150,
     "metadata": {},
     "output_type": "execute_result"
    },
    {
     "data": {
      "image/png": "[encoded data removed]",
      "text/plain": [
       "<Figure size 432x288 with 1 Axes>"
      ]
     },
     "metadata": {
      "needs_background": "light"
     },
     "output_type": "display_data"
    }
   ],
   "source": [
    "df['LanguagesWorkedAndDesire'].hist()"
   ]
  },
  {
   "cell_type": "code",
   "execution_count": 151,
   "id": "17517c0d",
   "metadata": {},
   "outputs": [],
   "source": [
    "# 'NEWCollabToolsDesireNextYear','NEWCollabToolsWorkedWith'\n",
    "\n",
    "def parse_languages_desire(row):\n",
    "    worked_with = row['NEWCollabToolsWorkedWith']\n",
    "    next_year = row['NEWCollabToolsDesireNextYear']\n",
    "    if isinstance(worked_with, str) and isinstance(next_year, str):\n",
    "        worked_with, next_year = worked_with.split(';'), next_year.split(';')\n",
    "        result = set(next_year) - set(worked_with)\n",
    "        return 1 if len(result) < len(next_year) else 0\n",
    "       \n",
    "\n",
    "df['CollabToolsWorkedAndDesire'] = df.apply(parse_languages_desire, axis = 1)\n",
    "df.drop(['NEWCollabToolsDesireNextYear', 'NEWCollabToolsWorkedWith'], 1, inplace=True)"
   ]
  },
  {
   "cell_type": "code",
   "execution_count": 152,
   "id": "128ec93b",
   "metadata": {
    "scrolled": true
   },
   "outputs": [
    {
     "data": {
      "text/plain": [
       "<AxesSubplot:>"
      ]
     },
     "execution_count": 152,
     "metadata": {},
     "output_type": "execute_result"
    },
    {
     "data": {
      "image/png": "[encoded data removed]",
      "text/plain": [
       "<Figure size 432x288 with 1 Axes>"
      ]
     },
     "metadata": {
      "needs_background": "light"
     },
     "output_type": "display_data"
    }
   ],
   "source": [
    "df['CollabToolsWorkedAndDesire'].hist()"
   ]
  },
  {
   "cell_type": "code",
   "execution_count": 153,
   "id": "dd6d3771",
   "metadata": {},
   "outputs": [],
   "source": [
    "# Class in 2 buckets.\n",
    "# [\"Slightly satisfied\", \"Very satisfied\"] -> 1\n",
    "# [\"Very dissatisfied\", \"Slightly dissatisfied\"] -> 0\n",
    "def job_sat(row):\n",
    "    job_sat = row[\"JobSat\"]\n",
    "    sat_labels = [\"Slightly satisfied\", \"Very satisfied\"]\n",
    "    not_sat_labels = [\"Very dissatisfied\", \"Slightly dissatisfied\"]\n",
    "    if isinstance(job_sat, str):\n",
    "        if job_sat in sat_labels:\n",
    "            return 1\n",
    "        elif job_sat in not_sat_labels:\n",
    "            return 0\n",
    "        \n",
    "df['JobSat'] = df.apply(job_sat, axis = 1)\n",
    "# Drop if JobSat (class) is null.\n",
    "df.dropna(subset = [\"JobSat\"], inplace=True)"
   ]
  },
  {
   "cell_type": "code",
   "execution_count": 154,
   "id": "c4bb530e",
   "metadata": {},
   "outputs": [],
   "source": [
    "# Gender\n",
    "def gender(row):\n",
    "    gender = row[\"Gender\"]\n",
    "    if isinstance(gender, str):\n",
    "        if gender == \"Man\":\n",
    "            return \"Man\"\n",
    "        elif gender == \"Woman\":\n",
    "            return \"Woman\"\n",
    "        else:\n",
    "            return \"Other\"\n",
    "        \n",
    "df['Gender'] = df.apply(gender, axis = 1)"
   ]
  },
  {
   "cell_type": "code",
   "execution_count": 155,
   "id": "396f950b",
   "metadata": {},
   "outputs": [],
   "source": [
    "# Country\n",
    "df.dropna(subset = [\"Country\"], inplace=True)\n",
    "TOP_COUNTRIES = df['Country'].value_counts().index[:25]\n",
    "def country(row):\n",
    "    country = row['Country']\n",
    "    if isinstance(country, str):\n",
    "        if country in TOP_COUNTRIES:\n",
    "            return country\n",
    "        else:\n",
    "            return 'Other'\n",
    "\n",
    "df['Country'] = df.apply(country, axis = 1)"
   ]
  },
  {
   "cell_type": "code",
   "execution_count": 156,
   "id": "7f5f97dd",
   "metadata": {},
   "outputs": [],
   "source": [
    "# Set class as last col.\n",
    "CLASS = 'JobSat'\n",
    "aux = df[CLASS]\n",
    "df.drop(CLASS, 1, inplace=True)\n",
    "df[CLASS] = aux"
   ]
  },
  {
   "cell_type": "code",
   "execution_count": 157,
   "id": "358b8528",
   "metadata": {},
   "outputs": [],
   "source": [
    "df.to_csv('data_first.csv', index=False)"
   ]
  }
 ],
 "metadata": {
  "kernelspec": {
   "display_name": "Python 3",
   "language": "python",
   "name": "python3"
  },
  "language_info": {
   "codemirror_mode": {
    "name": "ipython",
    "version": 3
   },
   "file_extension": ".py",
   "mimetype": "text/x-python",
   "name": "python",
   "nbconvert_exporter": "python",
   "pygments_lexer": "ipython3",
   "version": "3.8.8"
  }
 },
 "nbformat": 4,
 "nbformat_minor": 5
}
