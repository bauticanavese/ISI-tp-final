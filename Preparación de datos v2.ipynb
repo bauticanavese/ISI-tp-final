{
 "cells": [
  {
   "cell_type": "code",
   "execution_count": 142,
   "id": "fe2dd66b",
   "metadata": {},
   "outputs": [],
   "source": [
    "import pandas as pd\n",
    "import matplotlib.pyplot as plt\n",
    "import seaborn as sns\n",
    "import numpy as np"
   ]
  },
  {
   "cell_type": "code",
   "execution_count": 143,
   "id": "34f1c1d6",
   "metadata": {},
   "outputs": [],
   "source": [
    "# Agregar el dataset 'survey_results_public.csv' en el directorio data/\n",
    "df = pd.read_csv('data/survey_results_public.csv')"
   ]
  },
  {
   "cell_type": "code",
   "execution_count": 144,
   "id": "e27ac3f0",
   "metadata": {},
   "outputs": [
    {
     "data": {
      "text/plain": [
       "Bachelor’s degree (B.A., B.S., B.Eng., etc.)                                          26542\n",
       "Master’s degree (M.A., M.S., M.Eng., MBA, etc.)                                       13112\n",
       "Some college/university study without earning a degree                                 7239\n",
       "Secondary school (e.g. American high school, German Realschule or Gymnasium, etc.)     4771\n",
       "Associate degree (A.A., A.S., etc.)                                                    1843\n",
       "Other doctoral degree (Ph.D., Ed.D., etc.)                                             1690\n",
       "Primary/elementary school                                                               941\n",
       "Professional degree (JD, MD, etc.)                                                      800\n",
       "I never completed any formal education                                                  493\n",
       "Name: EdLevel, dtype: int64"
      ]
     },
     "execution_count": 144,
     "metadata": {},
     "output_type": "execute_result"
    }
   ],
   "source": [
    "df['EdLevel'].value_counts()"
   ]
  },
  {
   "cell_type": "code",
   "execution_count": 145,
   "id": "dc54c28f",
   "metadata": {
    "scrolled": true
   },
   "outputs": [
    {
     "name": "stdout",
     "output_type": "stream",
     "text": [
      "<class 'pandas.core.frame.DataFrame'>\n",
      "RangeIndex: 64461 entries, 0 to 64460\n",
      "Data columns (total 61 columns):\n",
      " #   Column                        Non-Null Count  Dtype  \n",
      "---  ------                        --------------  -----  \n",
      " 0   Respondent                    64461 non-null  int64  \n",
      " 1   MainBranch                    64162 non-null  object \n",
      " 2   Hobbyist                      64416 non-null  object \n",
      " 3   Age                           45446 non-null  float64\n",
      " 4   Age1stCode                    57900 non-null  object \n",
      " 5   CompFreq                      40069 non-null  object \n",
      " 6   CompTotal                     34826 non-null  float64\n",
      " 7   ConvertedComp                 34756 non-null  float64\n",
      " 8   Country                       64072 non-null  object \n",
      " 9   CurrencyDesc                  45472 non-null  object \n",
      " 10  CurrencySymbol                45472 non-null  object \n",
      " 11  DatabaseDesireNextYear        44070 non-null  object \n",
      " 12  DatabaseWorkedWith            49537 non-null  object \n",
      " 13  DevType                       49370 non-null  object \n",
      " 14  EdLevel                       57431 non-null  object \n",
      " 15  Employment                    63854 non-null  object \n",
      " 16  Ethnicity                     45948 non-null  object \n",
      " 17  Gender                        50557 non-null  object \n",
      " 18  JobFactors                    49349 non-null  object \n",
      " 19  JobSat                        45194 non-null  object \n",
      " 20  JobSeek                       51727 non-null  object \n",
      " 21  LanguageDesireNextYear        54113 non-null  object \n",
      " 22  LanguageWorkedWith            57378 non-null  object \n",
      " 23  MiscTechDesireNextYear        42379 non-null  object \n",
      " 24  MiscTechWorkedWith            40314 non-null  object \n",
      " 25  NEWCollabToolsDesireNextYear  47287 non-null  object \n",
      " 26  NEWCollabToolsWorkedWith      52883 non-null  object \n",
      " 27  NEWDevOps                     42686 non-null  object \n",
      " 28  NEWDevOpsImpt                 41732 non-null  object \n",
      " 29  NEWEdImpt                     48465 non-null  object \n",
      " 30  NEWJobHunt                    42286 non-null  object \n",
      " 31  NEWJobHuntResearch            41022 non-null  object \n",
      " 32  NEWLearn                      56156 non-null  object \n",
      " 33  NEWOffTopic                   50804 non-null  object \n",
      " 34  NEWOnboardGood                42623 non-null  object \n",
      " 35  NEWOtherComms                 57205 non-null  object \n",
      " 36  NEWOvertime                   43231 non-null  object \n",
      " 37  NEWPurchaseResearch           37321 non-null  object \n",
      " 38  NEWPurpleLink                 54803 non-null  object \n",
      " 39  NEWSOSites                    58275 non-null  object \n",
      " 40  NEWStuck                      54983 non-null  object \n",
      " 41  OpSys                         56228 non-null  object \n",
      " 42  OrgSize                       44334 non-null  object \n",
      " 43  PlatformDesireNextYear        50605 non-null  object \n",
      " 44  PlatformWorkedWith            53843 non-null  object \n",
      " 45  PurchaseWhat                  39364 non-null  object \n",
      " 46  Sexuality                     43992 non-null  object \n",
      " 47  SOAccount                     56805 non-null  object \n",
      " 48  SOComm                        56476 non-null  object \n",
      " 49  SOPartFreq                    46792 non-null  object \n",
      " 50  SOVisitFreq                   56970 non-null  object \n",
      " 51  SurveyEase                    51802 non-null  object \n",
      " 52  SurveyLength                  51701 non-null  object \n",
      " 53  Trans                         49345 non-null  object \n",
      " 54  UndergradMajor                50995 non-null  object \n",
      " 55  WebframeDesireNextYear        40024 non-null  object \n",
      " 56  WebframeWorkedWith            42279 non-null  object \n",
      " 57  WelcomeChange                 52683 non-null  object \n",
      " 58  WorkWeekHrs                   41151 non-null  float64\n",
      " 59  YearsCode                     57684 non-null  object \n",
      " 60  YearsCodePro                  46349 non-null  object \n",
      "dtypes: float64(4), int64(1), object(56)\n",
      "memory usage: 30.0+ MB\n"
     ]
    }
   ],
   "source": [
    "df.info()"
   ]
  },
  {
   "cell_type": "code",
   "execution_count": 146,
   "id": "c223a896",
   "metadata": {
    "scrolled": true
   },
   "outputs": [
    {
     "data": {
      "text/html": [
       "<div>\n",
       "<style scoped>\n",
       "    .dataframe tbody tr th:only-of-type {\n",
       "        vertical-align: middle;\n",
       "    }\n",
       "\n",
       "    .dataframe tbody tr th {\n",
       "        vertical-align: top;\n",
       "    }\n",
       "\n",
       "    .dataframe thead th {\n",
       "        text-align: right;\n",
       "    }\n",
       "</style>\n",
       "<table border=\"1\" class=\"dataframe\">\n",
       "  <thead>\n",
       "    <tr style=\"text-align: right;\">\n",
       "      <th></th>\n",
       "      <th>Respondent</th>\n",
       "      <th>Age</th>\n",
       "      <th>CompTotal</th>\n",
       "      <th>ConvertedComp</th>\n",
       "      <th>WorkWeekHrs</th>\n",
       "    </tr>\n",
       "  </thead>\n",
       "  <tbody>\n",
       "    <tr>\n",
       "      <th>count</th>\n",
       "      <td>64461.000000</td>\n",
       "      <td>45446.000000</td>\n",
       "      <td>3.482600e+04</td>\n",
       "      <td>3.475600e+04</td>\n",
       "      <td>41151.000000</td>\n",
       "    </tr>\n",
       "    <tr>\n",
       "      <th>mean</th>\n",
       "      <td>32554.079738</td>\n",
       "      <td>30.834111</td>\n",
       "      <td>3.190464e+242</td>\n",
       "      <td>1.037561e+05</td>\n",
       "      <td>40.782174</td>\n",
       "    </tr>\n",
       "    <tr>\n",
       "      <th>std</th>\n",
       "      <td>18967.442360</td>\n",
       "      <td>9.585392</td>\n",
       "      <td>inf</td>\n",
       "      <td>2.268853e+05</td>\n",
       "      <td>17.816383</td>\n",
       "    </tr>\n",
       "    <tr>\n",
       "      <th>min</th>\n",
       "      <td>1.000000</td>\n",
       "      <td>1.000000</td>\n",
       "      <td>0.000000e+00</td>\n",
       "      <td>0.000000e+00</td>\n",
       "      <td>1.000000</td>\n",
       "    </tr>\n",
       "    <tr>\n",
       "      <th>25%</th>\n",
       "      <td>16116.000000</td>\n",
       "      <td>24.000000</td>\n",
       "      <td>2.000000e+04</td>\n",
       "      <td>2.464800e+04</td>\n",
       "      <td>40.000000</td>\n",
       "    </tr>\n",
       "    <tr>\n",
       "      <th>50%</th>\n",
       "      <td>32231.000000</td>\n",
       "      <td>29.000000</td>\n",
       "      <td>6.300000e+04</td>\n",
       "      <td>5.404900e+04</td>\n",
       "      <td>40.000000</td>\n",
       "    </tr>\n",
       "    <tr>\n",
       "      <th>75%</th>\n",
       "      <td>49142.000000</td>\n",
       "      <td>35.000000</td>\n",
       "      <td>1.250000e+05</td>\n",
       "      <td>9.500000e+04</td>\n",
       "      <td>44.000000</td>\n",
       "    </tr>\n",
       "    <tr>\n",
       "      <th>max</th>\n",
       "      <td>65639.000000</td>\n",
       "      <td>279.000000</td>\n",
       "      <td>1.111111e+247</td>\n",
       "      <td>2.000000e+06</td>\n",
       "      <td>475.000000</td>\n",
       "    </tr>\n",
       "  </tbody>\n",
       "</table>\n",
       "</div>"
      ],
      "text/plain": [
       "         Respondent           Age      CompTotal  ConvertedComp   WorkWeekHrs\n",
       "count  64461.000000  45446.000000   3.482600e+04   3.475600e+04  41151.000000\n",
       "mean   32554.079738     30.834111  3.190464e+242   1.037561e+05     40.782174\n",
       "std    18967.442360      9.585392            inf   2.268853e+05     17.816383\n",
       "min        1.000000      1.000000   0.000000e+00   0.000000e+00      1.000000\n",
       "25%    16116.000000     24.000000   2.000000e+04   2.464800e+04     40.000000\n",
       "50%    32231.000000     29.000000   6.300000e+04   5.404900e+04     40.000000\n",
       "75%    49142.000000     35.000000   1.250000e+05   9.500000e+04     44.000000\n",
       "max    65639.000000    279.000000  1.111111e+247   2.000000e+06    475.000000"
      ]
     },
     "execution_count": 146,
     "metadata": {},
     "output_type": "execute_result"
    }
   ],
   "source": [
    "df.describe()"
   ]
  },
  {
   "cell_type": "code",
   "execution_count": 147,
   "id": "c3fd56e7",
   "metadata": {},
   "outputs": [],
   "source": [
    "ATTRS = ['Age', 'MainBranch', 'CompFreq', 'ConvertedComp', 'Country', 'DevType', \n",
    "           'EdLevel', 'Employment', 'JobSeek', 'NEWOnboardGood', \n",
    "           'NEWOvertime', 'OrgSize', 'WorkWeekHrs', 'YearsCodePro',\n",
    "          'JobSat']\n",
    "\n",
    "df = df[ATTRS]"
   ]
  },
  {
   "cell_type": "code",
   "execution_count": 148,
   "id": "9cbbe2ea",
   "metadata": {},
   "outputs": [],
   "source": [
    "# Only developers by profession.\n",
    "df = df[df['MainBranch'] == 'I am a developer by profession']\n",
    "df.drop('MainBranch', 1, inplace=True)"
   ]
  },
  {
   "cell_type": "code",
   "execution_count": 149,
   "id": "753bdb49",
   "metadata": {
    "scrolled": true
   },
   "outputs": [
    {
     "name": "stdout",
     "output_type": "stream",
     "text": [
      "<class 'pandas.core.frame.DataFrame'>\n",
      "Int64Index: 47193 entries, 0 to 64159\n",
      "Data columns (total 14 columns):\n",
      " #   Column          Non-Null Count  Dtype  \n",
      "---  ------          --------------  -----  \n",
      " 0   Age             34348 non-null  float64\n",
      " 1   CompFreq        36310 non-null  object \n",
      " 2   ConvertedComp   31581 non-null  float64\n",
      " 3   Country         47008 non-null  object \n",
      " 4   DevType         41733 non-null  object \n",
      " 5   EdLevel         42781 non-null  object \n",
      " 6   Employment      46930 non-null  object \n",
      " 7   JobSeek         40376 non-null  object \n",
      " 8   NEWOnboardGood  38498 non-null  object \n",
      " 9   NEWOvertime     39032 non-null  object \n",
      " 10  OrgSize         40048 non-null  object \n",
      " 11  WorkWeekHrs     37203 non-null  float64\n",
      " 12  YearsCodePro    41087 non-null  object \n",
      " 13  JobSat          40764 non-null  object \n",
      "dtypes: float64(3), object(11)\n",
      "memory usage: 5.4+ MB\n"
     ]
    }
   ],
   "source": [
    "df.info()"
   ]
  },
  {
   "cell_type": "markdown",
   "id": "7d576c53",
   "metadata": {},
   "source": [
    "### JobSat"
   ]
  },
  {
   "cell_type": "code",
   "execution_count": 150,
   "id": "3317a594",
   "metadata": {},
   "outputs": [],
   "source": [
    "# Class in 2 buckets.\n",
    "# [\"Slightly satisfied\", \"Very satisfied\"] -> 1\n",
    "# [\"Very dissatisfied\", \"Slightly dissatisfied\"] -> 0\n",
    "def job_sat(row):\n",
    "    job_sat = row[\"JobSat\"]\n",
    "    sat_labels = [\"Slightly satisfied\", \"Very satisfied\"]\n",
    "    not_sat_labels = [\"Very dissatisfied\", \"Slightly dissatisfied\"]\n",
    "    if isinstance(job_sat, str):\n",
    "        if job_sat in sat_labels:\n",
    "            return 1\n",
    "        elif job_sat in not_sat_labels:\n",
    "            return 0\n",
    "        \n",
    "df['JobSat'] = df.apply(job_sat, axis = 1)\n",
    "# Drop if JobSat (class) is null.\n",
    "df.dropna(subset = [\"JobSat\"], inplace=True)"
   ]
  },
  {
   "cell_type": "code",
   "execution_count": 151,
   "id": "9c61b681",
   "metadata": {},
   "outputs": [
    {
     "data": {
      "text/plain": [
       "<AxesSubplot:title={'center':'Cantidad de personas en cada nivel de satisfacción'}>"
      ]
     },
     "execution_count": 151,
     "metadata": {},
     "output_type": "execute_result"
    },
    {
     "data": {
      "image/png": "[encoded data removed]",
      "text/plain": [
       "<Figure size 432x288 with 1 Axes>"
      ]
     },
     "metadata": {
      "needs_background": "light"
     },
     "output_type": "display_data"
    }
   ],
   "source": [
    "df['JobSat'].value_counts().plot(kind = 'bar', rot=0, title='Cantidad de personas en cada nivel de satisfacción')"
   ]
  },
  {
   "cell_type": "markdown",
   "id": "6da84054",
   "metadata": {},
   "source": [
    "### Age"
   ]
  },
  {
   "cell_type": "code",
   "execution_count": 152,
   "id": "23d10509",
   "metadata": {},
   "outputs": [],
   "source": [
    "# Age procces\n",
    "df[df['Age'] > 100] = None\n",
    "df[df['Age'] < 16] = None"
   ]
  },
  {
   "cell_type": "markdown",
   "id": "a5f66aa7",
   "metadata": {},
   "source": [
    "### CompFreq"
   ]
  },
  {
   "cell_type": "code",
   "execution_count": 153,
   "id": "3b7bc9ec",
   "metadata": {},
   "outputs": [],
   "source": [
    "df['CompFreq'].value_counts()\n",
    "df.dropna(subset = [\"CompFreq\"], inplace=True)"
   ]
  },
  {
   "cell_type": "markdown",
   "id": "f55cf62f",
   "metadata": {},
   "source": [
    "### ConvertedComp"
   ]
  },
  {
   "cell_type": "code",
   "execution_count": 154,
   "id": "00a42646",
   "metadata": {},
   "outputs": [],
   "source": [
    "# Esta ok hay algunos casos medio raro de 1M y 2M de USD."
   ]
  },
  {
   "cell_type": "markdown",
   "id": "ef9b8724",
   "metadata": {},
   "source": [
    "### Country"
   ]
  },
  {
   "cell_type": "code",
   "execution_count": 155,
   "id": "bd52988d",
   "metadata": {},
   "outputs": [],
   "source": [
    "# Que carajos hacemos aca. :)"
   ]
  },
  {
   "cell_type": "markdown",
   "id": "782553e4",
   "metadata": {},
   "source": [
    "### DevType"
   ]
  },
  {
   "cell_type": "code",
   "execution_count": 156,
   "id": "e7963110",
   "metadata": {},
   "outputs": [],
   "source": [
    "# DevType proccess.\n",
    "# TOP 6 types.\n",
    "# Developer, back-end\n",
    "# 55.2%\n",
    "# Developer, full-stack\n",
    "# 54.9%\n",
    "# Developer, front-end\n",
    "# 37.1%\n",
    "# Developer, desktop or enterprise applications\n",
    "# 23.9%\n",
    "# Developer, mobile\n",
    "# 19.2%\n",
    "# DevOps specialist\n",
    "DEV_TYPES = ['Developer, back-end', 'Developer, full-stack', 'Developer, front-end',\n",
    "    'Developer, desktop or enterprise applications', 'Developer, mobile', 'DevOps specialist']\n",
    "\n",
    "for dev_type in DEV_TYPES:\n",
    "    t = dev_type.replace('-', ' ').split(' ')\n",
    "    t = ''.join([x.capitalize() for x in t]).replace(',', '')\n",
    "    \n",
    "    df['DevType' + t] = np.where(df['DevType'].str.contains(dev_type), 1, 0)\n",
    "\n",
    "df['DevTypeOther'] = np.where(\n",
    "    (df['DevTypeDeveloperBackEnd'] == 0) & (df['DevTypeDeveloperFullStack'] == 0)\n",
    "    & (df['DevTypeDeveloperFrontEnd'] == 0) & (df['DevTypeDeveloperDesktopOrEnterpriseApplications'] == 0) &\n",
    "    (df['DevTypeDeveloperMobile'] == 0) & (df['DevTypeDevopsSpecialist'] == 0), \n",
    "    1, 0)\n",
    "\n",
    "df.drop('DevType', 1, inplace=True)"
   ]
  },
  {
   "cell_type": "markdown",
   "id": "4ad5a005",
   "metadata": {},
   "source": [
    "### EdLevel"
   ]
  },
  {
   "cell_type": "code",
   "execution_count": 157,
   "id": "04bbff22",
   "metadata": {},
   "outputs": [],
   "source": [
    "def ed_level(row):\n",
    "    ed_level = row[\"EdLevel\"]\n",
    "    master_level = [\"Master’s degree (M.A., M.S., M.Eng., MBA, etc.)\", \"Other doctoral degree (Ph.D., Ed.D., etc.)\"]\n",
    "    university_level = [\"Bachelor’s degree (B.A., B.S., B.Eng., etc.)\", \"Some college/university study without earning a degree\", \"Associate degree (A.A., A.S., etc.)\", \"Professional degree (JD, MD, etc.)\"]\n",
    "    school = [\"Secondary school (e.g. American high school, German Realschule or Gymnasium, etc.)\", \"Primary/elementary school\"]\n",
    "    if isinstance(ed_level, str):\n",
    "        if ed_level in master_level:\n",
    "            return \"Master/Doctoral\"\n",
    "        elif ed_level in university_level:\n",
    "            return \"University\"\n",
    "        elif ed_level in school:\n",
    "            return \"School\"\n",
    "        return \"Any education\"\n",
    "        \n",
    "df['EdLevel'] = df.apply(ed_level, axis = 1)\n",
    "df.dropna(subset = [\"EdLevel\"], inplace=True)"
   ]
  },
  {
   "cell_type": "code",
   "execution_count": 158,
   "id": "b8c6d7ce",
   "metadata": {},
   "outputs": [
    {
     "data": {
      "text/plain": [
       "University         20902\n",
       "Master/Doctoral     8649\n",
       "School              1457\n",
       "Any education        171\n",
       "Name: EdLevel, dtype: int64"
      ]
     },
     "execution_count": 158,
     "metadata": {},
     "output_type": "execute_result"
    }
   ],
   "source": [
    "df['EdLevel'].value_counts()"
   ]
  },
  {
   "cell_type": "markdown",
   "id": "acef8761",
   "metadata": {},
   "source": [
    "### Employment"
   ]
  },
  {
   "cell_type": "code",
   "execution_count": 159,
   "id": "6bf17ff4",
   "metadata": {
    "scrolled": true
   },
   "outputs": [
    {
     "data": {
      "text/plain": [
       "Employed full-time                                      27472\n",
       "Independent contractor, freelancer, or self-employed     2767\n",
       "Employed part-time                                        903\n",
       "Name: Employment, dtype: int64"
      ]
     },
     "execution_count": 159,
     "metadata": {},
     "output_type": "execute_result"
    }
   ],
   "source": [
    "df['Employment'].value_counts()"
   ]
  },
  {
   "cell_type": "code",
   "execution_count": 160,
   "id": "19b0dfc4",
   "metadata": {},
   "outputs": [],
   "source": [
    "df['Employment'].value_counts()\n",
    "\n",
    "def clasificar_employment(row):\n",
    "    employment = row['Employment']\n",
    "    if isinstance(employment, str):\n",
    "        if employment == \"Employed full-time\":\n",
    "            return \"FullTime\"\n",
    "        elif employment == \"Independent contractor, freelancer, or self-employed\":\n",
    "            return \"Freelance\"\n",
    "        return \"PartTime\"\n",
    "\n",
    "df['Employment'] = df.apply(clasificar_employment, axis = 1)"
   ]
  },
  {
   "cell_type": "code",
   "execution_count": 161,
   "id": "e6b720e6",
   "metadata": {
    "scrolled": true
   },
   "outputs": [],
   "source": [
    "df = df[df['Employment'] != \"Freelance\"]\n",
    "df.drop('Employment', 1, inplace=True)"
   ]
  },
  {
   "cell_type": "markdown",
   "id": "059cd607",
   "metadata": {},
   "source": [
    "### JobSeek"
   ]
  },
  {
   "cell_type": "code",
   "execution_count": 162,
   "id": "8b84b90f",
   "metadata": {},
   "outputs": [
    {
     "data": {
      "text/plain": [
       "I’m not actively looking, but I am open to new opportunities    15852\n",
       "I am not interested in new job opportunities                     8187\n",
       "I am actively looking for a job                                  3365\n",
       "Name: JobSeek, dtype: int64"
      ]
     },
     "execution_count": 162,
     "metadata": {},
     "output_type": "execute_result"
    }
   ],
   "source": [
    "df['JobSeek'].value_counts()"
   ]
  },
  {
   "cell_type": "code",
   "execution_count": 163,
   "id": "4a9f4e8a",
   "metadata": {},
   "outputs": [],
   "source": [
    "def clasificar_jobseek(row):\n",
    "    seek = row['JobSeek']\n",
    "    if isinstance(seek, str):\n",
    "        if \"I’m not actively looking\" in seek:\n",
    "            return \"NoButOpenToOpportunities\"\n",
    "        elif \"I am not interested in new job opportunities\" in seek:\n",
    "            return \"No\"\n",
    "        return \"Yes\"\n",
    "\n",
    "df['JobSeek'] = df.apply(clasificar_jobseek, axis = 1)\n",
    "df['LookingForJob'] = df['JobSeek']\n",
    "df.drop('JobSeek', 1, inplace=True)\n",
    "df.dropna(subset = [\"LookingForJob\"], inplace=True)"
   ]
  },
  {
   "cell_type": "code",
   "execution_count": 164,
   "id": "9380fc31",
   "metadata": {
    "scrolled": true
   },
   "outputs": [
    {
     "data": {
      "text/plain": [
       "NoButOpenToOpportunities    15852\n",
       "No                           8187\n",
       "Yes                          3365\n",
       "Name: LookingForJob, dtype: int64"
      ]
     },
     "execution_count": 164,
     "metadata": {},
     "output_type": "execute_result"
    }
   ],
   "source": [
    "df['LookingForJob'].value_counts()"
   ]
  },
  {
   "cell_type": "markdown",
   "id": "351d46b9",
   "metadata": {},
   "source": [
    "### NEWOnboardGood"
   ]
  },
  {
   "cell_type": "code",
   "execution_count": 165,
   "id": "94c8003e",
   "metadata": {},
   "outputs": [
    {
     "data": {
      "text/plain": [
       "Yes                             14203\n",
       "No                               7903\n",
       "Onboarding? What onboarding?     4995\n",
       "Name: NEWOnboardGood, dtype: int64"
      ]
     },
     "execution_count": 165,
     "metadata": {},
     "output_type": "execute_result"
    }
   ],
   "source": [
    "df['NEWOnboardGood'].value_counts()"
   ]
  },
  {
   "cell_type": "code",
   "execution_count": 166,
   "id": "2d25f6c3",
   "metadata": {},
   "outputs": [],
   "source": [
    "df[df['NEWOnboardGood'] == \"Onboarding? What onboarding?\"] = None"
   ]
  },
  {
   "cell_type": "code",
   "execution_count": 167,
   "id": "e354b88d",
   "metadata": {},
   "outputs": [
    {
     "data": {
      "text/plain": [
       "Yes    14203\n",
       "No      7903\n",
       "Name: NEWOnboardGood, dtype: int64"
      ]
     },
     "execution_count": 167,
     "metadata": {},
     "output_type": "execute_result"
    }
   ],
   "source": [
    "df['NEWOnboardGood'].value_counts()"
   ]
  },
  {
   "cell_type": "code",
   "execution_count": 168,
   "id": "fca83b7b",
   "metadata": {},
   "outputs": [],
   "source": [
    "df.dropna(subset = [\"NEWOnboardGood\"], inplace=True)"
   ]
  },
  {
   "cell_type": "markdown",
   "id": "51d52165",
   "metadata": {},
   "source": [
    "### NEWOvertime"
   ]
  },
  {
   "cell_type": "code",
   "execution_count": 169,
   "id": "8b6c0a4d",
   "metadata": {},
   "outputs": [
    {
     "data": {
      "text/plain": [
       "Sometimes: 1-2 days per month but less than weekly          6019\n",
       "Occasionally: 1-2 days per quarter but less than monthly    5167\n",
       "Often: 1-2 days per week or more                            4846\n",
       "Rarely: 1-2 days per year or less                           3567\n",
       "Never                                                       2444\n",
       "Name: NEWOvertime, dtype: int64"
      ]
     },
     "execution_count": 169,
     "metadata": {},
     "output_type": "execute_result"
    }
   ],
   "source": [
    "df['NEWOvertime'].value_counts()"
   ]
  },
  {
   "cell_type": "code",
   "execution_count": 170,
   "id": "ebebb467",
   "metadata": {},
   "outputs": [],
   "source": [
    "def clasificar_overtime(row):\n",
    "    overtime = row['NEWOvertime']\n",
    "    if isinstance(overtime, str):\n",
    "        if \"1-2 days per month but less than weekly\" in overtime:\n",
    "            return \"Sometimes\"\n",
    "        elif \"1-2 days per week or more\" in overtime:\n",
    "            return \"Often\"\n",
    "        elif \"1-2 days per quarter but less than monthly\" in overtime:\n",
    "            return \"Occasionally\"\n",
    "        elif \"1-2 days per year or less\" in overtime:\n",
    "            return \"Rarely\"\n",
    "        return \"Never\"\n",
    "\n",
    "df['NEWOvertime'] = df.apply(clasificar_overtime, axis = 1)"
   ]
  },
  {
   "cell_type": "code",
   "execution_count": 171,
   "id": "46160979",
   "metadata": {
    "scrolled": true
   },
   "outputs": [
    {
     "data": {
      "text/plain": [
       "Sometimes       6019\n",
       "Occasionally    5167\n",
       "Often           4846\n",
       "Rarely          3567\n",
       "Never           2444\n",
       "Name: NEWOvertime, dtype: int64"
      ]
     },
     "execution_count": 171,
     "metadata": {},
     "output_type": "execute_result"
    }
   ],
   "source": [
    "df['NEWOvertime'].value_counts()"
   ]
  },
  {
   "cell_type": "code",
   "execution_count": 172,
   "id": "04f46f74",
   "metadata": {},
   "outputs": [],
   "source": [
    "df.dropna(subset = [\"NEWOnboardGood\"], inplace=True)"
   ]
  },
  {
   "cell_type": "markdown",
   "id": "d9d169ef",
   "metadata": {},
   "source": [
    "### OrgSize"
   ]
  },
  {
   "cell_type": "code",
   "execution_count": 173,
   "id": "a7ac0230",
   "metadata": {},
   "outputs": [
    {
     "data": {
      "text/plain": [
       "20 to 99 employees                                    5014\n",
       "100 to 499 employees                                  4635\n",
       "10,000 or more employees                              3409\n",
       "1,000 to 4,999 employees                              2698\n",
       "10 to 19 employees                                    1950\n",
       "500 to 999 employees                                  1632\n",
       "2 to 9 employees                                      1442\n",
       "5,000 to 9,999 employees                               964\n",
       "Just me - I am a freelancer, sole proprietor, etc.      57\n",
       "Name: OrgSize, dtype: int64"
      ]
     },
     "execution_count": 173,
     "metadata": {},
     "output_type": "execute_result"
    }
   ],
   "source": [
    "df['OrgSize'].value_counts()"
   ]
  },
  {
   "cell_type": "code",
   "execution_count": 174,
   "id": "f317a54a",
   "metadata": {
    "scrolled": false
   },
   "outputs": [],
   "source": [
    "def org_size(row):\n",
    "    size = row['OrgSize']\n",
    "    if isinstance(size, str):\n",
    "        if \"I am a freelancer\" in size:\n",
    "            return None\n",
    "        return size.replace('employees', '').replace(' to ', '-').replace(' ', '').replace(',', '.')\n",
    "\n",
    "#         size_range = size_range.split('-')\n",
    "#         if size_range[0] == \"10,000 or more \":\n",
    "#             n1 = 1000000\n",
    "#         else:\n",
    "#             n1 = int(size_range[0].replace(',', ''))\n",
    "#             print(n1)\n",
    "            \n",
    "#         if n1 < 100:\n",
    "#             return 'Small'\n",
    "#         elif n1 < 1000:\n",
    "#             return 'Medium'\n",
    "#         return 'Big'\n",
    "\n",
    "\n",
    "df['OrgSize'] = df.apply(org_size, axis = 1)"
   ]
  },
  {
   "cell_type": "code",
   "execution_count": 175,
   "id": "bcdf5701",
   "metadata": {},
   "outputs": [
    {
     "data": {
      "text/plain": [
       "20-99           5014\n",
       "100-499         4635\n",
       "10.000ormore    3409\n",
       "1.000-4.999     2698\n",
       "10-19           1950\n",
       "500-999         1632\n",
       "2-9             1442\n",
       "5.000-9.999      964\n",
       "Name: OrgSize, dtype: int64"
      ]
     },
     "execution_count": 175,
     "metadata": {},
     "output_type": "execute_result"
    }
   ],
   "source": [
    "df['OrgSize'].value_counts()\n",
    "df.dropna(subset = [\"OrgSize\"], inplace=True)"
   ]
  },
  {
   "cell_type": "markdown",
   "id": "e28f0a9d",
   "metadata": {},
   "source": [
    "### WorkWeekHrs"
   ]
  },
  {
   "cell_type": "code",
   "execution_count": 176,
   "id": "0e49ba9e",
   "metadata": {},
   "outputs": [],
   "source": [
    "# 16 hs * 7 days\n",
    "df['WorkWeekHrs'] = df['WorkWeekHrs'].apply(lambda x: None if x >= 112 else x)"
   ]
  },
  {
   "cell_type": "code",
   "execution_count": 177,
   "id": "a0e6c95e",
   "metadata": {
    "scrolled": true
   },
   "outputs": [
    {
     "data": {
      "text/plain": [
       "40.0     10784\n",
       "45.0      1998\n",
       "50.0      1194\n",
       "35.0      1069\n",
       "38.0       780\n",
       "         ...  \n",
       "98.0         1\n",
       "68.0         1\n",
       "17.0         1\n",
       "110.0        1\n",
       "39.5         1\n",
       "Name: WorkWeekHrs, Length: 113, dtype: int64"
      ]
     },
     "execution_count": 177,
     "metadata": {},
     "output_type": "execute_result"
    }
   ],
   "source": [
    "df['WorkWeekHrs'].value_counts()"
   ]
  },
  {
   "cell_type": "markdown",
   "id": "68f4d583",
   "metadata": {},
   "source": [
    "### YearsCodePro"
   ]
  },
  {
   "cell_type": "code",
   "execution_count": 178,
   "id": "6c4bdce0",
   "metadata": {},
   "outputs": [],
   "source": [
    "# More than 50 years --> 51\n",
    "df.YearsCodePro = [0.5 if x == \"Less than 1 year\" else 51 if x == \"More than 50 years\" else x for x in df.YearsCodePro]"
   ]
  },
  {
   "cell_type": "markdown",
   "id": "f55ed8f0",
   "metadata": {},
   "source": [
    "### JobSat"
   ]
  },
  {
   "cell_type": "code",
   "execution_count": 179,
   "id": "396f950b",
   "metadata": {},
   "outputs": [],
   "source": [
    "# Country\n",
    "df.dropna(subset = [\"Country\"], inplace=True)\n",
    "TOP_COUNTRIES = df['Country'].value_counts().index[:25]\n",
    "def country(row):\n",
    "    country = row['Country']\n",
    "    if isinstance(country, str):\n",
    "        if country in TOP_COUNTRIES:\n",
    "            return country\n",
    "        else:\n",
    "            return 'Other'\n",
    "\n",
    "df['Country'] = df.apply(country, axis = 1)"
   ]
  },
  {
   "cell_type": "code",
   "execution_count": 180,
   "id": "7f5f97dd",
   "metadata": {},
   "outputs": [],
   "source": [
    "# Set class as last col.\n",
    "CLASS = 'JobSat'\n",
    "aux = df[CLASS]\n",
    "df.drop(CLASS, 1, inplace=True)\n",
    "df[CLASS] = aux"
   ]
  },
  {
   "cell_type": "code",
   "execution_count": 181,
   "id": "08914e54",
   "metadata": {},
   "outputs": [],
   "source": [
    "# j0 = df[df['JobSat'] == 0]\n",
    "# j1 = df[df['JobSat'] == 1].sample(5751)\n",
    "\n",
    "# df = pd.concat([j0, j1])"
   ]
  },
  {
   "cell_type": "code",
   "execution_count": 182,
   "id": "358b8528",
   "metadata": {},
   "outputs": [],
   "source": [
    "df.to_csv('20feb.csv', index=False)"
   ]
  },
  {
   "cell_type": "code",
   "execution_count": null,
   "id": "9ae5b221",
   "metadata": {},
   "outputs": [],
   "source": []
  }
 ],
 "metadata": {
  "kernelspec": {
   "display_name": "Python 3",
   "language": "python",
   "name": "python3"
  },
  "language_info": {
   "codemirror_mode": {
    "name": "ipython",
    "version": 3
   },
   "file_extension": ".py",
   "mimetype": "text/x-python",
   "name": "python",
   "nbconvert_exporter": "python",
   "pygments_lexer": "ipython3",
   "version": "3.8.8"
  }
 },
 "nbformat": 4,
 "nbformat_minor": 5
}
