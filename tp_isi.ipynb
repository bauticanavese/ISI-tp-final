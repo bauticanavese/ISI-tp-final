{
 "cells": [
  {
   "cell_type": "markdown",
   "id": "0ad71df3",
   "metadata": {},
   "source": [
    "# TP ISI"
   ]
  },
  {
   "cell_type": "markdown",
   "id": "dcdd3bdf",
   "metadata": {},
   "source": [
    "### Importo Bibliotecas"
   ]
  },
  {
   "cell_type": "code",
   "execution_count": 1223,
   "id": "de59ead9",
   "metadata": {},
   "outputs": [],
   "source": [
    "import pandas as pd"
   ]
  },
  {
   "cell_type": "markdown",
   "id": "511896c4",
   "metadata": {},
   "source": [
    "### Lectura de datos"
   ]
  },
  {
   "cell_type": "code",
   "execution_count": 1224,
   "id": "deb2cfbb",
   "metadata": {},
   "outputs": [],
   "source": [
    "df = pd.read_csv('data/survey_results_public.csv')"
   ]
  },
  {
   "cell_type": "markdown",
   "id": "f7f333f7",
   "metadata": {},
   "source": [
    "### Columnas"
   ]
  },
  {
   "cell_type": "code",
   "execution_count": 1225,
   "id": "622304ec",
   "metadata": {},
   "outputs": [
    {
     "name": "stdout",
     "output_type": "stream",
     "text": [
      "<class 'pandas.core.frame.DataFrame'>\n",
      "RangeIndex: 64461 entries, 0 to 64460\n",
      "Data columns (total 61 columns):\n",
      " #   Column                        Non-Null Count  Dtype  \n",
      "---  ------                        --------------  -----  \n",
      " 0   Respondent                    64461 non-null  int64  \n",
      " 1   MainBranch                    64162 non-null  object \n",
      " 2   Hobbyist                      64416 non-null  object \n",
      " 3   Age                           45446 non-null  float64\n",
      " 4   Age1stCode                    57900 non-null  object \n",
      " 5   CompFreq                      40069 non-null  object \n",
      " 6   CompTotal                     34826 non-null  float64\n",
      " 7   ConvertedComp                 34756 non-null  float64\n",
      " 8   Country                       64072 non-null  object \n",
      " 9   CurrencyDesc                  45472 non-null  object \n",
      " 10  CurrencySymbol                45472 non-null  object \n",
      " 11  DatabaseDesireNextYear        44070 non-null  object \n",
      " 12  DatabaseWorkedWith            49537 non-null  object \n",
      " 13  DevType                       49370 non-null  object \n",
      " 14  EdLevel                       57431 non-null  object \n",
      " 15  Employment                    63854 non-null  object \n",
      " 16  Ethnicity                     45948 non-null  object \n",
      " 17  Gender                        50557 non-null  object \n",
      " 18  JobFactors                    49349 non-null  object \n",
      " 19  JobSat                        45194 non-null  object \n",
      " 20  JobSeek                       51727 non-null  object \n",
      " 21  LanguageDesireNextYear        54113 non-null  object \n",
      " 22  LanguageWorkedWith            57378 non-null  object \n",
      " 23  MiscTechDesireNextYear        42379 non-null  object \n",
      " 24  MiscTechWorkedWith            40314 non-null  object \n",
      " 25  NEWCollabToolsDesireNextYear  47287 non-null  object \n",
      " 26  NEWCollabToolsWorkedWith      52883 non-null  object \n",
      " 27  NEWDevOps                     42686 non-null  object \n",
      " 28  NEWDevOpsImpt                 41732 non-null  object \n",
      " 29  NEWEdImpt                     48465 non-null  object \n",
      " 30  NEWJobHunt                    42286 non-null  object \n",
      " 31  NEWJobHuntResearch            41022 non-null  object \n",
      " 32  NEWLearn                      56156 non-null  object \n",
      " 33  NEWOffTopic                   50804 non-null  object \n",
      " 34  NEWOnboardGood                42623 non-null  object \n",
      " 35  NEWOtherComms                 57205 non-null  object \n",
      " 36  NEWOvertime                   43231 non-null  object \n",
      " 37  NEWPurchaseResearch           37321 non-null  object \n",
      " 38  NEWPurpleLink                 54803 non-null  object \n",
      " 39  NEWSOSites                    58275 non-null  object \n",
      " 40  NEWStuck                      54983 non-null  object \n",
      " 41  OpSys                         56228 non-null  object \n",
      " 42  OrgSize                       44334 non-null  object \n",
      " 43  PlatformDesireNextYear        50605 non-null  object \n",
      " 44  PlatformWorkedWith            53843 non-null  object \n",
      " 45  PurchaseWhat                  39364 non-null  object \n",
      " 46  Sexuality                     43992 non-null  object \n",
      " 47  SOAccount                     56805 non-null  object \n",
      " 48  SOComm                        56476 non-null  object \n",
      " 49  SOPartFreq                    46792 non-null  object \n",
      " 50  SOVisitFreq                   56970 non-null  object \n",
      " 51  SurveyEase                    51802 non-null  object \n",
      " 52  SurveyLength                  51701 non-null  object \n",
      " 53  Trans                         49345 non-null  object \n",
      " 54  UndergradMajor                50995 non-null  object \n",
      " 55  WebframeDesireNextYear        40024 non-null  object \n",
      " 56  WebframeWorkedWith            42279 non-null  object \n",
      " 57  WelcomeChange                 52683 non-null  object \n",
      " 58  WorkWeekHrs                   41151 non-null  float64\n",
      " 59  YearsCode                     57684 non-null  object \n",
      " 60  YearsCodePro                  46349 non-null  object \n",
      "dtypes: float64(4), int64(1), object(56)\n",
      "memory usage: 30.0+ MB\n"
     ]
    }
   ],
   "source": [
    "df.info()"
   ]
  },
  {
   "cell_type": "markdown",
   "id": "fddc59d8",
   "metadata": {},
   "source": [
    "### Cantidad de datos en jos sat"
   ]
  },
  {
   "cell_type": "code",
   "execution_count": 1226,
   "id": "997cc0c4",
   "metadata": {},
   "outputs": [
    {
     "data": {
      "text/plain": [
       "Very satisfied                        14611\n",
       "Slightly satisfied                    13930\n",
       "Slightly dissatisfied                  7124\n",
       "Neither satisfied nor dissatisfied     5783\n",
       "Very dissatisfied                      3746\n",
       "Name: JobSat, dtype: int64"
      ]
     },
     "execution_count": 1226,
     "metadata": {},
     "output_type": "execute_result"
    }
   ],
   "source": [
    "df['JobSat'].value_counts()"
   ]
  },
  {
   "cell_type": "markdown",
   "id": "55e51d0f",
   "metadata": {},
   "source": [
    "### Respondent"
   ]
  },
  {
   "cell_type": "code",
   "execution_count": 1227,
   "id": "1db19ea4",
   "metadata": {},
   "outputs": [],
   "source": [
    "# Es el numero de encuestado, se elimina\n",
    "df.drop(['Respondent'], axis=1, inplace=True)"
   ]
  },
  {
   "cell_type": "markdown",
   "id": "2c2593a1",
   "metadata": {},
   "source": [
    "### MainBranch"
   ]
  },
  {
   "cell_type": "code",
   "execution_count": 1228,
   "id": "a4b10519",
   "metadata": {},
   "outputs": [
    {
     "data": {
      "text/plain": [
       "I am a developer by profession                                                   47193\n",
       "I am a student who is learning to code                                            7970\n",
       "I am not primarily a developer, but I write code sometimes as part of my work     5502\n",
       "I code primarily as a hobby                                                       2314\n",
       "I used to be a developer by profession, but no longer am                          1183\n",
       "Name: MainBranch, dtype: int64"
      ]
     },
     "execution_count": 1228,
     "metadata": {},
     "output_type": "execute_result"
    }
   ],
   "source": [
    "df['MainBranch'].value_counts()"
   ]
  },
  {
   "cell_type": "code",
   "execution_count": 1229,
   "id": "84113fd1",
   "metadata": {},
   "outputs": [
    {
     "data": {
      "text/plain": [
       "I am a developer by profession                                                   47193\n",
       "I am not primarily a developer, but I write code sometimes as part of my work     5502\n",
       "Name: MainBranch, dtype: int64"
      ]
     },
     "execution_count": 1229,
     "metadata": {},
     "output_type": "execute_result"
    }
   ],
   "source": [
    "# Nos quedamos como aquellos que son desarrolladores por profesion o, si bien no son desarrolladores, \n",
    "# escriben codigo como parte de su trabajo. Se descarta el resto ya que no aportan a la incestigación\n",
    "# Luego se elimina la columna\n",
    "values= ['I am a developer by profession', 'I am not primarily a developer, but I write code sometimes as part of my work']\n",
    "df = df[df.MainBranch.isin(values)]\n",
    "df['MainBranch'].value_counts()"
   ]
  },
  {
   "cell_type": "code",
   "execution_count": 1230,
   "id": "fb2554e1",
   "metadata": {},
   "outputs": [],
   "source": [
    "# Modificamos la columna para que sea más entendible\n",
    "df.MainBranch = df.MainBranch.apply(lambda x: 'Developer' if x == 'I am a developer by profession' else 'Not developer')"
   ]
  },
  {
   "cell_type": "markdown",
   "id": "061a672d",
   "metadata": {},
   "source": [
    "### Hobbyist "
   ]
  },
  {
   "cell_type": "code",
   "execution_count": 1231,
   "id": "b37ec50d",
   "metadata": {},
   "outputs": [],
   "source": [
    "### Describe si ademas de hacerlo de manera laboral, la persona programa como un hobby.\n",
    "### Nos da una media del interes y el gusto de la persona en la programación. Valores Yes y No, se considera correcta"
   ]
  },
  {
   "cell_type": "code",
   "execution_count": 1232,
   "id": "83a0ea25",
   "metadata": {},
   "outputs": [
    {
     "data": {
      "text/plain": [
       "Yes    40433\n",
       "No     12224\n",
       "Name: Hobbyist, dtype: int64"
      ]
     },
     "execution_count": 1232,
     "metadata": {},
     "output_type": "execute_result"
    }
   ],
   "source": [
    "df.Hobbyist.value_counts()"
   ]
  },
  {
   "cell_type": "markdown",
   "id": "32b231a1",
   "metadata": {},
   "source": [
    "### Age"
   ]
  },
  {
   "cell_type": "code",
   "execution_count": 1233,
   "id": "9230f689",
   "metadata": {},
   "outputs": [],
   "source": [
    "# Se consideran nulas todas aquellas edades menores a 16 años y mayores a 90 años\n",
    "df.Age = df.Age.apply(lambda x: None if (x<16 or x>90) else x)"
   ]
  },
  {
   "cell_type": "code",
   "execution_count": 1234,
   "id": "0cd7fc3a",
   "metadata": {},
   "outputs": [],
   "source": [
    "def classify_age(x):\n",
    "    if (x>=16 and x < 25):\n",
    "        return 'Entre 16 y 25'\n",
    "    if (x >= 25 and x < 35):\n",
    "        return 'Entre 25 y 35'\n",
    "    if (x >= 35 and x < 45):\n",
    "        return 'Entre 35 y 45'\n",
    "    if (x >= 45 and x < 55):\n",
    "        return 'Entre 45 y 55'\n",
    "    if (x >=55 and x < 65):\n",
    "        return 'Entre 55 y 65'\n",
    "    if (x >=65 and x < 75):\n",
    "        return 'Entre 65 y 75'\n",
    "    if (x >=75 and x < 85):\n",
    "        return 'Entre 75 y 85'\n",
    "    return None\n",
    "    \n",
    "# Vamos a dividir a las personas en tres grupos: \n",
    "df.Age = df.Age.apply(lambda x: classify_age(x))    \n"
   ]
  },
  {
   "cell_type": "markdown",
   "id": "86b937c4",
   "metadata": {},
   "source": [
    "### Age1stCode"
   ]
  },
  {
   "cell_type": "code",
   "execution_count": 1235,
   "id": "de15f667",
   "metadata": {},
   "outputs": [],
   "source": [
    "# Edad en la que la persona escribió sus primeras lineas de código\n",
    "# Esta columna nos sirve para ver si la persona aprendió a programar a una edad adulta o de pequeño\n",
    "# Vamos a clasificarla en algunos grupos:"
   ]
  },
  {
   "cell_type": "code",
   "execution_count": 1236,
   "id": "f40b2fe2",
   "metadata": {},
   "outputs": [],
   "source": [
    "df.Age1stCode=df.Age1stCode.replace('Older than 85', 65)\n",
    "df.Age1stCode=df.Age1stCode.replace('Younger than 5 years', 5)\n",
    "df.Age1stCode=df.Age1stCode.fillna(90)\n"
   ]
  },
  {
   "cell_type": "code",
   "execution_count": 1237,
   "id": "61df615e",
   "metadata": {},
   "outputs": [],
   "source": [
    "def classify_Age1stCode(x):\n",
    "    if (x>=4 and x < 12):\n",
    "        return 'Antes de los 12'\n",
    "    if (x >= 12 and x < 18):\n",
    "        return 'Entre los 12 y los 18'\n",
    "    if (x >= 18 and x < 25):\n",
    "        return 'Entre los 18 y los 25'\n",
    "    if (x >= 25 and x < 35):\n",
    "        return 'Entre los 25 y los 35'\n",
    "    if (x >= 35 and x < 45):\n",
    "        return 'Entre los 35 y los 45'\n",
    "    if (x >= 45 and x < 60):\n",
    "        return 'Entre los 45 y los 60'\n",
    "    if (x >= 60 and x <= 85):\n",
    "        return 'Despues de los 60'\n",
    "    return None\n",
    "\n",
    "# Vamos a dividir a las personas en tres grupos: \n",
    "df.Age1stCode = df.Age1stCode.apply(lambda x: classify_Age1stCode(int(x))) "
   ]
  },
  {
   "cell_type": "code",
   "execution_count": 1238,
   "id": "423de6cb",
   "metadata": {},
   "outputs": [
    {
     "data": {
      "text/plain": [
       "Entre los 12 y los 18    24914\n",
       "Entre los 18 y los 25    12139\n",
       "Antes de los 12           8881\n",
       "Entre los 25 y los 35     1751\n",
       "Entre los 35 y los 45      181\n",
       "Entre los 45 y los 60       41\n",
       "Despues de los 60           14\n",
       "Name: Age1stCode, dtype: int64"
      ]
     },
     "execution_count": 1238,
     "metadata": {},
     "output_type": "execute_result"
    }
   ],
   "source": [
    "df.Age1stCode.value_counts()"
   ]
  },
  {
   "cell_type": "markdown",
   "id": "2aac4760",
   "metadata": {},
   "source": [
    "### CompFreq"
   ]
  },
  {
   "cell_type": "code",
   "execution_count": 1239,
   "id": "20d75540",
   "metadata": {},
   "outputs": [],
   "source": [
    "# Frecuencia con la que se recibe la compensación, el campo está correcto"
   ]
  },
  {
   "cell_type": "code",
   "execution_count": 1240,
   "id": "83a23316",
   "metadata": {},
   "outputs": [
    {
     "data": {
      "text/plain": [
       "Yearly     19818\n",
       "Monthly    18899\n",
       "Weekly      1352\n",
       "Name: CompFreq, dtype: int64"
      ]
     },
     "execution_count": 1240,
     "metadata": {},
     "output_type": "execute_result"
    }
   ],
   "source": [
    "df.CompFreq.value_counts()"
   ]
  },
  {
   "cell_type": "markdown",
   "id": "6da5324f",
   "metadata": {},
   "source": [
    "### CompTotal"
   ]
  },
  {
   "cell_type": "code",
   "execution_count": 1241,
   "id": "9d228a9f",
   "metadata": {},
   "outputs": [],
   "source": [
    "# Es el salario pero expresado en moneda local por lo que se descarta ya que se utilizará el salario en dolares\n",
    "df.drop(['CompTotal'], axis=1, inplace=True)"
   ]
  },
  {
   "cell_type": "markdown",
   "id": "f4ea6d77",
   "metadata": {},
   "source": [
    "###  ConvertedComp "
   ]
  },
  {
   "cell_type": "code",
   "execution_count": 1242,
   "id": "decab5b6",
   "metadata": {},
   "outputs": [],
   "source": [
    "# Es el salario en dolares, esta columa nos interesa pero tambien vamos a discretizarla"
   ]
  },
  {
   "cell_type": "code",
   "execution_count": 1243,
   "id": "09fa0167",
   "metadata": {},
   "outputs": [],
   "source": [
    "def classify_ConvertedComp(x):\n",
    "    if (x == 0):\n",
    "        return 'Gratis'\n",
    "    if (x > 100 and x < 1000):\n",
    "        return 'Menos de 1000'\n",
    "    if (x > 1000 and x < 3000):\n",
    "        return 'Entre 1.000 y los 3.000'\n",
    "    if (x > 3000 and x < 5000):\n",
    "        return 'Entre 3.000 y los 5.000'\n",
    "    if (x > 5000 and x < 10000):\n",
    "        return 'Entre 5.000 y los 10.000'\n",
    "    if (x > 10000 and x < 20000):\n",
    "        return 'Entre 10.000 y los 20.000'\n",
    "    if (x > 20000 and x < 40000):\n",
    "        return 'Entre 20.000 y los 40.000'\n",
    "    if (x > 40000 and x < 60000):\n",
    "        return 'Entre 40.000 y los 60.000'\n",
    "    if (x > 60000 and x < 80000):\n",
    "        return 'Entre 60.000 y los 80.000'\n",
    "    if (x >= 80000 and x < 100000):\n",
    "        return 'Entre 80.000 y los 100.000'\n",
    "    if (x >= 100000 and x < 250000):\n",
    "        return 'Entre 100.000 y los 250.000'\n",
    "    if (x >= 250000 and x < 500000):\n",
    "        return 'Entre 250.000 y los 500.000'\n",
    "    if (x >= 500000 and x < 1000000):\n",
    "        return 'Entre 500.000 y los 1.000.000'\n",
    "    if (x >= 1000000):\n",
    "        return 'Más de 1.000.000'\n",
    "    return None\n",
    "\n",
    "df.ConvertedComp = df.ConvertedComp.apply(lambda x: classify_ConvertedComp(x))"
   ]
  },
  {
   "cell_type": "code",
   "execution_count": 1244,
   "id": "3c98a6c2",
   "metadata": {},
   "outputs": [
    {
     "data": {
      "text/plain": [
       "Entre 100.000 y los 250.000      6300\n",
       "Entre 20.000 y los 40.000        5957\n",
       "Entre 40.000 y los 60.000        5713\n",
       "Entre 60.000 y los 80.000        4342\n",
       "Entre 10.000 y los 20.000        3506\n",
       "Entre 80.000 y los 100.000       2980\n",
       "Entre 5.000 y los 10.000         2143\n",
       "Entre 3.000 y los 5.000           799\n",
       "Entre 250.000 y los 500.000       675\n",
       "Más de 1.000.000                  656\n",
       "Entre 500.000 y los 1.000.000     584\n",
       "Entre 1.000 y los 3.000           509\n",
       "Gratis                            142\n",
       "Menos de 1000                     139\n",
       "Name: ConvertedComp, dtype: int64"
      ]
     },
     "execution_count": 1244,
     "metadata": {},
     "output_type": "execute_result"
    }
   ],
   "source": [
    "df.ConvertedComp.value_counts()"
   ]
  },
  {
   "cell_type": "markdown",
   "id": "69a3410e",
   "metadata": {},
   "source": [
    "### Country"
   ]
  },
  {
   "cell_type": "code",
   "execution_count": 1245,
   "id": "8d615735",
   "metadata": {},
   "outputs": [],
   "source": [
    "# Convert it to continent"
   ]
  },
  {
   "cell_type": "code",
   "execution_count": 1246,
   "id": "9ef0c208",
   "metadata": {},
   "outputs": [],
   "source": [
    "aux = df.Country.dropna()"
   ]
  },
  {
   "cell_type": "code",
   "execution_count": 1247,
   "id": "3fe151a3",
   "metadata": {},
   "outputs": [],
   "source": [
    "def get_continent(x):\n",
    "    try:\n",
    "        country_alpha2 = pc.country_name_to_country_alpha2(x)\n",
    "        country_continent_code = pc.country_alpha2_to_continent_code(country_alpha2)\n",
    "        country_continent_name = pc.convert_continent_code_to_continent_name(country_continent_code)\n",
    "        return country_continent_name\n",
    "    except:\n",
    "        return None\n",
    "        "
   ]
  },
  {
   "cell_type": "code",
   "execution_count": 1248,
   "id": "de19c005",
   "metadata": {},
   "outputs": [],
   "source": [
    "aux  = aux.apply(lambda x: get_continent(x))"
   ]
  },
  {
   "cell_type": "code",
   "execution_count": 1249,
   "id": "7f0a3214",
   "metadata": {},
   "outputs": [],
   "source": [
    "df.Country = aux\n",
    "df.rename(columns = {'Country':'Continent'},inplace=True)"
   ]
  },
  {
   "cell_type": "code",
   "execution_count": 1250,
   "id": "456f42c7",
   "metadata": {},
   "outputs": [
    {
     "data": {
      "text/plain": [
       "Series([], Name: Continent, dtype: int64)"
      ]
     },
     "execution_count": 1250,
     "metadata": {},
     "output_type": "execute_result"
    }
   ],
   "source": [
    "df['Continent'].value_counts()"
   ]
  },
  {
   "cell_type": "markdown",
   "id": "3cd43763",
   "metadata": {},
   "source": [
    "### CurrencyDesc /  CurrencySymbol"
   ]
  },
  {
   "cell_type": "code",
   "execution_count": 1251,
   "id": "a92e3667",
   "metadata": {},
   "outputs": [],
   "source": [
    "# Muchos valores, el salario se analizará en dolares y no aremos un analisis por país sino que a nivel continental\n",
    "# por lo que la columna se descarta."
   ]
  },
  {
   "cell_type": "code",
   "execution_count": 1252,
   "id": "87557e04",
   "metadata": {},
   "outputs": [
    {
     "data": {
      "text/plain": [
       "United States dollar    11050\n",
       "European Euro           10000\n",
       "Indian rupee             4930\n",
       "Pound sterling           3127\n",
       "Canadian dollar          1570\n",
       "                        ...  \n",
       "Lesotho loti                1\n",
       "Somali shilling             1\n",
       "Libyan dinar                1\n",
       "Namibian dollar             1\n",
       "Macanese pataca             1\n",
       "Name: CurrencyDesc, Length: 142, dtype: int64"
      ]
     },
     "execution_count": 1252,
     "metadata": {},
     "output_type": "execute_result"
    }
   ],
   "source": [
    "df['CurrencyDesc'].value_counts()"
   ]
  },
  {
   "cell_type": "markdown",
   "id": "a4f85e8e",
   "metadata": {},
   "source": [
    "###  DatabaseDesireNextYear"
   ]
  },
  {
   "cell_type": "markdown",
   "id": "9614e8e3",
   "metadata": {},
   "source": [
    "### DatabaseWorkedWith"
   ]
  },
  {
   "cell_type": "markdown",
   "id": "df1cb782",
   "metadata": {},
   "source": [
    "### DevType"
   ]
  },
  {
   "cell_type": "code",
   "execution_count": 1253,
   "id": "327e208f",
   "metadata": {},
   "outputs": [],
   "source": [
    "# Profesiones\n",
    "devtypes = ['Academic researcher',\n",
    "'Data or business analyst',\n",
    "'Data scientist or machine learning specialist',\n",
    "'Database administrator',\n",
    "'Designer',\n",
    "'Developer, back-end',\n",
    "'Developer, desktop or enterprise applications',\n",
    "'Developer, embedded applications or devices',\n",
    "'Developer, front-end',\n",
    "'Developer, full-stack',\n",
    "'Developer, game or graphics',\n",
    "'Developer, mobile',\n",
    "'Developer, QA or test',\n",
    "'DevOps specialist',\n",
    "'Educator',\n",
    "'Engineer, data',\n",
    "'Engineer, site reliability',\n",
    "'Engineering manager',\n",
    "'Marketing or sales professional',\n",
    "'Product manager',\n",
    "'Scientist',\n",
    "'Senior Executive (C-Suite, VP, etc.)',\n",
    "'System administrator']"
   ]
  },
  {
   "cell_type": "code",
   "execution_count": 1254,
   "id": "404e0846",
   "metadata": {},
   "outputs": [],
   "source": [
    "#Inicializo las columnas en None\n",
    "for column in devtypes:\n",
    "    df[column] = None"
   ]
  },
  {
   "cell_type": "code",
   "execution_count": 1255,
   "id": "457b92c3",
   "metadata": {},
   "outputs": [],
   "source": [
    "#Reemplazo valores nulos en DevType por \"\"\n",
    "df['DevType']=df['DevType'].fillna(\"\")"
   ]
  },
  {
   "cell_type": "code",
   "execution_count": 1256,
   "id": "c74f667b",
   "metadata": {},
   "outputs": [],
   "source": [
    "# Para cada profesion me fijo si la persona se dedida o no a ella\n",
    "for column in devtypes:\n",
    "    df[column] = df['DevType'].apply(lambda x: column in x )"
   ]
  },
  {
   "cell_type": "code",
   "execution_count": 1257,
   "id": "2de2c1bb",
   "metadata": {},
   "outputs": [
    {
     "name": "stdout",
     "output_type": "stream",
     "text": [
      "False    49546\n",
      "True      3149\n",
      "Name: Academic researcher, dtype: int64\n",
      "False    49057\n",
      "True      3638\n",
      "Name: Data or business analyst, dtype: int64\n",
      "False    49043\n",
      "True      3652\n",
      "Name: Data scientist or machine learning specialist, dtype: int64\n",
      "False    47353\n",
      "True      5342\n",
      "Name: Database administrator, dtype: int64\n",
      "False    47989\n",
      "True      4706\n",
      "Name: Designer, dtype: int64\n",
      "False    26816\n",
      "True     25879\n",
      "Name: Developer, back-end, dtype: int64\n",
      "False    41530\n",
      "True     11165\n",
      "Name: Developer, desktop or enterprise applications, dtype: int64\n",
      "False    48229\n",
      "True      4466\n",
      "Name: Developer, embedded applications or devices, dtype: int64\n",
      "False    35541\n",
      "True     17154\n",
      "Name: Developer, front-end, dtype: int64\n",
      "False    26868\n",
      "True     25827\n",
      "Name: Developer, full-stack, dtype: int64\n",
      "False    50246\n",
      "True      2449\n",
      "Name: Developer, game or graphics, dtype: int64\n",
      "False    43867\n",
      "True      8828\n",
      "Name: Developer, mobile, dtype: int64\n",
      "False    48987\n",
      "True      3708\n",
      "Name: Developer, QA or test, dtype: int64\n",
      "False    46924\n",
      "True      5771\n",
      "Name: DevOps specialist, dtype: int64\n",
      "False    50087\n",
      "True      2608\n",
      "Name: Educator, dtype: int64\n",
      "False    49195\n",
      "True      3500\n",
      "Name: Engineer, data, dtype: int64\n",
      "False    50856\n",
      "True      1839\n",
      "Name: Engineer, site reliability, dtype: int64\n",
      "False    50227\n",
      "True      2468\n",
      "Name: Engineering manager, dtype: int64\n",
      "False    52189\n",
      "True       506\n",
      "Name: Marketing or sales professional, dtype: int64\n",
      "False    50496\n",
      "True      2199\n",
      "Name: Product manager, dtype: int64\n",
      "False    50800\n",
      "True      1895\n",
      "Name: Scientist, dtype: int64\n",
      "False    52695\n",
      "Name: Senior Executive (C-Suite, VP, etc.), dtype: int64\n",
      "False    47929\n",
      "True      4766\n",
      "Name: System administrator, dtype: int64\n"
     ]
    }
   ],
   "source": [
    "# Vemos como quedaron las columnas\n",
    "for column in devtypes:\n",
    "    print(df[column].value_counts())"
   ]
  },
  {
   "cell_type": "code",
   "execution_count": 1258,
   "id": "fe3b4102",
   "metadata": {},
   "outputs": [],
   "source": [
    "# Elimino Jobfactors\n",
    "df = df.drop('DevType', axis=1)"
   ]
  },
  {
   "cell_type": "markdown",
   "id": "4cd640de",
   "metadata": {},
   "source": [
    "### EdLevel"
   ]
  },
  {
   "cell_type": "code",
   "execution_count": 1259,
   "id": "8ff3726b",
   "metadata": {},
   "outputs": [],
   "source": [
    "# Solo se emprolijan los valores"
   ]
  },
  {
   "cell_type": "code",
   "execution_count": 1260,
   "id": "13039b78",
   "metadata": {},
   "outputs": [
    {
     "data": {
      "text/plain": [
       "Bachelor’s degree (B.A., B.S., B.Eng., etc.)                                          23539\n",
       "Master’s degree (M.A., M.S., M.Eng., MBA, etc.)                                       12194\n",
       "Some college/university study without earning a degree                                 5484\n",
       "Secondary school (e.g. American high school, German Realschule or Gymnasium, etc.)     2161\n",
       "Other doctoral degree (Ph.D., Ed.D., etc.)                                             1563\n",
       "Associate degree (A.A., A.S., etc.)                                                    1529\n",
       "Professional degree (JD, MD, etc.)                                                      692\n",
       "I never completed any formal education                                                  325\n",
       "Primary/elementary school                                                               257\n",
       "Name: EdLevel, dtype: int64"
      ]
     },
     "execution_count": 1260,
     "metadata": {},
     "output_type": "execute_result"
    }
   ],
   "source": [
    "df['EdLevel'].value_counts()"
   ]
  },
  {
   "cell_type": "code",
   "execution_count": 1261,
   "id": "d1d42308",
   "metadata": {},
   "outputs": [],
   "source": [
    "def  reformat_edlevel(x):\n",
    "    if 'Bachelor’s degree' in x:\n",
    "        return 'Bachelor'\n",
    "    if 'Master’s degree' in x:\n",
    "        return 'Master'\n",
    "    if 'Some college/university study without earning a degree' in x:\n",
    "        return 'Incomplete university'\n",
    "    if 'Secondary school' in x:\n",
    "        return 'Secondary'\n",
    "    if 'Associate degree' in x:\n",
    "        return 'Associate'\n",
    "    if 'Other doctoral degree (Ph.D., Ed.D., etc.)'in x:\n",
    "        return 'Doctorate'\n",
    "    if 'Professional degree (JD, MD, etc.)' in x:\n",
    "        return 'Professional'\n",
    "    if 'Primary/elementary school' in x:\n",
    "        return 'Primary'\n",
    "    if 'I never completed any formal education' in x:\n",
    "        return 'Without studies'\n",
    "    return None\n",
    "\n",
    "df['EdLevel']=df['EdLevel'].fillna(\"\")\n",
    "df['EdLevel'] = df['EdLevel'].apply(lambda x: reformat_edlevel(x))"
   ]
  },
  {
   "cell_type": "code",
   "execution_count": 1262,
   "id": "d9ab32f9",
   "metadata": {},
   "outputs": [
    {
     "data": {
      "text/plain": [
       "Bachelor                 23539\n",
       "Master                   12194\n",
       "Incomplete university     5484\n",
       "Secondary                 2161\n",
       "Doctorate                 1563\n",
       "Associate                 1529\n",
       "Professional               692\n",
       "Without studies            325\n",
       "Primary                    257\n",
       "Name: EdLevel, dtype: int64"
      ]
     },
     "execution_count": 1262,
     "metadata": {},
     "output_type": "execute_result"
    }
   ],
   "source": [
    "df['EdLevel'].value_counts()"
   ]
  },
  {
   "cell_type": "markdown",
   "id": "f44ba6db",
   "metadata": {},
   "source": [
    "###  Employment"
   ]
  },
  {
   "cell_type": "code",
   "execution_count": 1263,
   "id": "629cf5d1",
   "metadata": {},
   "outputs": [
    {
     "data": {
      "text/plain": [
       "Employed full-time                                      43348\n",
       "Independent contractor, freelancer, or self-employed     5001\n",
       "Employed part-time                                       1634\n",
       "Student                                                  1118\n",
       "Not employed, but looking for work                       1108\n",
       "Not employed, and not looking for work                     94\n",
       "Retired                                                    67\n",
       "Name: Employment, dtype: int64"
      ]
     },
     "execution_count": 1263,
     "metadata": {},
     "output_type": "execute_result"
    }
   ],
   "source": [
    "df['Employment'].value_counts()"
   ]
  },
  {
   "cell_type": "code",
   "execution_count": 1264,
   "id": "1bbd59dd",
   "metadata": {},
   "outputs": [
    {
     "data": {
      "text/plain": [
       "Employed full-time    43348\n",
       "Employed part-time     1634\n",
       "Name: Employment, dtype: int64"
      ]
     },
     "execution_count": 1264,
     "metadata": {},
     "output_type": "execute_result"
    }
   ],
   "source": [
    "# Para el analisis solo nos interesan los aquellos que estan empleados full time o part time, \n",
    "# el resto no aporta a la investigación\n",
    "df = df[df.Employment.isin(['Employed full-time', 'Employed part-time'])]\n",
    "df.Employment.value_counts()"
   ]
  },
  {
   "cell_type": "code",
   "execution_count": 1265,
   "id": "bf0f3f4d",
   "metadata": {},
   "outputs": [],
   "source": [
    "# Dado que la cantidad de empleados part time no es significativa, se elimina la columna\n",
    "df = df.drop('Employment', axis=1)"
   ]
  },
  {
   "cell_type": "markdown",
   "id": "ae5ef0ce",
   "metadata": {},
   "source": [
    "### Ethnicity"
   ]
  },
  {
   "cell_type": "code",
   "execution_count": 1266,
   "id": "d60da9e7",
   "metadata": {},
   "outputs": [
    {
     "data": {
      "text/plain": [
       "White or of European descent                                                                                             21798\n",
       "South Asian                                                                                                               3090\n",
       "Hispanic or Latino/a/x                                                                                                    1658\n",
       "East Asian                                                                                                                1099\n",
       "Middle Eastern                                                                                                            1087\n",
       "                                                                                                                         ...  \n",
       "Black or of African descent;East Asian;White or of European descent;Southeast Asian                                          1\n",
       "Black or of African descent;Middle Eastern;White or of European descent;Biracial                                             1\n",
       "Black or of African descent;East Asian;South Asian;Southeast Asian                                                           1\n",
       "Hispanic or Latino/a/x;White or of European descent;South Asian                                                              1\n",
       "Biracial;Indigenous (such as Native American, Pacific Islander, or Indigenous Australian);Multiracial;Southeast Asian        1\n",
       "Name: Ethnicity, Length: 158, dtype: int64"
      ]
     },
     "execution_count": 1266,
     "metadata": {},
     "output_type": "execute_result"
    }
   ],
   "source": [
    "df.Ethnicity.value_counts()"
   ]
  },
  {
   "cell_type": "code",
   "execution_count": 1267,
   "id": "bf6eef0d",
   "metadata": {},
   "outputs": [],
   "source": [
    "def get_ethnicity(x):\n",
    "    if 'Indigenous' in x:\n",
    "        return 'Indigenous'\n",
    "    if 'Biracial' in x or 'Multiracial' in x:\n",
    "        return 'Birracial/Multiracial'\n",
    "    if 'Black or of African descent' in x:\n",
    "        return 'Black or of African descent'\n",
    "    if 'Hispanic or Latino/a/x' in x:\n",
    "        return 'Latino'\n",
    "    if 'Asian' in x or 'Middle Eastern' in x:\n",
    "        return 'Asian'\n",
    "    if 'White or of European descent' in x:\n",
    "        return 'White or of European descent'  \n",
    "    return None "
   ]
  },
  {
   "cell_type": "code",
   "execution_count": 1268,
   "id": "073c85a1",
   "metadata": {},
   "outputs": [
    {
     "data": {
      "text/plain": [
       "White or of European descent    21798\n",
       "Asian                            6857\n",
       "Latino                           2256\n",
       "Black or of African descent       827\n",
       "Birracial/Multiracial             763\n",
       "Indigenous                        254\n",
       "Name: Ethnicity, dtype: int64"
      ]
     },
     "execution_count": 1268,
     "metadata": {},
     "output_type": "execute_result"
    }
   ],
   "source": [
    "df.Ethnicity = df.Ethnicity.fillna(\"\")\n",
    "df.Ethnicity = df['Ethnicity'].apply(lambda x: get_ethnicity(x))\n",
    "df.Ethnicity.value_counts()    "
   ]
  },
  {
   "cell_type": "markdown",
   "id": "1592f7bc",
   "metadata": {},
   "source": [
    "### Gender"
   ]
  },
  {
   "cell_type": "code",
   "execution_count": 1269,
   "id": "657ee554",
   "metadata": {},
   "outputs": [
    {
     "data": {
      "text/plain": [
       "Man                                                            32570\n",
       "Woman                                                           2739\n",
       "Non-binary, genderqueer, or gender non-conforming                255\n",
       "Man;Non-binary, genderqueer, or gender non-conforming             78\n",
       "Woman;Non-binary, genderqueer, or gender non-conforming           53\n",
       "Woman;Man                                                         35\n",
       "Woman;Man;Non-binary, genderqueer, or gender non-conforming       15\n",
       "Name: Gender, dtype: int64"
      ]
     },
     "execution_count": 1269,
     "metadata": {},
     "output_type": "execute_result"
    }
   ],
   "source": [
    "df['Gender'].value_counts()"
   ]
  },
  {
   "cell_type": "code",
   "execution_count": 1270,
   "id": "8d9fa917",
   "metadata": {},
   "outputs": [],
   "source": [
    "def get_gender(x):\n",
    "    if 'Non-binary' in x or 'Woman;Man' in x:\n",
    "        return 'Non-binary'\n",
    "    if 'Woman' in x:\n",
    "        return 'woman'\n",
    "    if 'Man' in x:\n",
    "        return 'Man'\n",
    "    return None"
   ]
  },
  {
   "cell_type": "code",
   "execution_count": 1271,
   "id": "062b24e7",
   "metadata": {},
   "outputs": [],
   "source": [
    "df.Gender = df.Gender.fillna(\"\")\n",
    "df.Gender = df.Gender.apply(lambda x: get_gender(x))"
   ]
  },
  {
   "cell_type": "code",
   "execution_count": 1272,
   "id": "a010d69f",
   "metadata": {},
   "outputs": [
    {
     "data": {
      "text/plain": [
       "Man           32570\n",
       "woman          2739\n",
       "Non-binary      436\n",
       "Name: Gender, dtype: int64"
      ]
     },
     "execution_count": 1272,
     "metadata": {},
     "output_type": "execute_result"
    }
   ],
   "source": [
    "df.Gender.value_counts()"
   ]
  },
  {
   "cell_type": "markdown",
   "id": "83a51737",
   "metadata": {},
   "source": [
    "### JobFactors"
   ]
  },
  {
   "cell_type": "code",
   "execution_count": 1273,
   "id": "5f8ba881",
   "metadata": {},
   "outputs": [],
   "source": [
    "JobFactors_list = [\n",
    "    'Remote work',\n",
    "    'company culture',\n",
    "    'Financial performance',\n",
    "    'Opportunities',\n",
    "    'Diversity',\n",
    "    'impactful',\n",
    "    'Industry',\n",
    "    'Specific department',\n",
    "    'Flex time',\n",
    "    'technologies',\n",
    "    'Family friendliness',\n",
    "]"
   ]
  },
  {
   "cell_type": "code",
   "execution_count": 1274,
   "id": "fa3f04cf",
   "metadata": {},
   "outputs": [],
   "source": [
    "#Inicializo las columnas en None\n",
    "for column in JobFactors_list:\n",
    "    df[column] = None"
   ]
  },
  {
   "cell_type": "code",
   "execution_count": 1275,
   "id": "63c6229a",
   "metadata": {},
   "outputs": [],
   "source": [
    "#Reemplazo valores nulos en JobFactor por \"\"\n",
    "df['JobFactors']=df['JobFactors'].fillna(\"\")"
   ]
  },
  {
   "cell_type": "code",
   "execution_count": 1276,
   "id": "b01a240e",
   "metadata": {},
   "outputs": [],
   "source": [
    "# Para cada factor me fijo si la persona lo marcó\n",
    "for column in JobFactors_list:\n",
    "    df[column] = df['JobFactors'].apply(lambda x: column in x )"
   ]
  },
  {
   "cell_type": "code",
   "execution_count": 1277,
   "id": "ba36a4ca",
   "metadata": {},
   "outputs": [
    {
     "name": "stdout",
     "output_type": "stream",
     "text": [
      "False    33016\n",
      "True     11966\n",
      "Name: Remote work, dtype: int64\n",
      "False    27762\n",
      "True     17220\n",
      "Name: company culture, dtype: int64\n",
      "False    40534\n",
      "True      4448\n",
      "Name: Financial performance, dtype: int64\n",
      "False    29720\n",
      "True     15262\n",
      "Name: Opportunities, dtype: int64\n",
      "False    42521\n",
      "True      2461\n",
      "Name: Diversity, dtype: int64\n",
      "False    37482\n",
      "True      7500\n",
      "Name: impactful, dtype: int64\n",
      "False    39702\n",
      "True      5280\n",
      "Name: Industry, dtype: int64\n",
      "False    40678\n",
      "True      4304\n",
      "Name: Specific department, dtype: int64\n",
      "False    28448\n",
      "True     16534\n",
      "Name: Flex time, dtype: int64\n",
      "False    25791\n",
      "True     19191\n",
      "Name: technologies, dtype: int64\n",
      "False    40438\n",
      "True      4544\n",
      "Name: Family friendliness, dtype: int64\n"
     ]
    }
   ],
   "source": [
    "# Vemos como quedaron las columnas\n",
    "for column in JobFactors_list:\n",
    "    print(df[column].value_counts())"
   ]
  },
  {
   "cell_type": "code",
   "execution_count": 1278,
   "id": "22e0813a",
   "metadata": {},
   "outputs": [],
   "source": [
    "# Elimino Jobfactors\n",
    "df = df.drop('JobFactors', axis=1)"
   ]
  },
  {
   "cell_type": "markdown",
   "id": "4d84fc66",
   "metadata": {},
   "source": [
    "### JobSat"
   ]
  },
  {
   "cell_type": "code",
   "execution_count": 1279,
   "id": "a06ed5e1",
   "metadata": {},
   "outputs": [
    {
     "data": {
      "text/plain": [
       "Very satisfied                        12953\n",
       "Slightly satisfied                    12664\n",
       "Slightly dissatisfied                  6514\n",
       "Neither satisfied nor dissatisfied     5070\n",
       "Very dissatisfied                      3306\n",
       "Name: JobSat, dtype: int64"
      ]
     },
     "execution_count": 1279,
     "metadata": {},
     "output_type": "execute_result"
    }
   ],
   "source": [
    "df['JobSat'].value_counts()"
   ]
  },
  {
   "cell_type": "code",
   "execution_count": 1280,
   "id": "7fca8c27",
   "metadata": {},
   "outputs": [],
   "source": [
    "# Es la columna que queremos predecir por lo que se eliminan todos los registros que no tienen datos en esta columna\n",
    "df = df.dropna(subset = [\"JobSat\"])"
   ]
  },
  {
   "cell_type": "code",
   "execution_count": 1281,
   "id": "5458eaa2",
   "metadata": {},
   "outputs": [],
   "source": [
    "# Se agrupa satisfecho, ni satisfecho ni insatisfecho y desatisfecho\n",
    "def get_JobSat(x):\n",
    "    if x in ['Very satisfied', 'Slightly satisfied']:\n",
    "        return 'Satisfied'\n",
    "    if x in ['Very dissatisfied', 'Slightly dissatisfied']:\n",
    "        return 'Dissatisfied'\n",
    "    return \"Neither\"\n",
    "\n",
    "df['JobSat'] = df['JobSat'].apply(lambda x: get_JobSat(x))"
   ]
  },
  {
   "cell_type": "code",
   "execution_count": 1282,
   "id": "4e1b9a66",
   "metadata": {},
   "outputs": [
    {
     "data": {
      "text/plain": [
       "Satisfied       25617\n",
       "Dissatisfied     9820\n",
       "Neither          5070\n",
       "Name: JobSat, dtype: int64"
      ]
     },
     "execution_count": 1282,
     "metadata": {},
     "output_type": "execute_result"
    }
   ],
   "source": [
    "df['JobSat'].value_counts()"
   ]
  },
  {
   "cell_type": "markdown",
   "id": "0c8c6cf2",
   "metadata": {},
   "source": [
    "### JobSeek"
   ]
  },
  {
   "cell_type": "code",
   "execution_count": 1283,
   "id": "fd26c5a5",
   "metadata": {},
   "outputs": [
    {
     "data": {
      "text/plain": [
       "I’m not actively looking, but I am open to new opportunities    22754\n",
       "I am not interested in new job opportunities                    10539\n",
       "I am actively looking for a job                                  5009\n",
       "Name: JobSeek, dtype: int64"
      ]
     },
     "execution_count": 1283,
     "metadata": {},
     "output_type": "execute_result"
    }
   ],
   "source": [
    "df.JobSeek.value_counts()"
   ]
  },
  {
   "cell_type": "code",
   "execution_count": 1284,
   "id": "4073f255",
   "metadata": {},
   "outputs": [],
   "source": [
    "#Reemplazo valores nulos en JobSeek por \"\"\n",
    "df['JobSeek']=df['JobSeek'].fillna(\"\")"
   ]
  },
  {
   "cell_type": "code",
   "execution_count": 1285,
   "id": "b5793268",
   "metadata": {},
   "outputs": [],
   "source": [
    "def get_jobseek(x):\n",
    "    if 'I’m not actively looking, but I am open to new opportunities' in x:\n",
    "        return 'Open to opportunities'\n",
    "    if 'I am not interested in new job opportunities' in x:\n",
    "        return 'Not interested'\n",
    "    if 'I am actively looking for a job' in x:\n",
    "        return 'Looking for'\n",
    "    return None"
   ]
  },
  {
   "cell_type": "code",
   "execution_count": 1286,
   "id": "90d3a091",
   "metadata": {},
   "outputs": [],
   "source": [
    "df.JobSeek = df.JobSeek.apply(lambda x: get_jobseek(x))"
   ]
  },
  {
   "cell_type": "code",
   "execution_count": 1287,
   "id": "fc957163",
   "metadata": {},
   "outputs": [
    {
     "data": {
      "text/plain": [
       "Open to opportunities    22754\n",
       "Not interested           10539\n",
       "Looking for               5009\n",
       "Name: JobSeek, dtype: int64"
      ]
     },
     "execution_count": 1287,
     "metadata": {},
     "output_type": "execute_result"
    }
   ],
   "source": [
    "df.JobSeek.value_counts()"
   ]
  },
  {
   "cell_type": "markdown",
   "id": "b8abdfde",
   "metadata": {},
   "source": [
    "### LanguageDesireNextYear"
   ]
  },
  {
   "cell_type": "code",
   "execution_count": 1288,
   "id": "95d190b1",
   "metadata": {},
   "outputs": [],
   "source": [
    "# Se elimina, no la podemos usar"
   ]
  },
  {
   "cell_type": "code",
   "execution_count": 1289,
   "id": "d6ca000b",
   "metadata": {},
   "outputs": [
    {
     "data": {
      "text/plain": [
       "Python                                                                         689\n",
       "HTML/CSS;JavaScript;TypeScript                                                 384\n",
       "Rust                                                                           362\n",
       "C#;HTML/CSS;JavaScript;SQL;TypeScript                                          327\n",
       "C#                                                                             326\n",
       "                                                                              ... \n",
       "Bash/Shell/PowerShell;C#;Dart;Go;Kotlin                                          1\n",
       "Bash/Shell/PowerShell;HTML/CSS;JavaScript;Kotlin;Perl;R;Rust;SQL;TypeScript      1\n",
       "Assembly;Bash/Shell/PowerShell;C;Go;HTML/CSS;JavaScript;TypeScript               1\n",
       "Bash/Shell/PowerShell;C;C#;C++;Go;Haskell;Kotlin;Python;Ruby;Rust;Scala          1\n",
       "C#;Go;JavaScript;Swift;TypeScript                                                1\n",
       "Name: LanguageDesireNextYear, Length: 11265, dtype: int64"
      ]
     },
     "execution_count": 1289,
     "metadata": {},
     "output_type": "execute_result"
    }
   ],
   "source": [
    "df['LanguageDesireNextYear'].value_counts()"
   ]
  },
  {
   "cell_type": "markdown",
   "id": "f703eb37",
   "metadata": {},
   "source": [
    "### NEWDevOps NEWDevOpsImpt "
   ]
  },
  {
   "cell_type": "code",
   "execution_count": null,
   "id": "d67a40f8",
   "metadata": {},
   "outputs": [],
   "source": [
    "# Dejarlo en si le parece importante y tiene, le parece importante y no tiene, Irrelevante"
   ]
  },
  {
   "cell_type": "markdown",
   "id": "9611c84c",
   "metadata": {},
   "source": [
    "### LanguageWorkedWith"
   ]
  },
  {
   "cell_type": "code",
   "execution_count": null,
   "id": "589f04ad",
   "metadata": {},
   "outputs": [],
   "source": [
    "# Dejar solo la primera palabra"
   ]
  },
  {
   "cell_type": "markdown",
   "id": "4b4d4a26",
   "metadata": {},
   "source": [
    "### NEWEdImpt"
   ]
  },
  {
   "cell_type": "code",
   "execution_count": 1295,
   "id": "75477841",
   "metadata": {},
   "outputs": [
    {
     "data": {
      "text/plain": [
       "Fairly important                      10670\n",
       "Very important                         9909\n",
       "Somewhat important                     9394\n",
       "Not at all important/not necessary     5885\n",
       "Critically important                   3878\n",
       "Name: NEWEdImpt, dtype: int64"
      ]
     },
     "execution_count": 1295,
     "metadata": {},
     "output_type": "execute_result"
    }
   ],
   "source": [
    "df['NEWEdImpt'].value_counts()"
   ]
  },
  {
   "cell_type": "markdown",
   "id": "c7dd1740",
   "metadata": {},
   "source": [
    "### NEWJobHunt"
   ]
  },
  {
   "cell_type": "code",
   "execution_count": null,
   "id": "5c4fa20f",
   "metadata": {},
   "outputs": [],
   "source": [
    "# hace un one hot de esto"
   ]
  },
  {
   "cell_type": "code",
   "execution_count": null,
   "id": "2097b347",
   "metadata": {},
   "outputs": [],
   "source": [
    "Just because - Without cause\n",
    "Having a bad day (or week or month) at work -trouble\n",
    "Wanting to share accomplishments with a wider network - opportunities\n",
    "Curious about other opportunities - opportunities\n",
    "Better compensation - compensation\n",
    "Trouble with my teammates - trouble\n",
    "Trouble with my direct manager -trouble\n",
    "Trouble with leadership at my company -trouble\n",
    "Better work/life balance - opportunities\n",
    "Wanting to work with new technologies - opportunities\n",
    "Growth or leadership opportunities - opportunities\n",
    "Looking to relocate - opportunities"
   ]
  },
  {
   "cell_type": "markdown",
   "id": "223414be",
   "metadata": {},
   "source": [
    "### OrgSize\n"
   ]
  },
  {
   "cell_type": "markdown",
   "id": "1bc35f97",
   "metadata": {},
   "source": [
    "### NEWOvertime"
   ]
  },
  {
   "cell_type": "markdown",
   "id": "6f7ed424",
   "metadata": {},
   "source": [
    "### NEWJobHuntResearch"
   ]
  },
  {
   "cell_type": "code",
   "execution_count": null,
   "id": "da681bd0",
   "metadata": {},
   "outputs": [],
   "source": [
    "# Borrarla"
   ]
  },
  {
   "cell_type": "code",
   "execution_count": null,
   "id": "70fa1dae",
   "metadata": {},
   "outputs": [],
   "source": []
  },
  {
   "cell_type": "code",
   "execution_count": null,
   "id": "ef0b5ae7",
   "metadata": {},
   "outputs": [],
   "source": []
  },
  {
   "cell_type": "code",
   "execution_count": null,
   "id": "235c0fca",
   "metadata": {},
   "outputs": [],
   "source": []
  },
  {
   "cell_type": "code",
   "execution_count": null,
   "id": "3b467676",
   "metadata": {},
   "outputs": [],
   "source": []
  },
  {
   "cell_type": "code",
   "execution_count": null,
   "id": "34ef2609",
   "metadata": {},
   "outputs": [],
   "source": []
  },
  {
   "cell_type": "code",
   "execution_count": null,
   "id": "6b2f429a",
   "metadata": {},
   "outputs": [],
   "source": []
  },
  {
   "cell_type": "code",
   "execution_count": null,
   "id": "b4155b51",
   "metadata": {},
   "outputs": [],
   "source": []
  },
  {
   "cell_type": "code",
   "execution_count": null,
   "id": "58cc789a",
   "metadata": {},
   "outputs": [],
   "source": [
    "\n",
    " 31  NEWJobHuntResearch            41022 non-null  object \n",
    " 32  NEWLearn                      56156 non-null  object \n",
    " 33  NEWOffTopic                   50804 non-null  object \n",
    " 34  NEWOnboardGood                42623 non-null  object \n",
    " 35  NEWOtherComms                 57205 non-null  object \n",
    " \n",
    " 37  NEWPurchaseResearch           37321 non-null  object \n",
    " 38  NEWPurpleLink                 54803 non-null  object \n",
    " 39  NEWSOSites                    58275 non-null  object \n",
    " 40  NEWStuck                      54983 non-null  object \n",
    " 41  OpSys                         56228 non-null  object \n",
    " \n",
    " 43  PlatformDesireNextYear        50605 non-null  object \n",
    " 44  PlatformWorkedWith            53843 non-null  object \n",
    " 45  PurchaseWhat                  39364 non-null  object \n",
    " 46  Sexuality                     43992 non-null  object \n",
    " 47  SOAccount                     56805 non-null  object \n",
    " 48  SOComm                        56476 non-null  object \n",
    " 49  SOPartFreq                    46792 non-null  object \n",
    " 50  SOVisitFreq                   56970 non-null  object \n",
    " 51  SurveyEase                    51802 non-null  object \n",
    " 52  SurveyLength                  51701 non-null  object \n",
    " 53  Trans                         49345 non-null  object \n",
    " 54  UndergradMajor                50995 non-null  object \n",
    " 55  WebframeDesireNextYear        40024 non-null  object \n",
    " 56  WebframeWorkedWith            42279 non-null  object \n",
    " 57  WelcomeChange                 52683 non-null  object \n",
    " 58  WorkWeekHrs                   41151 non-null  float64\n",
    " 59  YearsCode                     57684 non-null  object \n",
    " 60  YearsCodePro        "
   ]
  },
  {
   "cell_type": "code",
   "execution_count": null,
   "id": "d7516991",
   "metadata": {},
   "outputs": [],
   "source": []
  },
  {
   "cell_type": "code",
   "execution_count": null,
   "id": "b555d703",
   "metadata": {},
   "outputs": [],
   "source": []
  }
 ],
 "metadata": {
  "kernelspec": {
   "display_name": "Python 3 (ipykernel)",
   "language": "python",
   "name": "python3"
  },
  "language_info": {
   "codemirror_mode": {
    "name": "ipython",
    "version": 3
   },
   "file_extension": ".py",
   "mimetype": "text/x-python",
   "name": "python",
   "nbconvert_exporter": "python",
   "pygments_lexer": "ipython3",
   "version": "3.10.0"
  }
 },
 "nbformat": 4,
 "nbformat_minor": 5
}
