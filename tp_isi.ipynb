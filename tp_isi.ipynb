{
 "cells": [
  {
   "cell_type": "markdown",
   "id": "0ad71df3",
   "metadata": {},
   "source": [
    "# TP ISI"
   ]
  },
  {
   "cell_type": "markdown",
   "id": "dcdd3bdf",
   "metadata": {},
   "source": [
    "### Importo Bibliotecas"
   ]
  },
  {
   "cell_type": "code",
   "execution_count": 4944,
   "id": "de59ead9",
   "metadata": {},
   "outputs": [],
   "source": [
    "import pandas as pd\n",
    "import numpy as np\n",
    "import pycountry_convert as pc"
   ]
  },
  {
   "cell_type": "markdown",
   "id": "511896c4",
   "metadata": {},
   "source": [
    "### Lectura de datos"
   ]
  },
  {
   "cell_type": "code",
   "execution_count": 4945,
   "id": "deb2cfbb",
   "metadata": {},
   "outputs": [],
   "source": [
    "df = pd.read_csv('data/survey_results_public.csv')"
   ]
  },
  {
   "cell_type": "markdown",
   "id": "f7f333f7",
   "metadata": {},
   "source": [
    "### Columnas"
   ]
  },
  {
   "cell_type": "code",
   "execution_count": 4946,
   "id": "622304ec",
   "metadata": {},
   "outputs": [
    {
     "name": "stdout",
     "output_type": "stream",
     "text": [
      "<class 'pandas.core.frame.DataFrame'>\n",
      "RangeIndex: 64461 entries, 0 to 64460\n",
      "Data columns (total 61 columns):\n",
      " #   Column                        Non-Null Count  Dtype  \n",
      "---  ------                        --------------  -----  \n",
      " 0   Respondent                    64461 non-null  int64  \n",
      " 1   MainBranch                    64162 non-null  object \n",
      " 2   Hobbyist                      64416 non-null  object \n",
      " 3   Age                           45446 non-null  float64\n",
      " 4   Age1stCode                    57900 non-null  object \n",
      " 5   CompFreq                      40069 non-null  object \n",
      " 6   CompTotal                     34826 non-null  float64\n",
      " 7   ConvertedComp                 34756 non-null  float64\n",
      " 8   Country                       64072 non-null  object \n",
      " 9   CurrencyDesc                  45472 non-null  object \n",
      " 10  CurrencySymbol                45472 non-null  object \n",
      " 11  DatabaseDesireNextYear        44070 non-null  object \n",
      " 12  DatabaseWorkedWith            49537 non-null  object \n",
      " 13  DevType                       49370 non-null  object \n",
      " 14  EdLevel                       57431 non-null  object \n",
      " 15  Employment                    63854 non-null  object \n",
      " 16  Ethnicity                     45948 non-null  object \n",
      " 17  Gender                        50557 non-null  object \n",
      " 18  JobFactors                    49349 non-null  object \n",
      " 19  JobSat                        45194 non-null  object \n",
      " 20  JobSeek                       51727 non-null  object \n",
      " 21  LanguageDesireNextYear        54113 non-null  object \n",
      " 22  LanguageWorkedWith            57378 non-null  object \n",
      " 23  MiscTechDesireNextYear        42379 non-null  object \n",
      " 24  MiscTechWorkedWith            40314 non-null  object \n",
      " 25  NEWCollabToolsDesireNextYear  47287 non-null  object \n",
      " 26  NEWCollabToolsWorkedWith      52883 non-null  object \n",
      " 27  NEWDevOps                     42686 non-null  object \n",
      " 28  NEWDevOpsImpt                 41732 non-null  object \n",
      " 29  NEWEdImpt                     48465 non-null  object \n",
      " 30  NEWJobHunt                    42286 non-null  object \n",
      " 31  NEWJobHuntResearch            41022 non-null  object \n",
      " 32  NEWLearn                      56156 non-null  object \n",
      " 33  NEWOffTopic                   50804 non-null  object \n",
      " 34  NEWOnboardGood                42623 non-null  object \n",
      " 35  NEWOtherComms                 57205 non-null  object \n",
      " 36  NEWOvertime                   43231 non-null  object \n",
      " 37  NEWPurchaseResearch           37321 non-null  object \n",
      " 38  NEWPurpleLink                 54803 non-null  object \n",
      " 39  NEWSOSites                    58275 non-null  object \n",
      " 40  NEWStuck                      54983 non-null  object \n",
      " 41  OpSys                         56228 non-null  object \n",
      " 42  OrgSize                       44334 non-null  object \n",
      " 43  PlatformDesireNextYear        50605 non-null  object \n",
      " 44  PlatformWorkedWith            53843 non-null  object \n",
      " 45  PurchaseWhat                  39364 non-null  object \n",
      " 46  Sexuality                     43992 non-null  object \n",
      " 47  SOAccount                     56805 non-null  object \n",
      " 48  SOComm                        56476 non-null  object \n",
      " 49  SOPartFreq                    46792 non-null  object \n",
      " 50  SOVisitFreq                   56970 non-null  object \n",
      " 51  SurveyEase                    51802 non-null  object \n",
      " 52  SurveyLength                  51701 non-null  object \n",
      " 53  Trans                         49345 non-null  object \n",
      " 54  UndergradMajor                50995 non-null  object \n",
      " 55  WebframeDesireNextYear        40024 non-null  object \n",
      " 56  WebframeWorkedWith            42279 non-null  object \n",
      " 57  WelcomeChange                 52683 non-null  object \n",
      " 58  WorkWeekHrs                   41151 non-null  float64\n",
      " 59  YearsCode                     57684 non-null  object \n",
      " 60  YearsCodePro                  46349 non-null  object \n",
      "dtypes: float64(4), int64(1), object(56)\n",
      "memory usage: 30.0+ MB\n"
     ]
    }
   ],
   "source": [
    "df.info()"
   ]
  },
  {
   "cell_type": "markdown",
   "id": "fddc59d8",
   "metadata": {},
   "source": [
    "### Cantidad de datos en jos sat"
   ]
  },
  {
   "cell_type": "code",
   "execution_count": 4947,
   "id": "997cc0c4",
   "metadata": {},
   "outputs": [
    {
     "data": {
      "text/plain": [
       "Very satisfied                        14611\n",
       "Slightly satisfied                    13930\n",
       "Slightly dissatisfied                  7124\n",
       "Neither satisfied nor dissatisfied     5783\n",
       "Very dissatisfied                      3746\n",
       "Name: JobSat, dtype: int64"
      ]
     },
     "execution_count": 4947,
     "metadata": {},
     "output_type": "execute_result"
    }
   ],
   "source": [
    "df['JobSat'].value_counts()"
   ]
  },
  {
   "cell_type": "markdown",
   "id": "55e51d0f",
   "metadata": {},
   "source": [
    "### Respondent"
   ]
  },
  {
   "cell_type": "code",
   "execution_count": 4948,
   "id": "1db19ea4",
   "metadata": {},
   "outputs": [],
   "source": [
    "# Es el numero de encuestado, se elimina\n",
    "df.drop(['Respondent'], axis=1, inplace=True)"
   ]
  },
  {
   "cell_type": "markdown",
   "id": "2c2593a1",
   "metadata": {},
   "source": [
    "### MainBranch"
   ]
  },
  {
   "cell_type": "code",
   "execution_count": 4949,
   "id": "a4b10519",
   "metadata": {},
   "outputs": [
    {
     "data": {
      "text/plain": [
       "I am a developer by profession                                                   47193\n",
       "I am a student who is learning to code                                            7970\n",
       "I am not primarily a developer, but I write code sometimes as part of my work     5502\n",
       "I code primarily as a hobby                                                       2314\n",
       "I used to be a developer by profession, but no longer am                          1183\n",
       "Name: MainBranch, dtype: int64"
      ]
     },
     "execution_count": 4949,
     "metadata": {},
     "output_type": "execute_result"
    }
   ],
   "source": [
    "df['MainBranch'].value_counts()"
   ]
  },
  {
   "cell_type": "code",
   "execution_count": 4950,
   "id": "84113fd1",
   "metadata": {},
   "outputs": [
    {
     "data": {
      "text/plain": [
       "I am a developer by profession                                                   47193\n",
       "I am not primarily a developer, but I write code sometimes as part of my work     5502\n",
       "Name: MainBranch, dtype: int64"
      ]
     },
     "execution_count": 4950,
     "metadata": {},
     "output_type": "execute_result"
    }
   ],
   "source": [
    "# Nos quedamos como aquellos que son desarrolladores por profesion o, si bien no son desarrolladores, \n",
    "# escriben codigo como parte de su trabajo. Se descarta el resto ya que no aportan a la incestigación\n",
    "# Luego se elimina la columna\n",
    "values= ['I am a developer by profession', 'I am not primarily a developer, but I write code sometimes as part of my work']\n",
    "df = df[df.MainBranch.isin(values)]\n",
    "df['MainBranch'].value_counts()"
   ]
  },
  {
   "cell_type": "code",
   "execution_count": 4951,
   "id": "fb2554e1",
   "metadata": {},
   "outputs": [],
   "source": [
    "# Modificamos la columna para que sea más entendible\n",
    "df.MainBranch = df.MainBranch.apply(lambda x: 'Developer' if x == 'I am a developer by profession' else 'Not developer')"
   ]
  },
  {
   "cell_type": "markdown",
   "id": "061a672d",
   "metadata": {},
   "source": [
    "### Hobbyist "
   ]
  },
  {
   "cell_type": "code",
   "execution_count": 4952,
   "id": "b37ec50d",
   "metadata": {},
   "outputs": [],
   "source": [
    "### Describe si ademas de hacerlo de manera laboral, la persona programa como un hobby.\n",
    "### Nos da una media del interes y el gusto de la persona en la programación. Valores Yes y No, se considera correcta"
   ]
  },
  {
   "cell_type": "code",
   "execution_count": 4953,
   "id": "83a0ea25",
   "metadata": {},
   "outputs": [
    {
     "data": {
      "text/plain": [
       "Yes    40433\n",
       "No     12224\n",
       "Name: Hobbyist, dtype: int64"
      ]
     },
     "execution_count": 4953,
     "metadata": {},
     "output_type": "execute_result"
    }
   ],
   "source": [
    "df.Hobbyist.value_counts()"
   ]
  },
  {
   "cell_type": "markdown",
   "id": "32b231a1",
   "metadata": {},
   "source": [
    "### Age"
   ]
  },
  {
   "cell_type": "code",
   "execution_count": 4954,
   "id": "9230f689",
   "metadata": {},
   "outputs": [],
   "source": [
    "# Se consideran nulas todas aquellas edades menores a 16 años y mayores a 90 años\n",
    "df.Age = df.Age.apply(lambda x: None if (x<16 or x>90) else x)"
   ]
  },
  {
   "cell_type": "code",
   "execution_count": 4955,
   "id": "0cd7fc3a",
   "metadata": {},
   "outputs": [],
   "source": [
    "def classify_age(x):\n",
    "    if (x>=16 and x < 25):\n",
    "        return 'Entre 16 y 25'\n",
    "    if (x >= 25 and x < 35):\n",
    "        return 'Entre 25 y 35'\n",
    "    if (x >= 35 and x < 45):\n",
    "        return 'Entre 35 y 45'\n",
    "    if (x >= 45 and x < 55):\n",
    "        return 'Entre 45 y 55'\n",
    "    if (x >=55 and x < 65):\n",
    "        return 'Entre 55 y 65'\n",
    "    if (x >=65 and x < 75):\n",
    "        return 'Entre 65 y 75'\n",
    "    if (x >=75 and x < 85):\n",
    "        return 'Entre 75 y 85'\n",
    "    return None\n",
    "    \n",
    "# Vamos a dividir a las personas en tres grupos: \n",
    "df.Age = df.Age.apply(lambda x: classify_age(x))    \n"
   ]
  },
  {
   "cell_type": "markdown",
   "id": "86b937c4",
   "metadata": {},
   "source": [
    "### Age1stCode"
   ]
  },
  {
   "cell_type": "code",
   "execution_count": 4956,
   "id": "de15f667",
   "metadata": {},
   "outputs": [],
   "source": [
    "# Edad en la que la persona escribió sus primeras lineas de código\n",
    "# Esta columna nos sirve para ver si la persona aprendió a programar a una edad adulta o de pequeño\n",
    "# Vamos a clasificarla en algunos grupos:"
   ]
  },
  {
   "cell_type": "code",
   "execution_count": 4957,
   "id": "f40b2fe2",
   "metadata": {},
   "outputs": [],
   "source": [
    "df.Age1stCode=df.Age1stCode.replace('Older than 85', 65)\n",
    "df.Age1stCode=df.Age1stCode.replace('Younger than 5 years', 5)\n",
    "df.Age1stCode=df.Age1stCode.fillna(90)\n"
   ]
  },
  {
   "cell_type": "code",
   "execution_count": 4958,
   "id": "61df615e",
   "metadata": {},
   "outputs": [],
   "source": [
    "def classify_Age1stCode(x):\n",
    "    if (x>=4 and x < 12):\n",
    "        return 'Antes de los 12'\n",
    "    if (x >= 12 and x < 18):\n",
    "        return 'Entre los 12 y los 18'\n",
    "    if (x >= 18 and x < 25):\n",
    "        return 'Entre los 18 y los 25'\n",
    "    if (x >= 25 and x < 35):\n",
    "        return 'Entre los 25 y los 35'\n",
    "    if (x >= 35 and x < 45):\n",
    "        return 'Entre los 35 y los 45'\n",
    "    if (x >= 45 and x < 60):\n",
    "        return 'Entre los 45 y los 60'\n",
    "    if (x >= 60 and x <= 85):\n",
    "        return 'Despues de los 60'\n",
    "    return None\n",
    "\n",
    "# Vamos a dividir a las personas en tres grupos: \n",
    "df.Age1stCode = df.Age1stCode.apply(lambda x: classify_Age1stCode(int(x))) "
   ]
  },
  {
   "cell_type": "code",
   "execution_count": 4959,
   "id": "423de6cb",
   "metadata": {},
   "outputs": [
    {
     "data": {
      "text/plain": [
       "Entre los 12 y los 18    24914\n",
       "Entre los 18 y los 25    12139\n",
       "Antes de los 12           8881\n",
       "Entre los 25 y los 35     1751\n",
       "Entre los 35 y los 45      181\n",
       "Entre los 45 y los 60       41\n",
       "Despues de los 60           14\n",
       "Name: Age1stCode, dtype: int64"
      ]
     },
     "execution_count": 4959,
     "metadata": {},
     "output_type": "execute_result"
    }
   ],
   "source": [
    "df.Age1stCode.value_counts()"
   ]
  },
  {
   "cell_type": "markdown",
   "id": "2aac4760",
   "metadata": {},
   "source": [
    "### CompFreq"
   ]
  },
  {
   "cell_type": "code",
   "execution_count": 4960,
   "id": "20d75540",
   "metadata": {},
   "outputs": [],
   "source": [
    "# Frecuencia con la que se recibe la compensación, el campo está correcto"
   ]
  },
  {
   "cell_type": "code",
   "execution_count": 4961,
   "id": "83a23316",
   "metadata": {},
   "outputs": [
    {
     "data": {
      "text/plain": [
       "Yearly     19818\n",
       "Monthly    18899\n",
       "Weekly      1352\n",
       "Name: CompFreq, dtype: int64"
      ]
     },
     "execution_count": 4961,
     "metadata": {},
     "output_type": "execute_result"
    }
   ],
   "source": [
    "df.CompFreq.value_counts()"
   ]
  },
  {
   "cell_type": "markdown",
   "id": "6da5324f",
   "metadata": {},
   "source": [
    "### CompTotal"
   ]
  },
  {
   "cell_type": "code",
   "execution_count": 4962,
   "id": "9d228a9f",
   "metadata": {},
   "outputs": [],
   "source": [
    "# Es el salario pero expresado en moneda local por lo que se descarta ya que se utilizará el salario en dolares\n",
    "df.drop(['CompTotal'], axis=1, inplace=True)"
   ]
  },
  {
   "cell_type": "markdown",
   "id": "f4ea6d77",
   "metadata": {},
   "source": [
    "###  ConvertedComp "
   ]
  },
  {
   "cell_type": "code",
   "execution_count": 4963,
   "id": "decab5b6",
   "metadata": {},
   "outputs": [],
   "source": [
    "# Es el salario en dolares, esta columa nos interesa pero tambien vamos a discretizarla"
   ]
  },
  {
   "cell_type": "code",
   "execution_count": 4964,
   "id": "09fa0167",
   "metadata": {},
   "outputs": [],
   "source": [
    "def classify_ConvertedComp(x):\n",
    "    if (x == 0):\n",
    "        return 'Gratis'\n",
    "    if (x > 100 and x < 1000):\n",
    "        return 'Menos de 1000'\n",
    "    if (x > 1000 and x < 3000):\n",
    "        return 'Entre 1.000 y los 3.000'\n",
    "    if (x > 3000 and x < 5000):\n",
    "        return 'Entre 3.000 y los 5.000'\n",
    "    if (x > 5000 and x < 10000):\n",
    "        return 'Entre 5.000 y los 10.000'\n",
    "    if (x > 10000 and x < 20000):\n",
    "        return 'Entre 10.000 y los 20.000'\n",
    "    if (x > 20000 and x < 40000):\n",
    "        return 'Entre 20.000 y los 40.000'\n",
    "    if (x > 40000 and x < 60000):\n",
    "        return 'Entre 40.000 y los 60.000'\n",
    "    if (x > 60000 and x < 80000):\n",
    "        return 'Entre 60.000 y los 80.000'\n",
    "    if (x >= 80000 and x < 100000):\n",
    "        return 'Entre 80.000 y los 100.000'\n",
    "    if (x >= 100000 and x < 250000):\n",
    "        return 'Entre 100.000 y los 250.000'\n",
    "    if (x >= 250000 and x < 500000):\n",
    "        return 'Entre 250.000 y los 500.000'\n",
    "    if (x >= 500000 and x < 1000000):\n",
    "        return 'Entre 500.000 y los 1.000.000'\n",
    "    if (x >= 1000000):\n",
    "        return 'Más de 1.000.000'\n",
    "    return None\n",
    "\n",
    "df.ConvertedComp = df.ConvertedComp.apply(lambda x: classify_ConvertedComp(x))"
   ]
  },
  {
   "cell_type": "code",
   "execution_count": 4965,
   "id": "3c98a6c2",
   "metadata": {},
   "outputs": [
    {
     "data": {
      "text/plain": [
       "Entre 100.000 y los 250.000      6300\n",
       "Entre 20.000 y los 40.000        5957\n",
       "Entre 40.000 y los 60.000        5713\n",
       "Entre 60.000 y los 80.000        4342\n",
       "Entre 10.000 y los 20.000        3506\n",
       "Entre 80.000 y los 100.000       2980\n",
       "Entre 5.000 y los 10.000         2143\n",
       "Entre 3.000 y los 5.000           799\n",
       "Entre 250.000 y los 500.000       675\n",
       "Más de 1.000.000                  656\n",
       "Entre 500.000 y los 1.000.000     584\n",
       "Entre 1.000 y los 3.000           509\n",
       "Gratis                            142\n",
       "Menos de 1000                     139\n",
       "Name: ConvertedComp, dtype: int64"
      ]
     },
     "execution_count": 4965,
     "metadata": {},
     "output_type": "execute_result"
    }
   ],
   "source": [
    "df.ConvertedComp.value_counts()"
   ]
  },
  {
   "cell_type": "markdown",
   "id": "69a3410e",
   "metadata": {},
   "source": [
    "### Country"
   ]
  },
  {
   "cell_type": "code",
   "execution_count": 4966,
   "id": "8d615735",
   "metadata": {},
   "outputs": [],
   "source": [
    "# Convert it to continent"
   ]
  },
  {
   "cell_type": "code",
   "execution_count": 4967,
   "id": "3fe151a3",
   "metadata": {},
   "outputs": [],
   "source": [
    "def get_continent(x):\n",
    "    try:\n",
    "        country_alpha2 = pc.country_name_to_country_alpha2(x)\n",
    "        country_continent_code = pc.country_alpha2_to_continent_code(country_alpha2)\n",
    "        country_continent_name = pc.convert_continent_code_to_continent_name(country_continent_code)\n",
    "        return country_continent_name\n",
    "    except:\n",
    "        return None"
   ]
  },
  {
   "cell_type": "code",
   "execution_count": 4968,
   "id": "456f42c7",
   "metadata": {},
   "outputs": [],
   "source": [
    "df.Country  = df.Country.apply(lambda x: get_continent(x))  "
   ]
  },
  {
   "cell_type": "code",
   "execution_count": 4969,
   "id": "bbae490d",
   "metadata": {},
   "outputs": [],
   "source": [
    "df.rename(columns = {'Country':'Continent'},inplace=True)"
   ]
  },
  {
   "cell_type": "code",
   "execution_count": 4970,
   "id": "2d031afd",
   "metadata": {},
   "outputs": [
    {
     "data": {
      "text/plain": [
       "0               Europe\n",
       "1               Europe\n",
       "3               Europe\n",
       "5               Europe\n",
       "6                 Asia\n",
       "             ...      \n",
       "64154             Asia\n",
       "64155          Oceania\n",
       "64157             Asia\n",
       "64158             Asia\n",
       "64159    South America\n",
       "Name: Continent, Length: 52695, dtype: object"
      ]
     },
     "execution_count": 4970,
     "metadata": {},
     "output_type": "execute_result"
    }
   ],
   "source": [
    "df.Continent"
   ]
  },
  {
   "cell_type": "markdown",
   "id": "3cd43763",
   "metadata": {},
   "source": [
    "### CurrencyDesc /  CurrencySymbol"
   ]
  },
  {
   "cell_type": "code",
   "execution_count": 4971,
   "id": "a92e3667",
   "metadata": {},
   "outputs": [],
   "source": [
    "# Muchos valores, el salario se analizará en dolares y no aremos un analisis por país sino que a nivel continental\n",
    "# por lo que la columna se descarta."
   ]
  },
  {
   "cell_type": "code",
   "execution_count": 4972,
   "id": "87557e04",
   "metadata": {},
   "outputs": [
    {
     "data": {
      "text/plain": [
       "United States dollar    11050\n",
       "European Euro           10000\n",
       "Indian rupee             4930\n",
       "Pound sterling           3127\n",
       "Canadian dollar          1570\n",
       "                        ...  \n",
       "Lesotho loti                1\n",
       "Somali shilling             1\n",
       "Libyan dinar                1\n",
       "Namibian dollar             1\n",
       "Macanese pataca             1\n",
       "Name: CurrencyDesc, Length: 142, dtype: int64"
      ]
     },
     "execution_count": 4972,
     "metadata": {},
     "output_type": "execute_result"
    }
   ],
   "source": [
    "df['CurrencyDesc'].value_counts()"
   ]
  },
  {
   "cell_type": "markdown",
   "id": "a4f85e8e",
   "metadata": {},
   "source": [
    "###  DatabaseDesireNextYear"
   ]
  },
  {
   "cell_type": "markdown",
   "id": "9614e8e3",
   "metadata": {},
   "source": [
    "### DatabaseWorkedWith"
   ]
  },
  {
   "cell_type": "markdown",
   "id": "df1cb782",
   "metadata": {},
   "source": [
    "### DevType"
   ]
  },
  {
   "cell_type": "code",
   "execution_count": 4973,
   "id": "327e208f",
   "metadata": {},
   "outputs": [],
   "source": [
    "# Profesiones\n",
    "devtypes = ['Academic researcher',\n",
    "'Data or business analyst',\n",
    "'Data scientist or machine learning specialist',\n",
    "'Database administrator',\n",
    "'Designer',\n",
    "'Developer, back-end',\n",
    "'Developer, desktop or enterprise applications',\n",
    "'Developer, embedded applications or devices',\n",
    "'Developer, front-end',\n",
    "'Developer, full-stack',\n",
    "'Developer, game or graphics',\n",
    "'Developer, mobile',\n",
    "'Developer, QA or test',\n",
    "'DevOps specialist',\n",
    "'Educator',\n",
    "'Engineer, data',\n",
    "'Engineer, site reliability',\n",
    "'Engineering manager',\n",
    "'Marketing or sales professional',\n",
    "'Product manager',\n",
    "'Scientist',\n",
    "'Senior Executive (C-Suite, VP, etc.)',\n",
    "'System administrator']"
   ]
  },
  {
   "cell_type": "code",
   "execution_count": 4974,
   "id": "404e0846",
   "metadata": {},
   "outputs": [],
   "source": [
    "#Inicializo las columnas en None\n",
    "for column in devtypes:\n",
    "    df[column] = None"
   ]
  },
  {
   "cell_type": "code",
   "execution_count": 4975,
   "id": "457b92c3",
   "metadata": {},
   "outputs": [],
   "source": [
    "#Reemplazo valores nulos en DevType por \"\"\n",
    "df['DevType']=df['DevType'].fillna(\"\")"
   ]
  },
  {
   "cell_type": "code",
   "execution_count": 4976,
   "id": "c74f667b",
   "metadata": {},
   "outputs": [],
   "source": [
    "# Para cada profesion me fijo si la persona se dedida o no a ella\n",
    "for column in devtypes:\n",
    "    df[column] = df['DevType'].apply(lambda x: column in x )"
   ]
  },
  {
   "cell_type": "code",
   "execution_count": 4977,
   "id": "2de2c1bb",
   "metadata": {},
   "outputs": [
    {
     "name": "stdout",
     "output_type": "stream",
     "text": [
      "False    49546\n",
      "True      3149\n",
      "Name: Academic researcher, dtype: int64\n",
      "False    49057\n",
      "True      3638\n",
      "Name: Data or business analyst, dtype: int64\n",
      "False    49043\n",
      "True      3652\n",
      "Name: Data scientist or machine learning specialist, dtype: int64\n",
      "False    47353\n",
      "True      5342\n",
      "Name: Database administrator, dtype: int64\n",
      "False    47989\n",
      "True      4706\n",
      "Name: Designer, dtype: int64\n",
      "False    26816\n",
      "True     25879\n",
      "Name: Developer, back-end, dtype: int64\n",
      "False    41530\n",
      "True     11165\n",
      "Name: Developer, desktop or enterprise applications, dtype: int64\n",
      "False    48229\n",
      "True      4466\n",
      "Name: Developer, embedded applications or devices, dtype: int64\n",
      "False    35541\n",
      "True     17154\n",
      "Name: Developer, front-end, dtype: int64\n",
      "False    26868\n",
      "True     25827\n",
      "Name: Developer, full-stack, dtype: int64\n",
      "False    50246\n",
      "True      2449\n",
      "Name: Developer, game or graphics, dtype: int64\n",
      "False    43867\n",
      "True      8828\n",
      "Name: Developer, mobile, dtype: int64\n",
      "False    48987\n",
      "True      3708\n",
      "Name: Developer, QA or test, dtype: int64\n",
      "False    46924\n",
      "True      5771\n",
      "Name: DevOps specialist, dtype: int64\n",
      "False    50087\n",
      "True      2608\n",
      "Name: Educator, dtype: int64\n",
      "False    49195\n",
      "True      3500\n",
      "Name: Engineer, data, dtype: int64\n",
      "False    50856\n",
      "True      1839\n",
      "Name: Engineer, site reliability, dtype: int64\n",
      "False    50227\n",
      "True      2468\n",
      "Name: Engineering manager, dtype: int64\n",
      "False    52189\n",
      "True       506\n",
      "Name: Marketing or sales professional, dtype: int64\n",
      "False    50496\n",
      "True      2199\n",
      "Name: Product manager, dtype: int64\n",
      "False    50800\n",
      "True      1895\n",
      "Name: Scientist, dtype: int64\n",
      "False    52695\n",
      "Name: Senior Executive (C-Suite, VP, etc.), dtype: int64\n",
      "False    47929\n",
      "True      4766\n",
      "Name: System administrator, dtype: int64\n"
     ]
    }
   ],
   "source": [
    "# Vemos como quedaron las columnas\n",
    "for column in devtypes:\n",
    "    print(df[column].value_counts())"
   ]
  },
  {
   "cell_type": "code",
   "execution_count": 4978,
   "id": "fe3b4102",
   "metadata": {},
   "outputs": [],
   "source": [
    "# Elimino Jobfactors\n",
    "df = df.drop('DevType', axis=1)"
   ]
  },
  {
   "cell_type": "markdown",
   "id": "4cd640de",
   "metadata": {},
   "source": [
    "### EdLevel"
   ]
  },
  {
   "cell_type": "code",
   "execution_count": 4979,
   "id": "8ff3726b",
   "metadata": {},
   "outputs": [],
   "source": [
    "# Solo se emprolijan los valores"
   ]
  },
  {
   "cell_type": "code",
   "execution_count": 4980,
   "id": "13039b78",
   "metadata": {},
   "outputs": [
    {
     "data": {
      "text/plain": [
       "Bachelor’s degree (B.A., B.S., B.Eng., etc.)                                          23539\n",
       "Master’s degree (M.A., M.S., M.Eng., MBA, etc.)                                       12194\n",
       "Some college/university study without earning a degree                                 5484\n",
       "Secondary school (e.g. American high school, German Realschule or Gymnasium, etc.)     2161\n",
       "Other doctoral degree (Ph.D., Ed.D., etc.)                                             1563\n",
       "Associate degree (A.A., A.S., etc.)                                                    1529\n",
       "Professional degree (JD, MD, etc.)                                                      692\n",
       "I never completed any formal education                                                  325\n",
       "Primary/elementary school                                                               257\n",
       "Name: EdLevel, dtype: int64"
      ]
     },
     "execution_count": 4980,
     "metadata": {},
     "output_type": "execute_result"
    }
   ],
   "source": [
    "df['EdLevel'].value_counts()"
   ]
  },
  {
   "cell_type": "code",
   "execution_count": 4981,
   "id": "d1d42308",
   "metadata": {},
   "outputs": [],
   "source": [
    "def  reformat_edlevel(x):\n",
    "    if 'Bachelor’s degree' in x:\n",
    "        return 'Bachelor'\n",
    "    if 'Master’s degree' in x:\n",
    "        return 'Master'\n",
    "    if 'Some college/university study without earning a degree' in x:\n",
    "        return 'Incomplete university'\n",
    "    if 'Secondary school' in x:\n",
    "        return 'Secondary'\n",
    "    if 'Associate degree' in x:\n",
    "        return 'Associate'\n",
    "    if 'Other doctoral degree (Ph.D., Ed.D., etc.)'in x:\n",
    "        return 'Doctorate'\n",
    "    if 'Professional degree (JD, MD, etc.)' in x:\n",
    "        return 'Professional'\n",
    "    if 'Primary/elementary school' in x:\n",
    "        return 'Primary'\n",
    "    if 'I never completed any formal education' in x:\n",
    "        return 'Without studies'\n",
    "    return None\n",
    "\n",
    "df['EdLevel']=df['EdLevel'].fillna(\"\")\n",
    "df['EdLevel'] = df['EdLevel'].apply(lambda x: reformat_edlevel(x))"
   ]
  },
  {
   "cell_type": "code",
   "execution_count": 4982,
   "id": "d9ab32f9",
   "metadata": {},
   "outputs": [
    {
     "data": {
      "text/plain": [
       "Bachelor                 23539\n",
       "Master                   12194\n",
       "Incomplete university     5484\n",
       "Secondary                 2161\n",
       "Doctorate                 1563\n",
       "Associate                 1529\n",
       "Professional               692\n",
       "Without studies            325\n",
       "Primary                    257\n",
       "Name: EdLevel, dtype: int64"
      ]
     },
     "execution_count": 4982,
     "metadata": {},
     "output_type": "execute_result"
    }
   ],
   "source": [
    "df['EdLevel'].value_counts()"
   ]
  },
  {
   "cell_type": "markdown",
   "id": "f44ba6db",
   "metadata": {},
   "source": [
    "###  Employment"
   ]
  },
  {
   "cell_type": "code",
   "execution_count": 4983,
   "id": "629cf5d1",
   "metadata": {},
   "outputs": [
    {
     "data": {
      "text/plain": [
       "Employed full-time                                      43348\n",
       "Independent contractor, freelancer, or self-employed     5001\n",
       "Employed part-time                                       1634\n",
       "Student                                                  1118\n",
       "Not employed, but looking for work                       1108\n",
       "Not employed, and not looking for work                     94\n",
       "Retired                                                    67\n",
       "Name: Employment, dtype: int64"
      ]
     },
     "execution_count": 4983,
     "metadata": {},
     "output_type": "execute_result"
    }
   ],
   "source": [
    "df['Employment'].value_counts()"
   ]
  },
  {
   "cell_type": "code",
   "execution_count": 4984,
   "id": "1bbd59dd",
   "metadata": {},
   "outputs": [
    {
     "data": {
      "text/plain": [
       "Employed full-time    43348\n",
       "Employed part-time     1634\n",
       "Name: Employment, dtype: int64"
      ]
     },
     "execution_count": 4984,
     "metadata": {},
     "output_type": "execute_result"
    }
   ],
   "source": [
    "# Para el analisis solo nos interesan los aquellos que estan empleados full time o part time, \n",
    "# el resto no aporta a la investigación\n",
    "df = df[df.Employment.isin(['Employed full-time', 'Employed part-time'])]\n",
    "df.Employment.value_counts()"
   ]
  },
  {
   "cell_type": "code",
   "execution_count": 4985,
   "id": "bf0f3f4d",
   "metadata": {},
   "outputs": [],
   "source": [
    "# Dado que la cantidad de empleados part time no es significativa, se elimina la columna\n",
    "df = df.drop('Employment', axis=1)"
   ]
  },
  {
   "cell_type": "markdown",
   "id": "ae5ef0ce",
   "metadata": {},
   "source": [
    "### Ethnicity"
   ]
  },
  {
   "cell_type": "code",
   "execution_count": 4986,
   "id": "d60da9e7",
   "metadata": {},
   "outputs": [
    {
     "data": {
      "text/plain": [
       "MainBranch     Hobbyist  Age            Age1stCode             CompFreq  ConvertedComp                Continent      CurrencyDesc          CurrencySymbol  DatabaseDesireNextYear                                 DatabaseWorkedWith                                                                      EdLevel       Ethnicity                                              Gender  JobFactors                                                                                                                                                    JobSat                              JobSeek                                                       LanguageDesireNextYear                                                      LanguageWorkedWith                                                                        MiscTechDesireNextYear                                MiscTechWorkedWith                                                                  NEWCollabToolsDesireNextYear                                                 NEWCollabToolsWorkedWith                                                            NEWDevOps  NEWDevOpsImpt        NEWEdImpt                           NEWJobHunt                                                                                                                                                                                                                          NEWJobHuntResearch                                                                                                                                                                                                                                                                                                                                                          NEWLearn              NEWOffTopic  NEWOnboardGood                NEWOtherComms  NEWOvertime                                               NEWPurchaseResearch                                                                                                                                           NEWPurpleLink      NEWSOSites                                                                                                                                  NEWStuck                                                                                                                                                                 OpSys        OrgSize                   PlatformDesireNextYear                                                                                      PlatformWorkedWith                                                                                                                                      PurchaseWhat                      Sexuality                SOAccount  SOComm           SOPartFreq                                          SOVisitFreq                      SurveyEase                  SurveyLength           Trans  UndergradMajor                                                   WebframeDesireNextYear                                WebframeWorkedWith                                                                                   WelcomeChange                             WorkWeekHrs  YearsCode  YearsCodePro  Academic researcher  Data or business analyst  Data scientist or machine learning specialist  Database administrator  Designer  Developer, back-end  Developer, desktop or enterprise applications  Developer, embedded applications or devices  Developer, front-end  Developer, full-stack  Developer, game or graphics  Developer, mobile  Developer, QA or test  DevOps specialist  Educator  Engineer, data  Engineer, site reliability  Engineering manager  Marketing or sales professional  Product manager  Scientist  Senior Executive (C-Suite, VP, etc.)  System administrator\n",
       "Developer      No        Entre 16 y 25  Antes de los 12        Monthly   Entre 10.000 y los 20.000    Asia           United States dollar  USD             Firebase;MongoDB;MySQL;SQLite                          Couchbase;Firebase;MariaDB;Microsoft SQL Server;MongoDB;MySQL;Oracle;PostgreSQL;SQLite  Bachelor      South Asian                                            Man     Languages, frameworks, and other technologies I’d be working with;Remote work options;Office environment or company culture                                   Neither satisfied nor dissatisfied  I’m not actively looking, but I am open to new opportunities  Dart;Java;JavaScript;Kotlin;Python;TypeScript                               C++;Dart;Go;HTML/CSS;Java;JavaScript;Kotlin;PHP;Python;R;Ruby;Scala;SQL;Swift;TypeScript  Flutter;Keras;Node.js;Pandas;React Native;TensorFlow  .NET;Cordova;Flutter;Keras;Node.js;Pandas;React Native;TensorFlow;Unity 3D;Xamarin  Jira;Github;Gitlab;Slack;Google Suite (Docs, Meet, etc)                      Confluence;Jira;Github;Gitlab;Slack;Microsoft Teams;Google Suite (Docs, Meet, etc)  No         Extremely important  Fairly important                    Trouble with leadership at my company;Better work/life balance;Wanting to work with new technologies;Looking to relocate                                                                                                            Read company media, such as employee blogs or company culture videos;Company reviews from third party sites (e.g. Glassdoor, Blind);Read other media like news articles, founder profiles, etc. about the company                                                                                                                                                           Every few months      Yes          No                            Yes            Often: 1-2 days per week or more                          Visit developer communities like Stack Overflow;Research companies that have advertised on sites I visit                                                      Hello, old friend  Stack Overflow (public Q&A for anyone who codes);Stack Exchange (public Q&A for a variety of topics);Stack Overflow Jobs (for job seekers)  Visit Stack Overflow;Watch help / tutorial videos                                                                                                                        Linux-based  20 to 99 employees        Android;Arduino;AWS;Docker;Google Cloud Platform;Kubernetes;Linux;Raspberry Pi                              Android;Arduino;AWS;Docker;Google Cloud Platform;iOS;Kubernetes;Linux;MacOS;Microsoft Azure;Raspberry Pi;Slack Apps and Integrations;Windows;WordPress  I have some influence             Bisexual                 Yes        Yes, definitely  Daily or almost daily                               Multiple times per day           Easy                        Appropriate in length  No     Computer science, computer engineering, or software engineering  Angular;Django;Express;Flask;jQuery;Laravel;React.js  Angular;Angular.js;ASP.NET;Django;Express;Flask;jQuery;Laravel;React.js;Ruby on Rails;Spring;Vue.js  A lot more welcome now than last year     50.0         13         5             False                False                     False                                          False                   False     True                 True                                           True                                         True                  True                   False                        True               False                  True               True      False           False                       False                False                            False            False      False                                 False                   1\n",
       "               Yes       Entre 25 y 35  Entre los 18 y los 25  Yearly    Entre 100.000 y los 250.000  North America  United States dollar  USD             DynamoDB;MySQL;PostgreSQL;SQLite                       DynamoDB;Elasticsearch;MySQL;PostgreSQL;SQLite                                          Bachelor      White or of European descent                           Man     Flex time or a flexible schedule;Languages, frameworks, and other technologies I’d be working with;Specific department or team I’d be working on              Slightly satisfied                  I am not interested in new job opportunities                  Bash/Shell/PowerShell;HTML/CSS;Java;JavaScript;Python;Rust                  Bash/Shell/PowerShell;C#;HTML/CSS;Java;JavaScript;Python;SQL                              Node.js;TensorFlow;Teraform                           .NET;Chef;Node.js;Teraform                                                          Confluence;Jira;Github;Slack;Trello;Google Suite (Docs, Meet, etc)           Confluence;Github;Slack;Trello;Google Suite (Docs, Meet, etc)                       No         Extremely important  Fairly important                    Better compensation;Trouble with my teammates;Trouble with my direct manager;Better work/life balance;Wanting to work with new technologies;Growth or leadership opportunities                                                      Read company media, such as employee blogs or company culture videos;Company reviews from third party sites (e.g. Glassdoor, Blind);Personal network - friends or family;Directly asking current or past employees at the company                                                                                                                                           Every few months      Yes          No                            No             Sometimes: 1-2 days per month but less than weekly        Start a free trial;Ask developers I know/work with;Visit developer communities like Stack Overflow                                                            Amused             Stack Overflow (public Q&A for anyone who codes);Stack Exchange (public Q&A for a variety of topics)                                        Visit Stack Overflow;Go for a walk or other physical activity;Watch help / tutorial videos;Do other work and come back later                                             MacOS        1,000 to 4,999 employees  Android;AWS;Docker;Linux;MacOS;Raspberry Pi                                                                 AWS;Docker;Kubernetes;Linux;MacOS                                                                                                                       I have some influence             Straight / Heterosexual  Yes        Yes, somewhat    Less than once per month or monthly                 Daily or almost daily            Easy                        Appropriate in length  No     Computer science, computer engineering, or software engineering  Express;Spring                                        ASP.NET;Express;Spring                                                                               Just as welcome now as I felt last year   40.0         8          7             False                False                     False                                          False                   False     True                 False                                          False                                        False                 False                  False                        False              True                   True               False     False           False                       True                 False                            False            False      False                                 False                   1\n",
       "                                                                                                                                                           Elasticsearch;Microsoft SQL Server;MongoDB;PostgreSQL  IBM DB2;Microsoft SQL Server;MongoDB;Oracle;PostgreSQL                                  Bachelor      White or of European descent;Biracial;Southeast Asian  Man     Specific department or team I’d be working on;Office environment or company culture;Opportunities for professional development                                Very satisfied                      I am not interested in new job opportunities                  Bash/Shell/PowerShell;C#;Python;Rust;TypeScript                             Bash/Shell/PowerShell;C#;JavaScript;Python;TypeScript                                     .NET;.NET Core;Node.js;React Native;Teraform          .NET;.NET Core;Teraform                                                             Github;Slack;Google Suite (Docs, Meet, etc)                                  Github;Slack;Microsoft Teams;Google Suite (Docs, Meet, etc)                         Yes        Extremely important  Somewhat important                  Curious about other opportunities;Trouble with my teammates;Trouble with my direct manager;Trouble with leadership at my company;Better work/life balance;Wanting to work with new technologies;Growth or leadership opportunities  Read company media, such as employee blogs or company culture videos;Company reviews from third party sites (e.g. Glassdoor, Blind);Personal network - friends or family;Directly asking current or past employees at the company                                                                                                                                           Every few months      No           Yes                           Yes            Occasionally: 1-2 days per quarter but less than monthly  Start a free trial;Ask developers I know/work with;Visit developer communities like Stack Overflow                                                            Hello, old friend  Stack Overflow (public Q&A for anyone who codes);Stack Exchange (public Q&A for a variety of topics);Stack Overflow Jobs (for job seekers)  Play games;Call a coworker or friend;Visit Stack Overflow;Go for a walk or other physical activity;Watch help / tutorial videos                                          Windows      100 to 499 employees      AWS;Docker;Google Cloud Platform;Kubernetes;Linux;Microsoft Azure;Windows                                   AWS;Docker;Kubernetes;Linux;Windows                                                                                                                     I have some influence             Straight / Heterosexual  Yes        Yes, somewhat    Less than once per month or monthly                 Daily or almost daily            Easy                        Appropriate in length  No     Mathematics or statistics                                        Angular;ASP.NET Core;Flask;React.js                   Angular;ASP.NET;ASP.NET Core                                                                         Just as welcome now as I felt last year   32.0         14         12            False                False                     False                                          False                   False     True                 False                                          False                                        False                 True                   False                        False              False                  False              False     False           False                       False                False                            False            False      False                                 False                   1\n",
       "                                                                                                                                                           Elasticsearch;Microsoft SQL Server;PostgreSQL;Redis    Elasticsearch;Microsoft SQL Server;PostgreSQL;Redis;SQLite                              Bachelor      White or of European descent                           Man     Industry that I’d be working in;How widely used or impactful my work output would be;Office environment or company culture                                    Slightly satisfied                  I’m not actively looking, but I am open to new opportunities  Bash/Shell/PowerShell;C#;HTML/CSS;JavaScript;Python;Ruby;SQL;TypeScript     Bash/Shell/PowerShell;C#;HTML/CSS;JavaScript;Kotlin;PHP;Python;Ruby;SQL;TypeScript        .NET;.NET Core;Node.js                                .NET;.NET Core                                                                      Jira;Github;Slack;Trello;Google Suite (Docs, Meet, etc)                      Github;Gitlab;Slack;Google Suite (Docs, Meet, etc)                                  Yes        Extremely important  Somewhat important                  Having a bad day (or week or month) at work;Better compensation;Trouble with leadership at my company;Wanting to work with new technologies;Growth or leadership opportunities                                                      Read company media, such as employee blogs or company culture videos;Company reviews from third party sites (e.g. Glassdoor, Blind);Publicly available financial information (e.g. Crunchbase);Personal network - friends or family;Read other media like news articles, founder profiles, etc. about the company                                                           Once every few years  Yes          No                            Yes            Rarely: 1-2 days per year or less                         Start a free trial;Ask developers I know/work with                                                                                                            Amused             Stack Overflow (public Q&A for anyone who codes);Stack Exchange (public Q&A for a variety of topics)                                        Play games;Call a coworker or friend;Visit Stack Overflow;Go for a walk or other physical activity;Panic;Watch help / tutorial videos;Do other work and come back later  MacOS        10,000 or more employees  Docker;Heroku;Kubernetes;Linux;MacOS;Raspberry Pi;Windows                                                   Android;Docker;Google Cloud Platform;Heroku;iOS;Kubernetes;Linux;MacOS;Windows                                                                          I have some influence             Straight / Heterosexual  Yes        No, not really   Less than once per month or monthly                 A few times per week             Neither easy nor difficult  Appropriate in length  No     A natural science (such as biology, chemistry, physics, etc.)    Laravel;React.js;Ruby on Rails;Symfony                React.js;Ruby on Rails                                                                               Just as welcome now as I felt last year   40.0         8          5             False                False                     False                                          False                   False     True                 False                                          False                                        True                  True                   False                        False              False                  False              False     False           False                       False                False                            False            False      False                                 False                   1\n",
       "                                                                                                                                                           Elasticsearch;MongoDB;MySQL;PostgreSQL;Redis           MySQL;PostgreSQL                                                                        Bachelor      White or of European descent                           Woman   Financial performance or funding status of the company or organization;Office environment or company culture;Opportunities for professional development       Slightly dissatisfied               I am actively looking for a job                               Dart;HTML/CSS;JavaScript;Kotlin;Python;Rust;SQL;Swift;TypeScript            Dart;HTML/CSS;JavaScript;Python;SQL;TypeScript                                            Flutter;Node.js;Pandas                                Flutter;Node.js                                                                     Confluence;Github;Slack;Google Suite (Docs, Meet, etc)                       Confluence;Jira;Github;Slack;Google Suite (Docs, Meet, etc)                         Yes        Extremely important  Very important                      Curious about other opportunities;Better compensation;Wanting to work with new technologies;Growth or leadership opportunities                                                                                                      Read company media, such as employee blogs or company culture videos;Company reviews from third party sites (e.g. Glassdoor, Blind);Personal network - friends or family;Read other media like news articles, founder profiles, etc. about the company                                                                                                                      Once a year           No           No                            No             Never                                                     Ask developers I know/work with;Read ratings or reviews on third party sites like G2Crowd                                                                     Amused             Stack Overflow (public Q&A for anyone who codes);Stack Exchange (public Q&A for a variety of topics)                                        Visit Stack Overflow;Do other work and come back later                                                                                                                   MacOS        20 to 99 employees        Docker;Linux;MacOS;Slack Apps and Integrations                                                              Google Cloud Platform;Linux;MacOS;WordPress                                                                                                             I have a great deal of influence  Bisexual                 Yes        No, not really   Less than once per month or monthly                 A few times per month or weekly  Easy                        Appropriate in length  No     Computer science, computer engineering, or software engineering  Flask;React.js;Vue.js                                 Angular.js;Flask;jQuery;Vue.js                                                                       Just as welcome now as I felt last year   40.0         10         7             False                False                     False                                          False                   False     False                False                                          False                                        True                  True                   False                        False              False                  False              False     False           False                       True                 False                            False            False      False                                 False                   1\n",
       "                                                                                                                                                                                                                                                                                                                                                                                                                                                                                                                                                                                                                                                                                                                                                                                                                                                                                                                                                                                                                                                                                                                                                                                                                                                                                                                                                                                                                                                                                                                                                                                                                                                                                                                                                                                                                                                                                                                                                                                                                                                                                                                                                                                                                                                                                                                                                                                                                                                                                                                                                                                                                                                                                                                                                                                                                                                                                                                                                                                                                                                                                                                                                                                                                                                                                                                                                                                                                                                                                                                                                                                                                                                                                                                                                                                                                                                                                                                                      ..\n",
       "                                        Antes de los 12        Yearly    Entre 60.000 y los 80.000    Europe         European Euro         EUR             Elasticsearch;Firebase;MongoDB;MySQL                   Firebase;Microsoft SQL Server;MongoDB;MySQL;Oracle;PostgreSQL;SQLite                    Master        White or of European descent                           Man     Industry that I’d be working in;Remote work options;Office environment or company culture                                                                     Slightly satisfied                  I’m not actively looking, but I am open to new opportunities  Bash/Shell/PowerShell;Go;HTML/CSS;JavaScript;Kotlin;Python;Rust;TypeScript  Bash/Shell/PowerShell;C;C++;HTML/CSS;Java;JavaScript;Perl;PHP;Python;SQL;TypeScript       Node.js;TensorFlow;Unreal Engine                      .NET;Cordova;Node.js                                                                Github;Gitlab;Slack;Google Suite (Docs, Meet, etc);Stack Overflow for Teams  Confluence;Jira;Github;Slack;Trello;Google Suite (Docs, Meet, etc)                  Yes        Extremely important  Not at all important/not necessary  Having a bad day (or week or month) at work;Curious about other opportunities;Better compensation;Trouble with my teammates;Trouble with leadership at my company;Wanting to work with new technologies;Looking to relocate         Read company media, such as employee blogs or company culture videos;Company reviews from third party sites (e.g. Glassdoor, Blind);Publicly available financial information (e.g. Crunchbase);Personal network - friends or family;Read other media like news articles, founder profiles, etc. about the company;Directly asking current or past employees at the company  Once every few years  No           No                            No             Sometimes: 1-2 days per month but less than weekly        Start a free trial;Ask developers I know/work with;Visit developer communities like Stack Overflow;Read ratings or reviews on third party sites like G2Crowd  Annoyed            Stack Overflow (public Q&A for anyone who codes);Stack Exchange (public Q&A for a variety of topics);Stack Overflow Jobs (for job seekers)  Call a coworker or friend;Visit Stack Overflow;Watch help / tutorial videos;Do other work and come back later                                                            Linux-based  100 to 499 employees      Android;Arduino;AWS;Docker;Google Cloud Platform;Kubernetes;Linux;Raspberry Pi;Slack Apps and Integrations  Arduino;AWS;Docker;Google Cloud Platform;Kubernetes;Linux;MacOS;Microsoft Azure;Raspberry Pi;Slack Apps and Integrations;Windows;WordPress              I have some influence             Straight / Heterosexual  Yes        No, not really   Less than once per month or monthly                 Multiple times per day           Neither easy nor difficult  Appropriate in length  No     Computer science, computer engineering, or software engineering  Express;React.js;Ruby on Rails;Vue.js                 Angular.js;Django;Express;jQuery;React.js;Vue.js                                                     Just as welcome now as I felt last year   38.0         25         12            False                False                     False                                          False                   False     False                False                                          False                                        True                  True                   False                        False              True                   False              False     False           False                       False                False                            False            False      False                                 True                    1\n",
       "                                                                                                                                                           Elasticsearch;MongoDB;PostgreSQL;SQLite                MongoDB;PostgreSQL;SQLite                                                               Bachelor      White or of European descent                           Man     Languages, frameworks, and other technologies I’d be working with;Office environment or company culture;Opportunities for professional development            Very satisfied                      I’m not actively looking, but I am open to new opportunities  Python;Rust;SQL                                                             Bash/Shell/PowerShell;HTML/CSS;JavaScript;Python;Rust;SQL                                 Apache Spark;Keras;Pandas;TensorFlow;Torch/PyTorch    Keras;Pandas;TensorFlow;Torch/PyTorch                                               Confluence;Jira;Github;Gitlab;Slack;Google Suite (Docs, Meet, etc)           Confluence;Jira;Github;Gitlab;Slack;Google Suite (Docs, Meet, etc)                  No         Somewhat important   Fairly important                    Just because;Curious about other opportunities;Better compensation;Looking to relocate                                                                                                                                              Read company media, such as employee blogs or company culture videos;Company reviews from third party sites (e.g. Glassdoor, Blind);Publicly available financial information (e.g. Crunchbase);Personal network - friends or family;Read other media like news articles, founder profiles, etc. about the company;Directly asking current or past employees at the company  Every few months      No           Yes                           No             Occasionally: 1-2 days per quarter but less than monthly  Start a free trial;Ask developers I know/work with;Visit developer communities like Stack Overflow                                                            Hello, old friend  Stack Overflow (public Q&A for anyone who codes);Stack Exchange (public Q&A for a variety of topics);Stack Overflow Jobs (for job seekers)  Visit Stack Overflow;Go for a walk or other physical activity;Watch help / tutorial videos;Do other work and come back later                                             Linux-based  10 to 19 employees        Docker;Google Cloud Platform;Kubernetes;Linux                                                               Docker;Google Cloud Platform;Kubernetes;Linux;Windows                                                                                                   I have some influence             Straight / Heterosexual  Yes        Neutral          Less than once per month or monthly                 Multiple times per day           Easy                        Appropriate in length  No     Computer science, computer engineering, or software engineering  Django                                                Django;jQuery                                                                                        A lot less welcome now than last year     39.0         13         4             False                False                     True                                           False                   False     True                 False                                          False                                        False                 True                   False                        False              False                  False              False     True            False                       False                False                            False            True       False                                 False                   1\n",
       "                                                                                                                                                           Elasticsearch;MySQL;PostgreSQL;Redis                   Firebase;MariaDB;MySQL;Oracle;PostgreSQL;Redis                                          Bachelor      White or of European descent                           Man     Languages, frameworks, and other technologies I’d be working with;How widely used or impactful my work output would be;Office environment or company culture  Very satisfied                      I’m not actively looking, but I am open to new opportunities  HTML/CSS;Java;JavaScript;PHP;SQL;TypeScript                                 HTML/CSS;Java;JavaScript;PHP;Python;SQL;TypeScript                                        Node.js                                               Node.js;Pandas                                                                      Confluence;Jira;Github;Microsoft Teams                                       Confluence;Jira;Github;Microsoft Teams;Google Suite (Docs, Meet, etc)               No         Somewhat important   Not at all important/not necessary  Just because;Having a bad day (or week or month) at work;Curious about other opportunities;Better compensation                                                                                                                      Read company media, such as employee blogs or company culture videos;Company reviews from third party sites (e.g. Glassdoor, Blind);Personal network - friends or family;Read other media like news articles, founder profiles, etc. about the company                                                                                                                      Every few months      Yes          No                            Yes            Often: 1-2 days per week or more                          Start a free trial;Ask developers I know/work with;Visit developer communities like Stack Overflow;Research companies that have advertised on sites I visit   Hello, old friend  Stack Overflow (public Q&A for anyone who codes);Stack Exchange (public Q&A for a variety of topics)                                        Visit Stack Overflow;Go for a walk or other physical activity                                                                                                            Windows      100 to 499 employees      AWS;Docker;Heroku;Linux                                                                                     Docker;Google Cloud Platform;Linux;WordPress                                                                                                            I have some influence             Straight / Heterosexual  Yes        Yes, somewhat    Less than once per month or monthly                 Multiple times per day           Easy                        Appropriate in length  No     I never declared a major                                         Express;jQuery;Laravel;Vue.js                         Angular.js;Express;jQuery;Laravel                                                                    Somewhat more welcome now than last year  40.0         15         5             False                True                      False                                          True                    True      True                 False                                          False                                        True                  True                   False                        False              False                  False              False     False           False                       False                True                             False            False      False                                 False                   1\n",
       "                                                                                                                                                           Elasticsearch;PostgreSQL;Redis                         Elasticsearch;PostgreSQL;Redis                                                          Master        White or of European descent                           Man     Languages, frameworks, and other technologies I’d be working with;Remote work options;Office environment or company culture                                   Very satisfied                      I am not interested in new job opportunities                  JavaScript;Python;SQL                                                       Bash/Shell/PowerShell;HTML/CSS;JavaScript;Python;SQL                                      Ansible                                               Ansible                                                                             Github;Slack;Trello;Google Suite (Docs, Meet, etc)                           Jira;Github;Gitlab;Slack;Trello;Google Suite (Docs, Meet, etc)                      No         Extremely important  Critically important                Having a bad day (or week or month) at work;Curious about other opportunities;Better compensation;Trouble with my direct manager;Trouble with leadership at my company                                                              Read company media, such as employee blogs or company culture videos;Personal network - friends or family;Read other media like news articles, founder profiles, etc. about the company;Directly asking current or past employees at the company                                                                                                                            Once every few years  Not sure     Yes                           No             Never                                                     Start a free trial;Ask developers I know/work with;Visit developer communities like Stack Overflow                                                            Amused             Stack Overflow (public Q&A for anyone who codes);Stack Exchange (public Q&A for a variety of topics);Stack Overflow Jobs (for job seekers)  Visit Stack Overflow;Go for a walk or other physical activity;Watch help / tutorial videos;Do other work and come back later                                             Linux-based  20 to 99 employees        AWS;Docker;Linux                                                                                            AWS;Docker;Linux                                                                                                                                        I have some influence             Straight / Heterosexual  Yes        No, not really   Less than once per month or monthly                 Multiple times per day           Easy                        Appropriate in length  No     Computer science, computer engineering, or software engineering  Django;React.js;Vue.js                                Django;jQuery                                                                                        Just as welcome now as I felt last year   40.0         8          6             False                False                     False                                          False                   False     True                 False                                          False                                        True                  True                   False                        False              False                  True               False     False           False                       False                False                            False            False      False                                 False                   1\n",
       "Not developer  Yes       Entre 65 y 75  Entre los 18 y los 25  Monthly   Entre 20.000 y los 40.000    Europe         Russian ruble         RUB             Elasticsearch;Microsoft SQL Server                     MariaDB;Microsoft SQL Server;MySQL                                                      Professional  White or of European descent                           Man     Industry that I’d be working in;Languages, frameworks, and other technologies I’d be working with;Office environment or company culture                       Very satisfied                      I am not interested in new job opportunities                  C#;HTML/CSS;JavaScript;Python;Swift;TypeScript                              C#;HTML/CSS;JavaScript;Python;TypeScript                                                  .NET;.NET Core;Cordova;Node.js;Pandas;TensorFlow      .NET;.NET Core;Cordova;Node.js;Pandas;TensorFlow                                    Github;Slack;Google Suite (Docs, Meet, etc)                                  Github;Slack;Google Suite (Docs, Meet, etc)                                         No         Not very important   Fairly important                    Better work/life balance;Wanting to work with new technologies                                                                                                                                                                      Read other media like news articles, founder profiles, etc. about the company                                                                                                                                                                                                                                                                                               Once a year           Not sure     Onboarding? What onboarding?  No             Sometimes: 1-2 days per month but less than weekly        Start a free trial;Ask developers I know/work with                                                                                                            Indifferent        Stack Overflow (public Q&A for anyone who codes)                                                                                            Visit Stack Overflow;Go for a walk or other physical activity                                                                                                            MacOS        10 to 19 employees        Android;Arduino;Docker;iOS;MacOS;Raspberry Pi;Windows                                                       Android;Docker;iOS;MacOS;Raspberry Pi;Windows                                                                                                           I have some influence             Bisexual                 Yes        No, not really   I have never participated in Q&A on Stack Overflow  A few times per week             Easy                        Appropriate in length  No     Computer science, computer engineering, or software engineering  Angular;ASP.NET;ASP.NET Core;jQuery                   Angular;ASP.NET;ASP.NET Core;jQuery                                                                  A lot more welcome now than last year     35.0         50         30            False                False                     False                                          False                   False     False                False                                          False                                        False                 False                  False                        False              False                  False              False     False           False                       False                False                            False            False      False                                 False                   1\n",
       "Length: 4180, dtype: int64"
      ]
     },
     "execution_count": 4986,
     "metadata": {},
     "output_type": "execute_result"
    }
   ],
   "source": [
    "df.value_counts()"
   ]
  },
  {
   "cell_type": "code",
   "execution_count": 4987,
   "id": "bf6eef0d",
   "metadata": {},
   "outputs": [],
   "source": [
    "def get_ethnicity(x):\n",
    "    if 'Indigenous' in x:\n",
    "        return 'Indigenous'\n",
    "    if 'Biracial' in x or 'Multiracial' in x:\n",
    "        return 'Birracial/Multiracial'\n",
    "    if 'Black or of African descent' in x:\n",
    "        return 'Black or of African descent'\n",
    "    if 'Hispanic or Latino/a/x' in x:\n",
    "        return 'Latino'\n",
    "    if 'Asian' in x or 'Middle Eastern' in x:\n",
    "        return 'Asian'\n",
    "    if 'White or of European descent' in x:\n",
    "        return 'White or of European descent'  \n",
    "    return None "
   ]
  },
  {
   "cell_type": "code",
   "execution_count": 4988,
   "id": "073c85a1",
   "metadata": {},
   "outputs": [
    {
     "data": {
      "text/plain": [
       "White or of European descent    21798\n",
       "Asian                            6857\n",
       "Latino                           2256\n",
       "Black or of African descent       827\n",
       "Birracial/Multiracial             763\n",
       "Indigenous                        254\n",
       "Name: Ethnicity, dtype: int64"
      ]
     },
     "execution_count": 4988,
     "metadata": {},
     "output_type": "execute_result"
    }
   ],
   "source": [
    "df.Ethnicity = df.Ethnicity.fillna(\"\")\n",
    "df.Ethnicity = df['Ethnicity'].apply(lambda x: get_ethnicity(x))\n",
    "df.Ethnicity.value_counts()    "
   ]
  },
  {
   "cell_type": "markdown",
   "id": "1592f7bc",
   "metadata": {},
   "source": [
    "### Gender"
   ]
  },
  {
   "cell_type": "code",
   "execution_count": 4989,
   "id": "657ee554",
   "metadata": {},
   "outputs": [
    {
     "data": {
      "text/plain": [
       "Man                                                            32570\n",
       "Woman                                                           2739\n",
       "Non-binary, genderqueer, or gender non-conforming                255\n",
       "Man;Non-binary, genderqueer, or gender non-conforming             78\n",
       "Woman;Non-binary, genderqueer, or gender non-conforming           53\n",
       "Woman;Man                                                         35\n",
       "Woman;Man;Non-binary, genderqueer, or gender non-conforming       15\n",
       "Name: Gender, dtype: int64"
      ]
     },
     "execution_count": 4989,
     "metadata": {},
     "output_type": "execute_result"
    }
   ],
   "source": [
    "df['Gender'].value_counts()"
   ]
  },
  {
   "cell_type": "code",
   "execution_count": 4990,
   "id": "8d9fa917",
   "metadata": {},
   "outputs": [],
   "source": [
    "def get_gender(x):\n",
    "    if 'Non-binary' in x or 'Woman;Man' in x:\n",
    "        return 'Non-binary'\n",
    "    if 'Woman' in x:\n",
    "        return 'woman'\n",
    "    if 'Man' in x:\n",
    "        return 'Man'\n",
    "    return None"
   ]
  },
  {
   "cell_type": "code",
   "execution_count": 4991,
   "id": "062b24e7",
   "metadata": {},
   "outputs": [],
   "source": [
    "df.Gender = df.Gender.fillna(\"\")\n",
    "df.Gender = df.Gender.apply(lambda x: get_gender(x))"
   ]
  },
  {
   "cell_type": "code",
   "execution_count": 4992,
   "id": "a010d69f",
   "metadata": {},
   "outputs": [
    {
     "data": {
      "text/plain": [
       "Man           32570\n",
       "woman          2739\n",
       "Non-binary      436\n",
       "Name: Gender, dtype: int64"
      ]
     },
     "execution_count": 4992,
     "metadata": {},
     "output_type": "execute_result"
    }
   ],
   "source": [
    "df.Gender.value_counts()"
   ]
  },
  {
   "cell_type": "markdown",
   "id": "83a51737",
   "metadata": {},
   "source": [
    "### JobFactors"
   ]
  },
  {
   "cell_type": "code",
   "execution_count": 4993,
   "id": "5f8ba881",
   "metadata": {},
   "outputs": [],
   "source": [
    "JobFactors_list = [\n",
    "    'Remote work',\n",
    "    'company culture',\n",
    "    'Financial performance',\n",
    "    'Opportunities',\n",
    "    'Diversity',\n",
    "    'impactful',\n",
    "    'Industry',\n",
    "    'Specific department',\n",
    "    'Flex time',\n",
    "    'technologies',\n",
    "    'Family friendliness',\n",
    "]"
   ]
  },
  {
   "cell_type": "code",
   "execution_count": 4994,
   "id": "fa3f04cf",
   "metadata": {},
   "outputs": [],
   "source": [
    "#Inicializo las columnas en None\n",
    "for column in JobFactors_list:\n",
    "    df[column] = None"
   ]
  },
  {
   "cell_type": "code",
   "execution_count": 4995,
   "id": "63c6229a",
   "metadata": {},
   "outputs": [],
   "source": [
    "#Reemplazo valores nulos en JobFactor por \"\"\n",
    "df['JobFactors']=df['JobFactors'].fillna(\"\")"
   ]
  },
  {
   "cell_type": "code",
   "execution_count": 4996,
   "id": "b01a240e",
   "metadata": {},
   "outputs": [],
   "source": [
    "# Para cada factor me fijo si la persona lo marcó\n",
    "for column in JobFactors_list:\n",
    "    df[column] = df['JobFactors'].apply(lambda x: column in x )"
   ]
  },
  {
   "cell_type": "code",
   "execution_count": 4997,
   "id": "ba36a4ca",
   "metadata": {},
   "outputs": [
    {
     "name": "stdout",
     "output_type": "stream",
     "text": [
      "False    33016\n",
      "True     11966\n",
      "Name: Remote work, dtype: int64\n",
      "False    27762\n",
      "True     17220\n",
      "Name: company culture, dtype: int64\n",
      "False    40534\n",
      "True      4448\n",
      "Name: Financial performance, dtype: int64\n",
      "False    29720\n",
      "True     15262\n",
      "Name: Opportunities, dtype: int64\n",
      "False    42521\n",
      "True      2461\n",
      "Name: Diversity, dtype: int64\n",
      "False    37482\n",
      "True      7500\n",
      "Name: impactful, dtype: int64\n",
      "False    39702\n",
      "True      5280\n",
      "Name: Industry, dtype: int64\n",
      "False    40678\n",
      "True      4304\n",
      "Name: Specific department, dtype: int64\n",
      "False    28448\n",
      "True     16534\n",
      "Name: Flex time, dtype: int64\n",
      "False    25791\n",
      "True     19191\n",
      "Name: technologies, dtype: int64\n",
      "False    40438\n",
      "True      4544\n",
      "Name: Family friendliness, dtype: int64\n"
     ]
    }
   ],
   "source": [
    "# Vemos como quedaron las columnas\n",
    "for column in JobFactors_list:\n",
    "    print(df[column].value_counts())"
   ]
  },
  {
   "cell_type": "code",
   "execution_count": 4998,
   "id": "22e0813a",
   "metadata": {},
   "outputs": [],
   "source": [
    "# Elimino Jobfactors\n",
    "df = df.drop('JobFactors', axis=1)"
   ]
  },
  {
   "cell_type": "markdown",
   "id": "4d84fc66",
   "metadata": {},
   "source": [
    "### JobSat"
   ]
  },
  {
   "cell_type": "code",
   "execution_count": 4999,
   "id": "a06ed5e1",
   "metadata": {},
   "outputs": [
    {
     "data": {
      "text/plain": [
       "Very satisfied                        12953\n",
       "Slightly satisfied                    12664\n",
       "Slightly dissatisfied                  6514\n",
       "Neither satisfied nor dissatisfied     5070\n",
       "Very dissatisfied                      3306\n",
       "Name: JobSat, dtype: int64"
      ]
     },
     "execution_count": 4999,
     "metadata": {},
     "output_type": "execute_result"
    }
   ],
   "source": [
    "df['JobSat'].value_counts()"
   ]
  },
  {
   "cell_type": "code",
   "execution_count": 5000,
   "id": "7fca8c27",
   "metadata": {},
   "outputs": [],
   "source": [
    "# Es la columna que queremos predecir por lo que se eliminan todos los registros que no tienen datos en esta columna\n",
    "df = df.dropna(subset = [\"JobSat\"])"
   ]
  },
  {
   "cell_type": "code",
   "execution_count": 5001,
   "id": "5458eaa2",
   "metadata": {},
   "outputs": [],
   "source": [
    "# Se agrupa satisfecho, ni satisfecho ni insatisfecho y desatisfecho\n",
    "def get_JobSat(x):\n",
    "    if x in ['Very satisfied', 'Slightly satisfied']:\n",
    "        return 'Satisfied'\n",
    "    if x in ['Very dissatisfied', 'Slightly dissatisfied']:\n",
    "        return 'Dissatisfied'\n",
    "    return \"Neither\"\n",
    "\n",
    "df['JobSat'] = df['JobSat'].apply(lambda x: get_JobSat(x))"
   ]
  },
  {
   "cell_type": "code",
   "execution_count": 5002,
   "id": "4e1b9a66",
   "metadata": {},
   "outputs": [
    {
     "data": {
      "text/plain": [
       "Satisfied       25617\n",
       "Dissatisfied     9820\n",
       "Neither          5070\n",
       "Name: JobSat, dtype: int64"
      ]
     },
     "execution_count": 5002,
     "metadata": {},
     "output_type": "execute_result"
    }
   ],
   "source": [
    "df['JobSat'].value_counts()"
   ]
  },
  {
   "cell_type": "markdown",
   "id": "0c8c6cf2",
   "metadata": {},
   "source": [
    "### JobSeek"
   ]
  },
  {
   "cell_type": "code",
   "execution_count": 5003,
   "id": "fd26c5a5",
   "metadata": {},
   "outputs": [
    {
     "data": {
      "text/plain": [
       "I’m not actively looking, but I am open to new opportunities    22754\n",
       "I am not interested in new job opportunities                    10539\n",
       "I am actively looking for a job                                  5009\n",
       "Name: JobSeek, dtype: int64"
      ]
     },
     "execution_count": 5003,
     "metadata": {},
     "output_type": "execute_result"
    }
   ],
   "source": [
    "df.JobSeek.value_counts()"
   ]
  },
  {
   "cell_type": "code",
   "execution_count": 5004,
   "id": "4073f255",
   "metadata": {},
   "outputs": [],
   "source": [
    "#Reemplazo valores nulos en JobSeek por \"\"\n",
    "df['JobSeek'] = df['JobSeek'].fillna(\"\")"
   ]
  },
  {
   "cell_type": "code",
   "execution_count": 5005,
   "id": "b5793268",
   "metadata": {},
   "outputs": [],
   "source": [
    "def get_jobseek(x):\n",
    "    if 'I’m not actively looking, but I am open to new opportunities' in x:\n",
    "        return 'Open to opportunities'\n",
    "    if 'I am not interested in new job opportunities' in x:\n",
    "        return 'Not interested'\n",
    "    if 'I am actively looking for a job' in x:\n",
    "        return 'Looking for'\n",
    "    return None"
   ]
  },
  {
   "cell_type": "code",
   "execution_count": 5006,
   "id": "90d3a091",
   "metadata": {},
   "outputs": [],
   "source": [
    "df.JobSeek = df.JobSeek.apply(lambda x: get_jobseek(x))"
   ]
  },
  {
   "cell_type": "code",
   "execution_count": 5007,
   "id": "fc957163",
   "metadata": {},
   "outputs": [
    {
     "data": {
      "text/plain": [
       "Open to opportunities    22754\n",
       "Not interested           10539\n",
       "Looking for               5009\n",
       "Name: JobSeek, dtype: int64"
      ]
     },
     "execution_count": 5007,
     "metadata": {},
     "output_type": "execute_result"
    }
   ],
   "source": [
    "df.JobSeek.value_counts()"
   ]
  },
  {
   "cell_type": "markdown",
   "id": "f703eb37",
   "metadata": {},
   "source": [
    "### NEWDevOps NEWDevOpsImpt "
   ]
  },
  {
   "cell_type": "code",
   "execution_count": 5008,
   "id": "d67a40f8",
   "metadata": {},
   "outputs": [
    {
     "data": {
      "text/plain": [
       "Yes         17502\n",
       "No          16193\n",
       "Not sure     4851\n",
       "Name: NEWDevOps, dtype: int64"
      ]
     },
     "execution_count": 5008,
     "metadata": {},
     "output_type": "execute_result"
    }
   ],
   "source": [
    "# Dejarlo en si le parece importante y tiene, le parece importante y no tiene, Irrelevante\n",
    "df['NEWDevOps'].value_counts()"
   ]
  },
  {
   "cell_type": "code",
   "execution_count": 5009,
   "id": "1430ab92",
   "metadata": {
    "scrolled": true
   },
   "outputs": [
    {
     "data": {
      "text/plain": [
       "Extremely important     18463\n",
       "Somewhat important      11618\n",
       "Neutral                  6366\n",
       "Not very important        722\n",
       "Not at all important      493\n",
       "Name: NEWDevOpsImpt, dtype: int64"
      ]
     },
     "execution_count": 5009,
     "metadata": {},
     "output_type": "execute_result"
    }
   ],
   "source": [
    "df['NEWDevOpsImpt'].value_counts()"
   ]
  },
  {
   "cell_type": "code",
   "execution_count": 5010,
   "id": "6693b12c",
   "metadata": {},
   "outputs": [],
   "source": [
    "def devops_important(row):\n",
    "    important_value = row['NEWDevOpsImpt']\n",
    "    devops_value = row['NEWDevOps']\n",
    "    if isinstance(devops_value, str) and isinstance(important_value, str):\n",
    "        is_important = ('Extremely' in important_value) or ('Somewhat' in important_value)\n",
    "        has_devops = devops_value == 'Yes'\n",
    "        if is_important and has_devops:\n",
    "            return 'Is important and componay has devops'\n",
    "        if is_important and (not has_devops):\n",
    "            return 'Is important and componay doesn´t has devops'\n",
    "        return 'Irrelevant'\n",
    "\n",
    "df['DevOpsImp'] = df.apply(devops_important, axis = 1)\n",
    "df.drop('NEWDevOpsImpt', axis=1, inplace=True)\n",
    "df.drop('NEWDevOps', axis=1, inplace=True)"
   ]
  },
  {
   "cell_type": "code",
   "execution_count": 5011,
   "id": "f95f82e5",
   "metadata": {},
   "outputs": [
    {
     "data": {
      "text/plain": [
       "Is important and componay has devops            15744\n",
       "Is important and componay doesn´t has devops    14258\n",
       "Irrelevant                                       7558\n",
       "Name: DevOpsImp, dtype: int64"
      ]
     },
     "execution_count": 5011,
     "metadata": {},
     "output_type": "execute_result"
    }
   ],
   "source": [
    "df['DevOpsImp'].value_counts()"
   ]
  },
  {
   "cell_type": "markdown",
   "id": "4b4d4a26",
   "metadata": {},
   "source": [
    "### NEWEdImpt"
   ]
  },
  {
   "cell_type": "code",
   "execution_count": 5012,
   "id": "879ec5b6",
   "metadata": {},
   "outputs": [],
   "source": [
    "# Cuan importante le parece la educación"
   ]
  },
  {
   "cell_type": "code",
   "execution_count": 5013,
   "id": "75477841",
   "metadata": {},
   "outputs": [
    {
     "data": {
      "text/plain": [
       "Fairly important                      10670\n",
       "Very important                         9909\n",
       "Somewhat important                     9394\n",
       "Not at all important/not necessary     5885\n",
       "Critically important                   3878\n",
       "Name: NEWEdImpt, dtype: int64"
      ]
     },
     "execution_count": 5013,
     "metadata": {},
     "output_type": "execute_result"
    }
   ],
   "source": [
    "df['NEWEdImpt'].value_counts()"
   ]
  },
  {
   "cell_type": "markdown",
   "id": "c7dd1740",
   "metadata": {},
   "source": [
    "### NEWJobHunt"
   ]
  },
  {
   "cell_type": "code",
   "execution_count": 5014,
   "id": "7d84fab8",
   "metadata": {},
   "outputs": [],
   "source": [
    "# Que conduce a la persona a buscar un nuevo trabajo, se crear una columna booleana por cada categoría."
   ]
  },
  {
   "cell_type": "code",
   "execution_count": 5015,
   "id": "5c4fa20f",
   "metadata": {},
   "outputs": [],
   "source": [
    "# Just because - Without cause\n",
    "# Having a bad day (or week or month) at work -trouble\n",
    "# Wanting to share accomplishments with a wider network - opportunities\n",
    "# Curious about other opportunities - opportunities\n",
    "# Better compensation - compensation\n",
    "# Trouble with my teammates - trouble\n",
    "# Trouble with my direct manager -trouble\n",
    "# Trouble with leadership at my company -trouble\n",
    "# Better work/life balance - opportunities\n",
    "# Wanting to work with new technologies - opportunities\n",
    "# Growth or leadership opportunities - opportunities\n",
    "# Looking to relocate - opportunities\n",
    "\n",
    "df['JobHuntWithoutCause'] = np.where(df['NEWJobHunt'].str.contains('Just because'), True, False)\n",
    "df['JobHuntTrouble'] = np.where(\n",
    "    df['NEWJobHunt'].str.contains('Having a bad day') | df['NEWJobHunt'].str.contains('Trouble'),\n",
    "    True, False)    \n",
    "df['JobHuntOpportunities'] = np.where(\n",
    "    df['NEWJobHunt'].str.contains('Wanting to share accomplishments') | \n",
    "    df['NEWJobHunt'].str.contains('opportunities') |\n",
    "    df['NEWJobHunt'].str.contains('Wanting to work with new technologies') |\n",
    "    df['NEWJobHunt'].str.contains('Better work/life balance'), True, False)\n",
    "df['JobHuntCompensation'] = np.where(df['NEWJobHunt'].str.contains('compensation'), True, False) \n",
    "\n",
    "df.drop('NEWJobHunt', axis=1, inplace=True)"
   ]
  },
  {
   "cell_type": "code",
   "execution_count": 5016,
   "id": "2097b347",
   "metadata": {
    "scrolled": true
   },
   "outputs": [
    {
     "name": "stdout",
     "output_type": "stream",
     "text": [
      "False    32093\n",
      "True      8414\n",
      "Name: JobHuntWithoutCause, dtype: int64\n",
      "False    24476\n",
      "True     16031\n",
      "Name: JobHuntTrouble, dtype: int64\n",
      "True     33891\n",
      "False     6616\n",
      "Name: JobHuntOpportunities, dtype: int64\n",
      "True     30102\n",
      "False    10405\n",
      "Name: JobHuntCompensation, dtype: int64\n"
     ]
    }
   ],
   "source": [
    "JOB_HUNT_COLS = ['JobHuntWithoutCause', 'JobHuntTrouble', 'JobHuntOpportunities', 'JobHuntCompensation']\n",
    "for new_cols in JOB_HUNT_COLS:\n",
    "    print(df[new_cols].value_counts())"
   ]
  },
  {
   "cell_type": "markdown",
   "id": "27341cad",
   "metadata": {},
   "source": [
    "### NEWJobHuntResearch"
   ]
  },
  {
   "cell_type": "code",
   "execution_count": 5017,
   "id": "fc588556",
   "metadata": {},
   "outputs": [],
   "source": [
    "# Si no marca nada no sabemos si es nulo o no marcó porque no investiga sobre la companía por lo que se descarta la columna\n",
    "df.drop('NEWJobHuntResearch', axis=1, inplace=True)"
   ]
  },
  {
   "cell_type": "markdown",
   "id": "661905cc",
   "metadata": {},
   "source": [
    "### NEWLearn "
   ]
  },
  {
   "cell_type": "code",
   "execution_count": 5018,
   "id": "c5bca7fb",
   "metadata": {},
   "outputs": [
    {
     "data": {
      "text/plain": [
       "Once a year             14511\n",
       "Every few months        12532\n",
       "Once every few years     9615\n",
       "Once a decade             784\n",
       "Name: NEWLearn, dtype: int64"
      ]
     },
     "execution_count": 5018,
     "metadata": {},
     "output_type": "execute_result"
    }
   ],
   "source": [
    "# Frecuencia con que la persona aprende nuevos lenguajes, puede relacionarse directamente con las columnas  \n",
    "#LanguageDesireNextYear \n",
    "#LanguageWorkedWith\n",
    "# NEWCollabToolsDesireNextYear \n",
    "# NEWCollabToolsWorkedWith\n",
    "df['NEWLearn'].value_counts()"
   ]
  },
  {
   "cell_type": "markdown",
   "id": "a1da449e",
   "metadata": {},
   "source": [
    "### NEWOffTopic"
   ]
  },
  {
   "cell_type": "code",
   "execution_count": 5019,
   "id": "3d4e7a1e",
   "metadata": {},
   "outputs": [],
   "source": [
    "# Do you think Stack Overflow should relax restrictions on what is considered “off-topic”? -> no va.\n",
    "df.drop('NEWOffTopic', axis=1, inplace=True)"
   ]
  },
  {
   "cell_type": "markdown",
   "id": "11f15114",
   "metadata": {},
   "source": [
    "### NEWOnboardGood"
   ]
  },
  {
   "cell_type": "code",
   "execution_count": 5020,
   "id": "2e5407c1",
   "metadata": {},
   "outputs": [],
   "source": [
    "# Como considera la persona que fue el proceso de onboarding de la empresa"
   ]
  },
  {
   "cell_type": "code",
   "execution_count": 5021,
   "id": "39326b72",
   "metadata": {},
   "outputs": [],
   "source": [
    "df[df['NEWOnboardGood'] == \"Onboarding? What onboarding?\"] = None"
   ]
  },
  {
   "cell_type": "code",
   "execution_count": 5022,
   "id": "3b467676",
   "metadata": {},
   "outputs": [
    {
     "data": {
      "text/plain": [
       "Yes    19314\n",
       "No     11722\n",
       "Name: NEWOnboardGood, dtype: int64"
      ]
     },
     "execution_count": 5022,
     "metadata": {},
     "output_type": "execute_result"
    }
   ],
   "source": [
    "df['NEWOnboardGood'].value_counts()"
   ]
  },
  {
   "cell_type": "markdown",
   "id": "66bebd9b",
   "metadata": {},
   "source": [
    "### NEWOtherComms"
   ]
  },
  {
   "cell_type": "code",
   "execution_count": 5023,
   "id": "a2e4d4df",
   "metadata": {},
   "outputs": [],
   "source": [
    "# Pregunta si la persona es miembro de comunidades online de desarrollo, esto no aporta nada sobre el trabajo \n",
    "# de la persona en la empresa por lo que se descarta la columna"
   ]
  },
  {
   "cell_type": "code",
   "execution_count": 5024,
   "id": "b4155b51",
   "metadata": {},
   "outputs": [],
   "source": [
    "df.drop('NEWOtherComms', axis=1, inplace=True)"
   ]
  },
  {
   "cell_type": "markdown",
   "id": "1bc35f97",
   "metadata": {},
   "source": [
    "### NEWOvertime"
   ]
  },
  {
   "cell_type": "code",
   "execution_count": 5025,
   "id": "32e33cf2",
   "metadata": {
    "scrolled": true
   },
   "outputs": [
    {
     "data": {
      "text/plain": [
       "Sometimes: 1-2 days per month but less than weekly          8502\n",
       "Often: 1-2 days per week or more                            7291\n",
       "Occasionally: 1-2 days per quarter but less than monthly    7229\n",
       "Rarely: 1-2 days per year or less                           4937\n",
       "Never                                                       3411\n",
       "Name: NEWOvertime, dtype: int64"
      ]
     },
     "execution_count": 5025,
     "metadata": {},
     "output_type": "execute_result"
    }
   ],
   "source": [
    "df['NEWOvertime'].value_counts()"
   ]
  },
  {
   "cell_type": "code",
   "execution_count": 5026,
   "id": "b26af23c",
   "metadata": {},
   "outputs": [],
   "source": [
    "def clasificar_overtime(row):\n",
    "    overtime = row['NEWOvertime']\n",
    "    if isinstance(overtime, str):\n",
    "        if \"1-2 days per month but less than weekly\" in overtime:\n",
    "            return \"Sometimes\"\n",
    "        elif \"1-2 days per week or more\" in overtime:\n",
    "            return \"Often\"\n",
    "        elif \"1-2 days per quarter but less than monthly\" in overtime:\n",
    "            return \"Occasionally\"\n",
    "        elif \"1-2 days per year or less\" in overtime:\n",
    "            return \"Rarely\"\n",
    "        return \"Never\"\n",
    "\n",
    "df['NEWOvertime'] = df.apply(clasificar_overtime, axis = 1)"
   ]
  },
  {
   "cell_type": "code",
   "execution_count": 5027,
   "id": "b1b777b6",
   "metadata": {},
   "outputs": [
    {
     "data": {
      "text/plain": [
       "Sometimes       8502\n",
       "Often           7291\n",
       "Occasionally    7229\n",
       "Rarely          4937\n",
       "Never           3411\n",
       "Name: NEWOvertime, dtype: int64"
      ]
     },
     "execution_count": 5027,
     "metadata": {},
     "output_type": "execute_result"
    }
   ],
   "source": [
    "df['NEWOvertime'].value_counts()"
   ]
  },
  {
   "cell_type": "markdown",
   "id": "7316a62f",
   "metadata": {},
   "source": [
    "### NEWPurchaseResearch"
   ]
  },
  {
   "cell_type": "code",
   "execution_count": 5028,
   "id": "8d2d353e",
   "metadata": {},
   "outputs": [],
   "source": [
    "# When buying a new tool or software, how do you discover and research available solutions? Select all that apply.\n",
    "# Nada que ver esto con el laburo.\n",
    "df.drop('NEWPurchaseResearch', axis=1, inplace=True)"
   ]
  },
  {
   "cell_type": "markdown",
   "id": "9bb5cc0f",
   "metadata": {},
   "source": [
    "### NEWPurpleLink"
   ]
  },
  {
   "cell_type": "code",
   "execution_count": 5029,
   "id": "4fdf846f",
   "metadata": {},
   "outputs": [],
   "source": [
    "# You search for a coding solution online and the first result link is purple because you already visited it. How do you feel?\n",
    "# No hay info del trabajo.\n",
    "df.drop('NEWPurpleLink', axis=1, inplace=True)"
   ]
  },
  {
   "cell_type": "markdown",
   "id": "0072ce30",
   "metadata": {},
   "source": [
    "### NEWStuck"
   ]
  },
  {
   "cell_type": "code",
   "execution_count": 5030,
   "id": "d054c199",
   "metadata": {},
   "outputs": [],
   "source": [
    "# What do you do when you get stuck on a problem? Select all that apply.\n",
    "df.drop('NEWStuck', axis=1, inplace=True)"
   ]
  },
  {
   "cell_type": "markdown",
   "id": "d351823c",
   "metadata": {},
   "source": [
    "### OpSys "
   ]
  },
  {
   "cell_type": "code",
   "execution_count": 5031,
   "id": "83c401ee",
   "metadata": {},
   "outputs": [],
   "source": [
    "df['OpSys']= df['OpSys'].replace('BSD','Linux-based')"
   ]
  },
  {
   "cell_type": "code",
   "execution_count": 5032,
   "id": "9af14707",
   "metadata": {},
   "outputs": [
    {
     "data": {
      "text/plain": [
       "Windows        13824\n",
       "MacOS           9004\n",
       "Linux-based     7949\n",
       "Name: OpSys, dtype: int64"
      ]
     },
     "execution_count": 5032,
     "metadata": {},
     "output_type": "execute_result"
    }
   ],
   "source": [
    "df['OpSys'].value_counts()"
   ]
  },
  {
   "cell_type": "markdown",
   "id": "223414be",
   "metadata": {},
   "source": [
    "### OrgSize\n"
   ]
  },
  {
   "cell_type": "code",
   "execution_count": 5033,
   "id": "48fd19af",
   "metadata": {
    "scrolled": false
   },
   "outputs": [
    {
     "data": {
      "text/plain": [
       "20 to 99 employees                                    7254\n",
       "100 to 499 employees                                  6760\n",
       "10,000 or more employees                              5232\n",
       "1,000 to 4,999 employees                              4060\n",
       "10 to 19 employees                                    2840\n",
       "500 to 999 employees                                  2392\n",
       "2 to 9 employees                                      2259\n",
       "5,000 to 9,999 employees                              1471\n",
       "Just me - I am a freelancer, sole proprietor, etc.     125\n",
       "Name: OrgSize, dtype: int64"
      ]
     },
     "execution_count": 5033,
     "metadata": {},
     "output_type": "execute_result"
    }
   ],
   "source": [
    "df['OrgSize'].value_counts()"
   ]
  },
  {
   "cell_type": "code",
   "execution_count": 5034,
   "id": "2f6af7aa",
   "metadata": {},
   "outputs": [],
   "source": [
    "def parse_org_size(row):\n",
    "    org_size = row['OrgSize']\n",
    "    if isinstance(org_size, str):\n",
    "        if not 'freelancer' in org_size:\n",
    "            return org_size\n",
    "\n",
    "df['OrgSize'] = df.apply(parse_org_size, axis = 1)"
   ]
  },
  {
   "cell_type": "code",
   "execution_count": 5035,
   "id": "61d6d988",
   "metadata": {
    "scrolled": true
   },
   "outputs": [
    {
     "data": {
      "text/plain": [
       "20 to 99 employees          7254\n",
       "100 to 499 employees        6760\n",
       "10,000 or more employees    5232\n",
       "1,000 to 4,999 employees    4060\n",
       "10 to 19 employees          2840\n",
       "500 to 999 employees        2392\n",
       "2 to 9 employees            2259\n",
       "5,000 to 9,999 employees    1471\n",
       "Name: OrgSize, dtype: int64"
      ]
     },
     "execution_count": 5035,
     "metadata": {},
     "output_type": "execute_result"
    }
   ],
   "source": [
    "df['OrgSize'].value_counts()"
   ]
  },
  {
   "cell_type": "markdown",
   "id": "cfcc8da2",
   "metadata": {},
   "source": [
    "### PlatformDesireNextYear and PlatformWorkedWith"
   ]
  },
  {
   "cell_type": "markdown",
   "id": "f4f5bd88",
   "metadata": {},
   "source": [
    "### PurchaseWhat"
   ]
  },
  {
   "cell_type": "code",
   "execution_count": 5036,
   "id": "41d9a253",
   "metadata": {},
   "outputs": [],
   "source": [
    "# What level of influence do you, personally, have over new technology purchases at your organization?"
   ]
  },
  {
   "cell_type": "code",
   "execution_count": 5037,
   "id": "992e0069",
   "metadata": {},
   "outputs": [
    {
     "data": {
      "text/plain": [
       "I have little or no influence       13543\n",
       "I have some influence               11923\n",
       "I have a great deal of influence     5127\n",
       "Name: PurchaseWhat, dtype: int64"
      ]
     },
     "execution_count": 5037,
     "metadata": {},
     "output_type": "execute_result"
    }
   ],
   "source": [
    "df['PurchaseWhat'].value_counts()"
   ]
  },
  {
   "cell_type": "code",
   "execution_count": 5038,
   "id": "cd0282ef",
   "metadata": {},
   "outputs": [],
   "source": [
    "df['PurchaseWhat'] = df['PurchaseWhat'].fillna(\"\")"
   ]
  },
  {
   "cell_type": "code",
   "execution_count": 5039,
   "id": "edc6811f",
   "metadata": {},
   "outputs": [],
   "source": [
    "def get_incluence(x):\n",
    "    if 'I have little or no influence' in x:\n",
    "        return 'No Influcence'\n",
    "    if 'I have some influence' in x:\n",
    "        return 'some influence'\n",
    "    if 'I have a great deal of influence' in x:\n",
    "        return 'has influence'\n",
    "    return None"
   ]
  },
  {
   "cell_type": "code",
   "execution_count": 5040,
   "id": "9993d0c1",
   "metadata": {},
   "outputs": [],
   "source": [
    "df.PurchaseWhat = df.PurchaseWhat.apply(lambda x: get_incluence(x))"
   ]
  },
  {
   "cell_type": "markdown",
   "id": "808830ea",
   "metadata": {},
   "source": [
    "### Sexuality"
   ]
  },
  {
   "cell_type": "code",
   "execution_count": 5041,
   "id": "d45f0789",
   "metadata": {},
   "outputs": [
    {
     "data": {
      "text/plain": [
       "<AxesSubplot:>"
      ]
     },
     "execution_count": 5041,
     "metadata": {},
     "output_type": "execute_result"
    },
    {
     "data": {
      "image/png": "[encoded data removed]",
      "text/plain": [
       "<Figure size 432x288 with 1 Axes>"
      ]
     },
     "metadata": {
      "needs_background": "light"
     },
     "output_type": "display_data"
    }
   ],
   "source": [
    "df['Sexuality'].hist()"
   ]
  },
  {
   "cell_type": "code",
   "execution_count": 5042,
   "id": "c6374f2f",
   "metadata": {},
   "outputs": [
    {
     "data": {
      "text/plain": [
       "Straight / Heterosexual                                  23420\n",
       "Bisexual                                                   999\n",
       "Gay or Lesbian                                             561\n",
       "Bisexual;Straight / Heterosexual                           142\n",
       "Queer                                                      123\n",
       "Bisexual;Queer                                             106\n",
       "Gay or Lesbian;Queer                                        52\n",
       "Straight / Heterosexual;Queer                               34\n",
       "Bisexual;Gay or Lesbian;Straight / Heterosexual;Queer       16\n",
       "Bisexual;Gay or Lesbian                                     16\n",
       "Bisexual;Gay or Lesbian;Queer                               14\n",
       "Bisexual;Straight / Heterosexual;Queer                       6\n",
       "Gay or Lesbian;Straight / Heterosexual                       6\n",
       "Bisexual;Gay or Lesbian;Straight / Heterosexual              3\n",
       "Name: Sexuality, dtype: int64"
      ]
     },
     "execution_count": 5042,
     "metadata": {},
     "output_type": "execute_result"
    }
   ],
   "source": [
    "df['Sexuality'].value_counts()"
   ]
  },
  {
   "cell_type": "code",
   "execution_count": 5043,
   "id": "81523a56",
   "metadata": {},
   "outputs": [],
   "source": [
    "# Esta columna no aporta nada, hay gran mayoria de strights.\n",
    "df.drop('Sexuality', axis=1, inplace=True)"
   ]
  },
  {
   "cell_type": "markdown",
   "id": "4e8077ed",
   "metadata": {},
   "source": [
    "### SOAccount and SOPartFreq and SOComm and SOVisitFreq and NEWSOSites and SuaveryEase and WelcomeChange"
   ]
  },
  {
   "cell_type": "code",
   "execution_count": 5044,
   "id": "be73f635",
   "metadata": {},
   "outputs": [],
   "source": [
    "# Preguntas relacionadas al Sitio de StackOverflow.\n",
    "df.drop('SOAccount', axis=1, inplace=True) # Si tiene cuenta en SO.\n",
    "df.drop('SOPartFreq', axis=1, inplace=True) # Frecuencia de participacion en SO.\n",
    "df.drop('SOComm', axis=1, inplace=True) # Si es parte de una comunidad de SO.\n",
    "df.drop('SOVisitFreq', axis=1, inplace=True) # Frecuencia de visita a SO.\n",
    "df.drop('NEWSOSites', axis=1, inplace=True) # Cuantos sitios nuevos visitas de SO.\n",
    "df.drop('WelcomeChange', axis = 1, inplace=True) # Compared to last year, how welcome do you feel on Stack Overflow?\n",
    "# Relacionado con la encuesta\n",
    "df.drop('SurveyEase', axis=1, inplace=True) # Cuan facil te resulto la encuesta.\n",
    "df.drop('SurveyLength', axis=1, inplace=True) # Cuan larga te resulto la encuesta."
   ]
  },
  {
   "cell_type": "markdown",
   "id": "b3cf92fb",
   "metadata": {},
   "source": [
    "### Trans"
   ]
  },
  {
   "cell_type": "code",
   "execution_count": 5045,
   "id": "88593f9f",
   "metadata": {},
   "outputs": [
    {
     "data": {
      "text/plain": [
       "<AxesSubplot:>"
      ]
     },
     "execution_count": 5045,
     "metadata": {},
     "output_type": "execute_result"
    },
    {
     "data": {
      "image/png": "[encoded data removed]",
      "text/plain": [
       "<Figure size 432x288 with 1 Axes>"
      ]
     },
     "metadata": {
      "needs_background": "light"
     },
     "output_type": "display_data"
    }
   ],
   "source": [
    "df['Trans'].hist()"
   ]
  },
  {
   "cell_type": "code",
   "execution_count": 5046,
   "id": "6d2c5f95",
   "metadata": {},
   "outputs": [],
   "source": [
    "df.drop('Trans', axis=1, inplace=True)"
   ]
  },
  {
   "cell_type": "markdown",
   "id": "1ec43852",
   "metadata": {},
   "source": [
    "### UndergradMajor"
   ]
  },
  {
   "cell_type": "code",
   "execution_count": 5047,
   "id": "8084c841",
   "metadata": {},
   "outputs": [],
   "source": [
    "# What was your primary field of study?"
   ]
  },
  {
   "cell_type": "code",
   "execution_count": 5048,
   "id": "fc286ff7",
   "metadata": {
    "scrolled": true
   },
   "outputs": [
    {
     "data": {
      "text/plain": [
       "Computer science, computer engineering, or software engineering                   19741\n",
       "Another engineering discipline (such as civil, electrical, mechanical, etc.)       2826\n",
       "Information systems, information technology, or system administration              2432\n",
       "A natural science (such as biology, chemistry, physics, etc.)                      1275\n",
       "Mathematics or statistics                                                          1075\n",
       "Web development or web design                                                       936\n",
       "A business discipline (such as accounting, finance, marketing, etc.)                732\n",
       "A humanities discipline (such as literature, history, philosophy, etc.)             621\n",
       "A social science (such as anthropology, psychology, political science, etc.)        509\n",
       "Fine arts or performing arts (such as graphic design, music, studio art, etc.)      432\n",
       "I never declared a major                                                            190\n",
       "A health science (such as nursing, pharmacy, radiology, etc.)                       112\n",
       "Name: UndergradMajor, dtype: int64"
      ]
     },
     "execution_count": 5048,
     "metadata": {},
     "output_type": "execute_result"
    }
   ],
   "source": [
    "df['UndergradMajor'].value_counts()\n",
    "# Computer science, computer engineering, or software engineering                   19741 Technology\n",
    "# Another engineering discipline (such as civil, electrical, mechanical, etc.)       2826 Another engineering\n",
    "# Information systems, information technology, or system administration              2432 Technology\n",
    "# A natural science (such as biology, chemistry, physics, etc.)                      1275 Natural sience\n",
    "# Mathematics or statistics                                                          1075 Mathematics\n",
    "# Web development or web design                                                       936 Technology\n",
    "# A business discipline (such as accounting, finance, marketing, etc.)                732 Business\n",
    "# A humanities discipline (such as literature, history, philosophy, etc.)             621 Humanities\n",
    "# A social science (such as anthropology, psychology, political science, etc.)        509 Social\n",
    "# Fine arts or performing arts (such as graphic design, music, studio art, etc.)      432 Art\n",
    "# I never declared a major                                                            190 eq\n",
    "# A health science (such as nursing, pharmacy, radiology, etc.)                       112 Health\n"
   ]
  },
  {
   "cell_type": "code",
   "execution_count": 5049,
   "id": "019152e7",
   "metadata": {},
   "outputs": [],
   "source": [
    "def undergard_major(row):\n",
    "    undergard_major = row['UndergradMajor']\n",
    "    if isinstance(undergard_major, str):\n",
    "        if \"health\" in undergard_major:\n",
    "            return \"Health\"\n",
    "        elif \"software\" in undergard_major or 'information' in undergard_major or 'development' in undergard_major:\n",
    "            return \"Technology\"\n",
    "        elif \"Another engineering discipline\" in undergard_major:\n",
    "            return \"Another engineering\"\n",
    "        elif \"natural science\" in undergard_major:\n",
    "            return \"Natural sience\"\n",
    "        elif \"arts\" in undergard_major:\n",
    "            return \"Art\"\n",
    "        elif \"social\" in undergard_major:\n",
    "            return \"Social\"\n",
    "        elif \"humanities\" in undergard_major:\n",
    "            return \"Humanities\"\n",
    "        elif \"business\" in undergard_major:\n",
    "            return \"Business\"\n",
    "        elif 'Mathematics' in undergard_major:\n",
    "            return 'Mathematics'\n",
    "        return \"I never declared a major\"\n",
    "\n",
    "df['UndergradMajor'] = df.apply(undergard_major, axis = 1)"
   ]
  },
  {
   "cell_type": "code",
   "execution_count": 5050,
   "id": "896ecc77",
   "metadata": {},
   "outputs": [
    {
     "data": {
      "text/plain": [
       "Technology                  23109\n",
       "Another engineering          2826\n",
       "Natural sience               1275\n",
       "Mathematics                  1075\n",
       "Business                      732\n",
       "Humanities                    621\n",
       "Social                        509\n",
       "Art                           432\n",
       "I never declared a major      190\n",
       "Health                        112\n",
       "Name: UndergradMajor, dtype: int64"
      ]
     },
     "execution_count": 5050,
     "metadata": {},
     "output_type": "execute_result"
    }
   ],
   "source": [
    "df['UndergradMajor'].value_counts()"
   ]
  },
  {
   "cell_type": "markdown",
   "id": "167f1b82",
   "metadata": {},
   "source": [
    "### WebframeDesireNextYear AND WebframeWorkedWith"
   ]
  },
  {
   "cell_type": "markdown",
   "id": "db0b755c",
   "metadata": {},
   "source": [
    "### WorkWeekHrs"
   ]
  },
  {
   "cell_type": "code",
   "execution_count": 5051,
   "id": "86d76ee1",
   "metadata": {},
   "outputs": [],
   "source": [
    "def get_work_week_hrs(x):\n",
    "    try:\n",
    "        x = float(x)\n",
    "        if x == 0:\n",
    "            return 'Cero'\n",
    "        if x > 0 and x <= 10:\n",
    "            return 'Entre 0 y 10'\n",
    "        if x > 10 and x <= 20:\n",
    "            return 'Entre 10 y 20 horas'\n",
    "        if x > 20 and x <= 30:\n",
    "            return 'Entre 20 y 30 horas'\n",
    "        if x > 30 and x <= 40:\n",
    "            return 'Entre 30 y 40 horas'\n",
    "        if x > 40 and x <= 50:\n",
    "            return 'Entre 40 y 50 horas'\n",
    "        if x >= 50:\n",
    "            return 'Más de 50 horas'\n",
    "    except:\n",
    "        return None"
   ]
  },
  {
   "cell_type": "code",
   "execution_count": 5052,
   "id": "da1d6067",
   "metadata": {},
   "outputs": [],
   "source": [
    "df['WorkWeekHrs'] = df['WorkWeekHrs'].apply(lambda x: None if (x >= 112) or (x < 0) else x)"
   ]
  },
  {
   "cell_type": "code",
   "execution_count": 5053,
   "id": "873ab5c7",
   "metadata": {},
   "outputs": [],
   "source": [
    "df['WorkWeekHrs'] = df['WorkWeekHrs'].apply(lambda x: get_work_week_hrs(x))"
   ]
  },
  {
   "cell_type": "code",
   "execution_count": 5054,
   "id": "69aa9c0b",
   "metadata": {},
   "outputs": [
    {
     "data": {
      "text/plain": [
       "Entre 30 y 40 horas    19172\n",
       "Entre 40 y 50 horas     6819\n",
       "Más de 50 horas         1371\n",
       "Entre 0 y 10            1269\n",
       "Entre 20 y 30 horas      765\n",
       "Entre 10 y 20 horas      377\n",
       "Name: WorkWeekHrs, dtype: int64"
      ]
     },
     "execution_count": 5054,
     "metadata": {},
     "output_type": "execute_result"
    }
   ],
   "source": [
    "df['WorkWeekHrs'].value_counts()"
   ]
  },
  {
   "cell_type": "markdown",
   "id": "cebfa16f",
   "metadata": {},
   "source": [
    "### YearsCode"
   ]
  },
  {
   "cell_type": "code",
   "execution_count": 5055,
   "id": "6c1642cc",
   "metadata": {},
   "outputs": [],
   "source": [
    "def get_year_code(x):\n",
    "    try:\n",
    "        x = float(x)\n",
    "        if x == 0:\n",
    "            return 'Cero'\n",
    "        if x > 0 and x <= 2:\n",
    "            return 'Primeros 2 años'\n",
    "        if x > 2 and x <= 5:\n",
    "            return 'Entre 2 y 5 Años'\n",
    "        if x > 5 and x <= 10:\n",
    "            return 'Entre 5 y 10 años'\n",
    "        if x > 10 and x <= 20:\n",
    "            return 'Entre 10 y 20 años'\n",
    "        if x >= 20:\n",
    "            return 'Más de 20 años'\n",
    "    except:\n",
    "        return None"
   ]
  },
  {
   "cell_type": "code",
   "execution_count": 5056,
   "id": "55c0b72f",
   "metadata": {},
   "outputs": [],
   "source": [
    "# More than 50 years --> 51\n",
    "df['YearsCode'] = [0.5 if x == \"Less than 1 year\" else 51 if x == \"More than 50 years\" else x for x in df.YearsCodePro]\n",
    "df['YearsCode'] = df['YearsCode'].apply(lambda x: get_year_code(x))"
   ]
  },
  {
   "cell_type": "code",
   "execution_count": 5057,
   "id": "535e4564",
   "metadata": {},
   "outputs": [
    {
     "data": {
      "text/plain": [
       "Entre 2 y 5 Años      9158\n",
       "Entre 5 y 10 años     8052\n",
       "Primeros 2 años       7181\n",
       "Entre 10 y 20 años    6092\n",
       "Más de 20 años        2258\n",
       "Name: YearsCode, dtype: int64"
      ]
     },
     "execution_count": 5057,
     "metadata": {},
     "output_type": "execute_result"
    }
   ],
   "source": [
    "df['YearsCode'].value_counts()"
   ]
  },
  {
   "cell_type": "markdown",
   "id": "04967f93",
   "metadata": {},
   "source": [
    "### YearsCodePro"
   ]
  },
  {
   "cell_type": "code",
   "execution_count": 5058,
   "id": "31c5bab9",
   "metadata": {},
   "outputs": [],
   "source": [
    "def get_year_code_pro(x):\n",
    "    try:\n",
    "        x = float(x)\n",
    "        if x == 0:\n",
    "            return 'Cero'\n",
    "        if x > 0 and x <= 2:\n",
    "            return 'Primeros 2 años'\n",
    "        if x > 2 and x <= 5:\n",
    "            return 'Entre 2 y 5 Años'\n",
    "        if x > 5 and x <= 10:\n",
    "            return 'Entre 5 y 10 años'\n",
    "        if x > 10 and x <= 20:\n",
    "            return 'Entre 10 y 20 años'\n",
    "        if x >= 20:\n",
    "            return 'Más de 20 años'\n",
    "    except:\n",
    "        return None"
   ]
  },
  {
   "cell_type": "code",
   "execution_count": 5059,
   "id": "9262e45b",
   "metadata": {},
   "outputs": [],
   "source": [
    "# More than 50 years --> 51\n",
    "df['YearsCodePro'] = [0.5 if x == \"Less than 1 year\" else 51 if x == \"More than 50 years\" else x for x in df.YearsCodePro]\n",
    "df['YearsCodePro'] = df['YearsCodePro'].apply(lambda x: get_year_code_pro(x))"
   ]
  },
  {
   "cell_type": "code",
   "execution_count": 5060,
   "id": "ca27335f",
   "metadata": {},
   "outputs": [
    {
     "data": {
      "text/plain": [
       "Entre 2 y 5 Años      9158\n",
       "Entre 5 y 10 años     8052\n",
       "Primeros 2 años       7181\n",
       "Entre 10 y 20 años    6092\n",
       "Más de 20 años        2258\n",
       "Name: YearsCodePro, dtype: int64"
      ]
     },
     "execution_count": 5060,
     "metadata": {},
     "output_type": "execute_result"
    }
   ],
   "source": [
    "df['YearsCodePro'].value_counts()"
   ]
  },
  {
   "cell_type": "markdown",
   "id": "4e70af77",
   "metadata": {},
   "source": [
    "### Todas las columnas que comparan lo que están haciendo con lo que desean para el proximo año"
   ]
  },
  {
   "cell_type": "code",
   "execution_count": 5061,
   "id": "877d3118",
   "metadata": {},
   "outputs": [],
   "source": [
    "def compare_tools(actuales, deseos):\n",
    "    try:\n",
    "        deseos = set(deseos.split(';'))\n",
    "        actuales = set (actuales.split(';'))\n",
    "        len_deseos = len(deseos)\n",
    "        len_actuales = len (actuales)\n",
    "\n",
    "        # Si no hay ningun elemento en comun entre ambos conjuntos entonces hay un cambio total\n",
    "        if deseos.isdisjoint(actuales):\n",
    "            return 'Cambiar tecnologias'\n",
    "\n",
    "        if actuales.issubset(deseos):\n",
    "\n",
    "            # Si es un subconjunto y tienen el mismo largo entonces no hay cambios\n",
    "            if len_deseos == len_actuales:\n",
    "                return 'Sin cambios'\n",
    "\n",
    "            # Sino quiere decir que conserva los actuales y agrega nuevos \n",
    "            return 'Conservar todas y añadir nuevas'\n",
    "\n",
    "        # veo cuantos se conservan\n",
    "        len_interseccion = len(actuales & deseos)\n",
    "\n",
    "        if len_deseos >  len_interseccion:\n",
    "            return 'Conservar algunas y añadir nuevas'\n",
    "\n",
    "        # Si no agrega nuevo entonces simplemente baja la cantidad de tecnologias\n",
    "        return 'Conservar alguas y no añadir nuevas'\n",
    "    except:\n",
    "        return None"
   ]
  },
  {
   "cell_type": "code",
   "execution_count": 5062,
   "id": "802b00e7",
   "metadata": {},
   "outputs": [],
   "source": [
    "df['DatabaseChangesDesires'] = df.apply(lambda x: compare_tools(x.DatabaseWorkedWith,x.DatabaseDesireNextYear), axis=1)"
   ]
  },
  {
   "cell_type": "code",
   "execution_count": 5063,
   "id": "ef3ce904",
   "metadata": {},
   "outputs": [],
   "source": [
    "df['LanguageChangesDesires'] = df.apply(lambda x: compare_tools(x.LanguageWorkedWith,x.LanguageDesireNextYear), axis=1)"
   ]
  },
  {
   "cell_type": "code",
   "execution_count": 5064,
   "id": "466d3684",
   "metadata": {},
   "outputs": [],
   "source": [
    "df['MiscTechChangesDesires'] = df.apply(lambda x: compare_tools(x.MiscTechWorkedWith,x.MiscTechDesireNextYear), axis=1)"
   ]
  },
  {
   "cell_type": "code",
   "execution_count": 5065,
   "id": "89ee8631",
   "metadata": {},
   "outputs": [],
   "source": [
    "df['CollabToolsChangesDesires'] = df.apply(lambda x: compare_tools(x.NEWCollabToolsWorkedWith,x.NEWCollabToolsDesireNextYear), axis=1)"
   ]
  },
  {
   "cell_type": "code",
   "execution_count": 5066,
   "id": "e2ebe2e1",
   "metadata": {},
   "outputs": [],
   "source": [
    "df['WebframeChangesDesires'] = df.apply(lambda x: compare_tools(x.WebframeWorkedWith,x.WebframeDesireNextYear), axis=1)"
   ]
  },
  {
   "cell_type": "code",
   "execution_count": 5067,
   "id": "52c4e981",
   "metadata": {},
   "outputs": [],
   "source": [
    "df['PlatformChangesDesires'] = df.apply(lambda x: compare_tools(x.PlatformWorkedWith,x.PlatformDesireNextYear), axis=1)"
   ]
  },
  {
   "cell_type": "code",
   "execution_count": 5068,
   "id": "8d380530",
   "metadata": {},
   "outputs": [],
   "source": [
    "df.drop('DatabaseWorkedWith', axis=1, inplace=True)\n",
    "df.drop('DatabaseDesireNextYear', axis=1, inplace=True)\n",
    "df.drop('LanguageWorkedWith', axis=1, inplace=True)\n",
    "df.drop('LanguageDesireNextYear', axis=1, inplace=True)\n",
    "df.drop('MiscTechWorkedWith', axis=1, inplace=True)\n",
    "df.drop('MiscTechDesireNextYear', axis=1, inplace=True)\n",
    "df.drop('NEWCollabToolsWorkedWith', axis=1, inplace=True)\n",
    "df.drop('NEWCollabToolsDesireNextYear', axis=1, inplace=True)\n",
    "df.drop('WebframeWorkedWith', axis=1, inplace=True)\n",
    "df.drop('WebframeDesireNextYear', axis=1, inplace=True)\n",
    "df.drop('PlatformWorkedWith', axis=1, inplace=True)\n",
    "df.drop('PlatformDesireNextYear', axis=1, inplace=True)"
   ]
  },
  {
   "cell_type": "markdown",
   "id": "fa20d5d3",
   "metadata": {},
   "source": [
    "### NULLS"
   ]
  },
  {
   "cell_type": "code",
   "execution_count": 5069,
   "id": "7f6763be",
   "metadata": {},
   "outputs": [
    {
     "name": "stdout",
     "output_type": "stream",
     "text": [
      "MainBranch                                       18.362258\n",
      "Hobbyist                                         18.362258\n",
      "Age                                              35.100106\n",
      "Age1stCode                                       18.799220\n",
      "CompFreq                                         27.266892\n",
      "ConvertedComp                                    37.697188\n",
      "Continent                                        18.767127\n",
      "CurrencyDesc                                     18.606661\n",
      "CurrencySymbol                                   18.606661\n",
      "EdLevel                                          19.794110\n",
      "Ethnicity                                        34.880391\n",
      "Gender                                           28.871553\n",
      "JobSat                                           18.362258\n",
      "JobSeek                                          23.415706\n",
      "NEWEdImpt                                        20.013825\n",
      "NEWLearn                                         24.909275\n",
      "NEWOnboardGood                                   23.381144\n",
      "NEWOvertime                                      22.556595\n",
      "OpSys                                            24.020540\n",
      "OrgSize                                          20.339694\n",
      "PurchaseWhat                                     24.474782\n",
      "UndergradMajor                                   23.763794\n",
      "WorkWeekHrs                                      26.499124\n",
      "YearsCode                                        19.171995\n",
      "YearsCodePro                                     19.171995\n",
      "Academic researcher                              18.362258\n",
      "Data or business analyst                         18.362258\n",
      "Data scientist or machine learning specialist    18.362258\n",
      "Database administrator                           18.362258\n",
      "Designer                                         18.362258\n",
      "Developer, back-end                              18.362258\n",
      "Developer, desktop or enterprise applications    18.362258\n",
      "Developer, embedded applications or devices      18.362258\n",
      "Developer, front-end                             18.362258\n",
      "Developer, full-stack                            18.362258\n",
      "Developer, game or graphics                      18.362258\n",
      "Developer, mobile                                18.362258\n",
      "Developer, QA or test                            18.362258\n",
      "DevOps specialist                                18.362258\n",
      "Educator                                         18.362258\n",
      "Engineer, data                                   18.362258\n",
      "Engineer, site reliability                       18.362258\n",
      "Engineering manager                              18.362258\n",
      "Marketing or sales professional                  18.362258\n",
      "Product manager                                  18.362258\n",
      "Scientist                                        18.362258\n",
      "Senior Executive (C-Suite, VP, etc.)             18.362258\n",
      "System administrator                             18.362258\n",
      "Remote work                                      18.362258\n",
      "company culture                                  18.362258\n",
      "Financial performance                            18.362258\n",
      "Opportunities                                    18.362258\n",
      "Diversity                                        18.362258\n",
      "impactful                                        18.362258\n",
      "Industry                                         18.362258\n",
      "Specific department                              18.362258\n",
      "Flex time                                        18.362258\n",
      "technologies                                     18.362258\n",
      "Family friendliness                              18.362258\n",
      "DevOpsImp                                        24.820401\n",
      "JobHuntWithoutCause                              18.362258\n",
      "JobHuntTrouble                                   18.362258\n",
      "JobHuntOpportunities                             18.362258\n",
      "JobHuntCompensation                              18.362258\n",
      "DatabaseChangesDesires                           42.012492\n",
      "LanguageChangesDesires                           27.921100\n",
      "MiscTechChangesDesires                           51.141778\n",
      "CollabToolsChangesDesires                        35.739502\n",
      "WebframeChangesDesires                           48.690350\n",
      "PlatformChangesDesires                           33.199200\n"
     ]
    }
   ],
   "source": [
    "# Null percentage\n",
    "null_percentage = df.isnull().sum() / df.shape[0] * 100.00\n",
    "print(null_percentage.to_string())"
   ]
  },
  {
   "cell_type": "markdown",
   "id": "fd4ebba5",
   "metadata": {},
   "source": [
    "### FINAL"
   ]
  },
  {
   "cell_type": "code",
   "execution_count": 5070,
   "id": "976cbbde",
   "metadata": {},
   "outputs": [
    {
     "name": "stdout",
     "output_type": "stream",
     "text": [
      "<class 'pandas.core.frame.DataFrame'>\n",
      "Int64Index: 40507 entries, 1 to 64154\n",
      "Data columns (total 70 columns):\n",
      " #   Column                                         Non-Null Count  Dtype \n",
      "---  ------                                         --------------  ----- \n",
      " 0   MainBranch                                     33069 non-null  object\n",
      " 1   Hobbyist                                       33069 non-null  object\n",
      " 2   Age                                            26289 non-null  object\n",
      " 3   Age1stCode                                     32892 non-null  object\n",
      " 4   CompFreq                                       29462 non-null  object\n",
      " 5   ConvertedComp                                  25237 non-null  object\n",
      " 6   Continent                                      32905 non-null  object\n",
      " 7   CurrencyDesc                                   32970 non-null  object\n",
      " 8   CurrencySymbol                                 32970 non-null  object\n",
      " 9   EdLevel                                        32489 non-null  object\n",
      " 10  Ethnicity                                      26378 non-null  object\n",
      " 11  Gender                                         28812 non-null  object\n",
      " 12  JobSat                                         33069 non-null  object\n",
      " 13  JobSeek                                        31022 non-null  object\n",
      " 14  NEWEdImpt                                      32400 non-null  object\n",
      " 15  NEWLearn                                       30417 non-null  object\n",
      " 16  NEWOnboardGood                                 31036 non-null  object\n",
      " 17  NEWOvertime                                    31370 non-null  object\n",
      " 18  OpSys                                          30777 non-null  object\n",
      " 19  OrgSize                                        32268 non-null  object\n",
      " 20  PurchaseWhat                                   30593 non-null  object\n",
      " 21  UndergradMajor                                 30881 non-null  object\n",
      " 22  WorkWeekHrs                                    29773 non-null  object\n",
      " 23  YearsCode                                      32741 non-null  object\n",
      " 24  YearsCodePro                                   32741 non-null  object\n",
      " 25  Academic researcher                            33069 non-null  object\n",
      " 26  Data or business analyst                       33069 non-null  object\n",
      " 27  Data scientist or machine learning specialist  33069 non-null  object\n",
      " 28  Database administrator                         33069 non-null  object\n",
      " 29  Designer                                       33069 non-null  object\n",
      " 30  Developer, back-end                            33069 non-null  object\n",
      " 31  Developer, desktop or enterprise applications  33069 non-null  object\n",
      " 32  Developer, embedded applications or devices    33069 non-null  object\n",
      " 33  Developer, front-end                           33069 non-null  object\n",
      " 34  Developer, full-stack                          33069 non-null  object\n",
      " 35  Developer, game or graphics                    33069 non-null  object\n",
      " 36  Developer, mobile                              33069 non-null  object\n",
      " 37  Developer, QA or test                          33069 non-null  object\n",
      " 38  DevOps specialist                              33069 non-null  object\n",
      " 39  Educator                                       33069 non-null  object\n",
      " 40  Engineer, data                                 33069 non-null  object\n",
      " 41  Engineer, site reliability                     33069 non-null  object\n",
      " 42  Engineering manager                            33069 non-null  object\n",
      " 43  Marketing or sales professional                33069 non-null  object\n",
      " 44  Product manager                                33069 non-null  object\n",
      " 45  Scientist                                      33069 non-null  object\n",
      " 46  Senior Executive (C-Suite, VP, etc.)           33069 non-null  object\n",
      " 47  System administrator                           33069 non-null  object\n",
      " 48  Remote work                                    33069 non-null  object\n",
      " 49  company culture                                33069 non-null  object\n",
      " 50  Financial performance                          33069 non-null  object\n",
      " 51  Opportunities                                  33069 non-null  object\n",
      " 52  Diversity                                      33069 non-null  object\n",
      " 53  impactful                                      33069 non-null  object\n",
      " 54  Industry                                       33069 non-null  object\n",
      " 55  Specific department                            33069 non-null  object\n",
      " 56  Flex time                                      33069 non-null  object\n",
      " 57  technologies                                   33069 non-null  object\n",
      " 58  Family friendliness                            33069 non-null  object\n",
      " 59  DevOpsImp                                      30453 non-null  object\n",
      " 60  JobHuntWithoutCause                            33069 non-null  object\n",
      " 61  JobHuntTrouble                                 33069 non-null  object\n",
      " 62  JobHuntOpportunities                           33069 non-null  object\n",
      " 63  JobHuntCompensation                            33069 non-null  object\n",
      " 64  DatabaseChangesDesires                         23489 non-null  object\n",
      " 65  LanguageChangesDesires                         29197 non-null  object\n",
      " 66  MiscTechChangesDesires                         19791 non-null  object\n",
      " 67  CollabToolsChangesDesires                      26030 non-null  object\n",
      " 68  WebframeChangesDesires                         20784 non-null  object\n",
      " 69  PlatformChangesDesires                         27059 non-null  object\n",
      "dtypes: object(70)\n",
      "memory usage: 21.9+ MB\n"
     ]
    }
   ],
   "source": [
    "df.info()"
   ]
  },
  {
   "cell_type": "markdown",
   "id": "d57dc2db",
   "metadata": {},
   "source": [
    "### Renombro columnas"
   ]
  },
  {
   "cell_type": "code",
   "execution_count": 5071,
   "id": "51ffdb9c",
   "metadata": {},
   "outputs": [],
   "source": [
    "cols = list(df.columns)\n",
    "new_cols = []\n",
    "for col in cols:\n",
    "    col = col.replace(\",\",\"\")\n",
    "    col = col.replace(\" \",\"\")\n",
    "    new_cols.append(col)"
   ]
  },
  {
   "cell_type": "code",
   "execution_count": 5072,
   "id": "dabc341a",
   "metadata": {},
   "outputs": [],
   "source": [
    "df.columns = new_cols"
   ]
  },
  {
   "cell_type": "code",
   "execution_count": 5073,
   "id": "fa33f021",
   "metadata": {},
   "outputs": [
    {
     "name": "stdout",
     "output_type": "stream",
     "text": [
      "<class 'pandas.core.frame.DataFrame'>\n",
      "Int64Index: 40507 entries, 1 to 64154\n",
      "Data columns (total 70 columns):\n",
      " #   Column                                    Non-Null Count  Dtype \n",
      "---  ------                                    --------------  ----- \n",
      " 0   MainBranch                                33069 non-null  object\n",
      " 1   Hobbyist                                  33069 non-null  object\n",
      " 2   Age                                       26289 non-null  object\n",
      " 3   Age1stCode                                32892 non-null  object\n",
      " 4   CompFreq                                  29462 non-null  object\n",
      " 5   ConvertedComp                             25237 non-null  object\n",
      " 6   Continent                                 32905 non-null  object\n",
      " 7   CurrencyDesc                              32970 non-null  object\n",
      " 8   CurrencySymbol                            32970 non-null  object\n",
      " 9   EdLevel                                   32489 non-null  object\n",
      " 10  Ethnicity                                 26378 non-null  object\n",
      " 11  Gender                                    28812 non-null  object\n",
      " 12  JobSat                                    33069 non-null  object\n",
      " 13  JobSeek                                   31022 non-null  object\n",
      " 14  NEWEdImpt                                 32400 non-null  object\n",
      " 15  NEWLearn                                  30417 non-null  object\n",
      " 16  NEWOnboardGood                            31036 non-null  object\n",
      " 17  NEWOvertime                               31370 non-null  object\n",
      " 18  OpSys                                     30777 non-null  object\n",
      " 19  OrgSize                                   32268 non-null  object\n",
      " 20  PurchaseWhat                              30593 non-null  object\n",
      " 21  UndergradMajor                            30881 non-null  object\n",
      " 22  WorkWeekHrs                               29773 non-null  object\n",
      " 23  YearsCode                                 32741 non-null  object\n",
      " 24  YearsCodePro                              32741 non-null  object\n",
      " 25  Academicresearcher                        33069 non-null  object\n",
      " 26  Dataorbusinessanalyst                     33069 non-null  object\n",
      " 27  Datascientistormachinelearningspecialist  33069 non-null  object\n",
      " 28  Databaseadministrator                     33069 non-null  object\n",
      " 29  Designer                                  33069 non-null  object\n",
      " 30  Developerback-end                         33069 non-null  object\n",
      " 31  Developerdesktoporenterpriseapplications  33069 non-null  object\n",
      " 32  Developerembeddedapplicationsordevices    33069 non-null  object\n",
      " 33  Developerfront-end                        33069 non-null  object\n",
      " 34  Developerfull-stack                       33069 non-null  object\n",
      " 35  Developergameorgraphics                   33069 non-null  object\n",
      " 36  Developermobile                           33069 non-null  object\n",
      " 37  DeveloperQAortest                         33069 non-null  object\n",
      " 38  DevOpsspecialist                          33069 non-null  object\n",
      " 39  Educator                                  33069 non-null  object\n",
      " 40  Engineerdata                              33069 non-null  object\n",
      " 41  Engineersitereliability                   33069 non-null  object\n",
      " 42  Engineeringmanager                        33069 non-null  object\n",
      " 43  Marketingorsalesprofessional              33069 non-null  object\n",
      " 44  Productmanager                            33069 non-null  object\n",
      " 45  Scientist                                 33069 non-null  object\n",
      " 46  SeniorExecutive(C-SuiteVPetc.)            33069 non-null  object\n",
      " 47  Systemadministrator                       33069 non-null  object\n",
      " 48  Remotework                                33069 non-null  object\n",
      " 49  companyculture                            33069 non-null  object\n",
      " 50  Financialperformance                      33069 non-null  object\n",
      " 51  Opportunities                             33069 non-null  object\n",
      " 52  Diversity                                 33069 non-null  object\n",
      " 53  impactful                                 33069 non-null  object\n",
      " 54  Industry                                  33069 non-null  object\n",
      " 55  Specificdepartment                        33069 non-null  object\n",
      " 56  Flextime                                  33069 non-null  object\n",
      " 57  technologies                              33069 non-null  object\n",
      " 58  Familyfriendliness                        33069 non-null  object\n",
      " 59  DevOpsImp                                 30453 non-null  object\n",
      " 60  JobHuntWithoutCause                       33069 non-null  object\n",
      " 61  JobHuntTrouble                            33069 non-null  object\n",
      " 62  JobHuntOpportunities                      33069 non-null  object\n",
      " 63  JobHuntCompensation                       33069 non-null  object\n",
      " 64  DatabaseChangesDesires                    23489 non-null  object\n",
      " 65  LanguageChangesDesires                    29197 non-null  object\n",
      " 66  MiscTechChangesDesires                    19791 non-null  object\n",
      " 67  CollabToolsChangesDesires                 26030 non-null  object\n",
      " 68  WebframeChangesDesires                    20784 non-null  object\n",
      " 69  PlatformChangesDesires                    27059 non-null  object\n",
      "dtypes: object(70)\n",
      "memory usage: 21.9+ MB\n"
     ]
    }
   ],
   "source": [
    "df.info()"
   ]
  },
  {
   "cell_type": "markdown",
   "id": "81c0b219",
   "metadata": {},
   "source": [
    "### JobSat Al final"
   ]
  },
  {
   "cell_type": "code",
   "execution_count": 5074,
   "id": "fe6aaf06",
   "metadata": {},
   "outputs": [
    {
     "name": "stderr",
     "output_type": "stream",
     "text": [
      "C:\\Users\\dario\\AppData\\Local\\Temp/ipykernel_6548/3814075631.py:4: FutureWarning: In a future version of pandas all arguments of DataFrame.drop except for the argument 'labels' will be keyword-only\n",
      "  df = df.drop(CLASS, 1)\n"
     ]
    }
   ],
   "source": [
    "# Set class as last col.\n",
    "CLASS = 'JobSat'\n",
    "aux = df[CLASS]\n",
    "df = df.drop(CLASS, 1)\n",
    "df[CLASS] = aux"
   ]
  },
  {
   "cell_type": "markdown",
   "id": "c7ab3a0f",
   "metadata": {},
   "source": [
    "### Exporto df"
   ]
  },
  {
   "cell_type": "code",
   "execution_count": 5078,
   "id": "a51b96ee",
   "metadata": {},
   "outputs": [],
   "source": [
    "df=df.dropna()"
   ]
  },
  {
   "cell_type": "code",
   "execution_count": 5079,
   "id": "75ce691a",
   "metadata": {},
   "outputs": [],
   "source": [
    "df.to_csv('clean_data.csv', index=False)"
   ]
  },
  {
   "cell_type": "code",
   "execution_count": null,
   "id": "c7125710",
   "metadata": {},
   "outputs": [],
   "source": []
  }
 ],
 "metadata": {
  "kernelspec": {
   "display_name": "Python 3 (ipykernel)",
   "language": "python",
   "name": "python3"
  },
  "language_info": {
   "codemirror_mode": {
    "name": "ipython",
    "version": 3
   },
   "file_extension": ".py",
   "mimetype": "text/x-python",
   "name": "python",
   "nbconvert_exporter": "python",
   "pygments_lexer": "ipython3",
   "version": "3.10.0"
  }
 },
 "nbformat": 4,
 "nbformat_minor": 5
}
