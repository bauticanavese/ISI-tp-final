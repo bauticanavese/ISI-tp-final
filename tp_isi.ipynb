{
 "cells": [
  {
   "cell_type": "markdown",
   "id": "0ad71df3",
   "metadata": {},
   "source": [
    "# TP ISI"
   ]
  },
  {
   "cell_type": "markdown",
   "id": "dcdd3bdf",
   "metadata": {},
   "source": [
    "### Importo Bibliotecas"
   ]
  },
  {
   "cell_type": "code",
   "execution_count": 1317,
   "id": "de59ead9",
   "metadata": {},
   "outputs": [],
   "source": [
    "import pandas as pd"
   ]
  },
  {
   "cell_type": "markdown",
   "id": "511896c4",
   "metadata": {},
   "source": [
    "### Lectura de datos"
   ]
  },
  {
   "cell_type": "code",
   "execution_count": 1318,
   "id": "deb2cfbb",
   "metadata": {},
   "outputs": [],
   "source": [
    "df = pd.read_csv('data/survey_results_public.csv')"
   ]
  },
  {
   "cell_type": "markdown",
   "id": "f7f333f7",
   "metadata": {},
   "source": [
    "### Columnas"
   ]
  },
  {
   "cell_type": "code",
   "execution_count": 1319,
   "id": "622304ec",
   "metadata": {},
   "outputs": [
    {
     "name": "stdout",
     "output_type": "stream",
     "text": [
      "<class 'pandas.core.frame.DataFrame'>\n",
      "RangeIndex: 64461 entries, 0 to 64460\n",
      "Data columns (total 61 columns):\n",
      " #   Column                        Non-Null Count  Dtype  \n",
      "---  ------                        --------------  -----  \n",
      " 0   Respondent                    64461 non-null  int64  \n",
      " 1   MainBranch                    64162 non-null  object \n",
      " 2   Hobbyist                      64416 non-null  object \n",
      " 3   Age                           45446 non-null  float64\n",
      " 4   Age1stCode                    57900 non-null  object \n",
      " 5   CompFreq                      40069 non-null  object \n",
      " 6   CompTotal                     34826 non-null  float64\n",
      " 7   ConvertedComp                 34756 non-null  float64\n",
      " 8   Country                       64072 non-null  object \n",
      " 9   CurrencyDesc                  45472 non-null  object \n",
      " 10  CurrencySymbol                45472 non-null  object \n",
      " 11  DatabaseDesireNextYear        44070 non-null  object \n",
      " 12  DatabaseWorkedWith            49537 non-null  object \n",
      " 13  DevType                       49370 non-null  object \n",
      " 14  EdLevel                       57431 non-null  object \n",
      " 15  Employment                    63854 non-null  object \n",
      " 16  Ethnicity                     45948 non-null  object \n",
      " 17  Gender                        50557 non-null  object \n",
      " 18  JobFactors                    49349 non-null  object \n",
      " 19  JobSat                        45194 non-null  object \n",
      " 20  JobSeek                       51727 non-null  object \n",
      " 21  LanguageDesireNextYear        54113 non-null  object \n",
      " 22  LanguageWorkedWith            57378 non-null  object \n",
      " 23  MiscTechDesireNextYear        42379 non-null  object \n",
      " 24  MiscTechWorkedWith            40314 non-null  object \n",
      " 25  NEWCollabToolsDesireNextYear  47287 non-null  object \n",
      " 26  NEWCollabToolsWorkedWith      52883 non-null  object \n",
      " 27  NEWDevOps                     42686 non-null  object \n",
      " 28  NEWDevOpsImpt                 41732 non-null  object \n",
      " 29  NEWEdImpt                     48465 non-null  object \n",
      " 30  NEWJobHunt                    42286 non-null  object \n",
      " 31  NEWJobHuntResearch            41022 non-null  object \n",
      " 32  NEWLearn                      56156 non-null  object \n",
      " 33  NEWOffTopic                   50804 non-null  object \n",
      " 34  NEWOnboardGood                42623 non-null  object \n",
      " 35  NEWOtherComms                 57205 non-null  object \n",
      " 36  NEWOvertime                   43231 non-null  object \n",
      " 37  NEWPurchaseResearch           37321 non-null  object \n",
      " 38  NEWPurpleLink                 54803 non-null  object \n",
      " 39  NEWSOSites                    58275 non-null  object \n",
      " 40  NEWStuck                      54983 non-null  object \n",
      " 41  OpSys                         56228 non-null  object \n",
      " 42  OrgSize                       44334 non-null  object \n",
      " 43  PlatformDesireNextYear        50605 non-null  object \n",
      " 44  PlatformWorkedWith            53843 non-null  object \n",
      " 45  PurchaseWhat                  39364 non-null  object \n",
      " 46  Sexuality                     43992 non-null  object \n",
      " 47  SOAccount                     56805 non-null  object \n",
      " 48  SOComm                        56476 non-null  object \n",
      " 49  SOPartFreq                    46792 non-null  object \n",
      " 50  SOVisitFreq                   56970 non-null  object \n",
      " 51  SurveyEase                    51802 non-null  object \n",
      " 52  SurveyLength                  51701 non-null  object \n",
      " 53  Trans                         49345 non-null  object \n",
      " 54  UndergradMajor                50995 non-null  object \n",
      " 55  WebframeDesireNextYear        40024 non-null  object \n",
      " 56  WebframeWorkedWith            42279 non-null  object \n",
      " 57  WelcomeChange                 52683 non-null  object \n",
      " 58  WorkWeekHrs                   41151 non-null  float64\n",
      " 59  YearsCode                     57684 non-null  object \n",
      " 60  YearsCodePro                  46349 non-null  object \n",
      "dtypes: float64(4), int64(1), object(56)\n",
      "memory usage: 30.0+ MB\n"
     ]
    }
   ],
   "source": [
    "df.info()"
   ]
  },
  {
   "cell_type": "markdown",
   "id": "fddc59d8",
   "metadata": {},
   "source": [
    "### Cantidad de datos en jos sat"
   ]
  },
  {
   "cell_type": "code",
   "execution_count": 1320,
   "id": "997cc0c4",
   "metadata": {},
   "outputs": [
    {
     "data": {
      "text/plain": [
       "Very satisfied                        14611\n",
       "Slightly satisfied                    13930\n",
       "Slightly dissatisfied                  7124\n",
       "Neither satisfied nor dissatisfied     5783\n",
       "Very dissatisfied                      3746\n",
       "Name: JobSat, dtype: int64"
      ]
     },
     "execution_count": 1320,
     "metadata": {},
     "output_type": "execute_result"
    }
   ],
   "source": [
    "df['JobSat'].value_counts()"
   ]
  },
  {
   "cell_type": "markdown",
   "id": "55e51d0f",
   "metadata": {},
   "source": [
    "### Respondent"
   ]
  },
  {
   "cell_type": "code",
   "execution_count": 1321,
   "id": "1db19ea4",
   "metadata": {},
   "outputs": [],
   "source": [
    "# Es el numero de encuestado, se elimina\n",
    "df.drop(['Respondent'], axis=1, inplace=True)"
   ]
  },
  {
   "cell_type": "markdown",
   "id": "2c2593a1",
   "metadata": {},
   "source": [
    "### MainBranch"
   ]
  },
  {
   "cell_type": "code",
   "execution_count": 1322,
   "id": "a4b10519",
   "metadata": {},
   "outputs": [
    {
     "data": {
      "text/plain": [
       "I am a developer by profession                                                   47193\n",
       "I am a student who is learning to code                                            7970\n",
       "I am not primarily a developer, but I write code sometimes as part of my work     5502\n",
       "I code primarily as a hobby                                                       2314\n",
       "I used to be a developer by profession, but no longer am                          1183\n",
       "Name: MainBranch, dtype: int64"
      ]
     },
     "execution_count": 1322,
     "metadata": {},
     "output_type": "execute_result"
    }
   ],
   "source": [
    "df['MainBranch'].value_counts()"
   ]
  },
  {
   "cell_type": "code",
   "execution_count": 1323,
   "id": "84113fd1",
   "metadata": {},
   "outputs": [
    {
     "data": {
      "text/plain": [
       "I am a developer by profession                                                   47193\n",
       "I am not primarily a developer, but I write code sometimes as part of my work     5502\n",
       "Name: MainBranch, dtype: int64"
      ]
     },
     "execution_count": 1323,
     "metadata": {},
     "output_type": "execute_result"
    }
   ],
   "source": [
    "# Nos quedamos como aquellos que son desarrolladores por profesion o, si bien no son desarrolladores, \n",
    "# escriben codigo como parte de su trabajo. Se descarta el resto ya que no aportan a la incestigación\n",
    "# Luego se elimina la columna\n",
    "values= ['I am a developer by profession', 'I am not primarily a developer, but I write code sometimes as part of my work']\n",
    "df = df[df.MainBranch.isin(values)]\n",
    "df['MainBranch'].value_counts()"
   ]
  },
  {
   "cell_type": "code",
   "execution_count": 1324,
   "id": "fb2554e1",
   "metadata": {},
   "outputs": [],
   "source": [
    "# Modificamos la columna para que sea más entendible\n",
    "df.MainBranch = df.MainBranch.apply(lambda x: 'Developer' if x == 'I am a developer by profession' else 'Not developer')"
   ]
  },
  {
   "cell_type": "markdown",
   "id": "061a672d",
   "metadata": {},
   "source": [
    "### Hobbyist "
   ]
  },
  {
   "cell_type": "code",
   "execution_count": 1325,
   "id": "b37ec50d",
   "metadata": {},
   "outputs": [],
   "source": [
    "### Describe si ademas de hacerlo de manera laboral, la persona programa como un hobby.\n",
    "### Nos da una media del interes y el gusto de la persona en la programación. Valores Yes y No, se considera correcta"
   ]
  },
  {
   "cell_type": "code",
   "execution_count": 1326,
   "id": "83a0ea25",
   "metadata": {},
   "outputs": [
    {
     "data": {
      "text/plain": [
       "Yes    40433\n",
       "No     12224\n",
       "Name: Hobbyist, dtype: int64"
      ]
     },
     "execution_count": 1326,
     "metadata": {},
     "output_type": "execute_result"
    }
   ],
   "source": [
    "df.Hobbyist.value_counts()"
   ]
  },
  {
   "cell_type": "markdown",
   "id": "32b231a1",
   "metadata": {},
   "source": [
    "### Age"
   ]
  },
  {
   "cell_type": "code",
   "execution_count": 1327,
   "id": "9230f689",
   "metadata": {},
   "outputs": [],
   "source": [
    "# Se consideran nulas todas aquellas edades menores a 16 años y mayores a 90 años\n",
    "df.Age = df.Age.apply(lambda x: None if (x<16 or x>90) else x)"
   ]
  },
  {
   "cell_type": "code",
   "execution_count": 1328,
   "id": "0cd7fc3a",
   "metadata": {},
   "outputs": [],
   "source": [
    "def classify_age(x):\n",
    "    if (x>=16 and x < 25):\n",
    "        return 'Entre 16 y 25'\n",
    "    if (x >= 25 and x < 35):\n",
    "        return 'Entre 25 y 35'\n",
    "    if (x >= 35 and x < 45):\n",
    "        return 'Entre 35 y 45'\n",
    "    if (x >= 45 and x < 55):\n",
    "        return 'Entre 45 y 55'\n",
    "    if (x >=55 and x < 65):\n",
    "        return 'Entre 55 y 65'\n",
    "    if (x >=65 and x < 75):\n",
    "        return 'Entre 65 y 75'\n",
    "    if (x >=75 and x < 85):\n",
    "        return 'Entre 75 y 85'\n",
    "    return None\n",
    "    \n",
    "# Vamos a dividir a las personas en tres grupos: \n",
    "df.Age = df.Age.apply(lambda x: classify_age(x))    \n"
   ]
  },
  {
   "cell_type": "markdown",
   "id": "86b937c4",
   "metadata": {},
   "source": [
    "### Age1stCode"
   ]
  },
  {
   "cell_type": "code",
   "execution_count": 1329,
   "id": "de15f667",
   "metadata": {},
   "outputs": [],
   "source": [
    "# Edad en la que la persona escribió sus primeras lineas de código\n",
    "# Esta columna nos sirve para ver si la persona aprendió a programar a una edad adulta o de pequeño\n",
    "# Vamos a clasificarla en algunos grupos:"
   ]
  },
  {
   "cell_type": "code",
   "execution_count": 1330,
   "id": "f40b2fe2",
   "metadata": {},
   "outputs": [],
   "source": [
    "df.Age1stCode=df.Age1stCode.replace('Older than 85', 65)\n",
    "df.Age1stCode=df.Age1stCode.replace('Younger than 5 years', 5)\n",
    "df.Age1stCode=df.Age1stCode.fillna(90)\n"
   ]
  },
  {
   "cell_type": "code",
   "execution_count": 1331,
   "id": "61df615e",
   "metadata": {},
   "outputs": [],
   "source": [
    "def classify_Age1stCode(x):\n",
    "    if (x>=4 and x < 12):\n",
    "        return 'Antes de los 12'\n",
    "    if (x >= 12 and x < 18):\n",
    "        return 'Entre los 12 y los 18'\n",
    "    if (x >= 18 and x < 25):\n",
    "        return 'Entre los 18 y los 25'\n",
    "    if (x >= 25 and x < 35):\n",
    "        return 'Entre los 25 y los 35'\n",
    "    if (x >= 35 and x < 45):\n",
    "        return 'Entre los 35 y los 45'\n",
    "    if (x >= 45 and x < 60):\n",
    "        return 'Entre los 45 y los 60'\n",
    "    if (x >= 60 and x <= 85):\n",
    "        return 'Despues de los 60'\n",
    "    return None\n",
    "\n",
    "# Vamos a dividir a las personas en tres grupos: \n",
    "df.Age1stCode = df.Age1stCode.apply(lambda x: classify_Age1stCode(int(x))) "
   ]
  },
  {
   "cell_type": "code",
   "execution_count": 1332,
   "id": "423de6cb",
   "metadata": {},
   "outputs": [
    {
     "data": {
      "text/plain": [
       "Entre los 12 y los 18    24914\n",
       "Entre los 18 y los 25    12139\n",
       "Antes de los 12           8881\n",
       "Entre los 25 y los 35     1751\n",
       "Entre los 35 y los 45      181\n",
       "Entre los 45 y los 60       41\n",
       "Despues de los 60           14\n",
       "Name: Age1stCode, dtype: int64"
      ]
     },
     "execution_count": 1332,
     "metadata": {},
     "output_type": "execute_result"
    }
   ],
   "source": [
    "df.Age1stCode.value_counts()"
   ]
  },
  {
   "cell_type": "markdown",
   "id": "2aac4760",
   "metadata": {},
   "source": [
    "### CompFreq"
   ]
  },
  {
   "cell_type": "code",
   "execution_count": 1333,
   "id": "20d75540",
   "metadata": {},
   "outputs": [],
   "source": [
    "# Frecuencia con la que se recibe la compensación, el campo está correcto"
   ]
  },
  {
   "cell_type": "code",
   "execution_count": 1334,
   "id": "83a23316",
   "metadata": {},
   "outputs": [
    {
     "data": {
      "text/plain": [
       "Yearly     19818\n",
       "Monthly    18899\n",
       "Weekly      1352\n",
       "Name: CompFreq, dtype: int64"
      ]
     },
     "execution_count": 1334,
     "metadata": {},
     "output_type": "execute_result"
    }
   ],
   "source": [
    "df.CompFreq.value_counts()"
   ]
  },
  {
   "cell_type": "markdown",
   "id": "6da5324f",
   "metadata": {},
   "source": [
    "### CompTotal"
   ]
  },
  {
   "cell_type": "code",
   "execution_count": 1335,
   "id": "9d228a9f",
   "metadata": {},
   "outputs": [],
   "source": [
    "# Es el salario pero expresado en moneda local por lo que se descarta ya que se utilizará el salario en dolares\n",
    "df.drop(['CompTotal'], axis=1, inplace=True)"
   ]
  },
  {
   "cell_type": "markdown",
   "id": "f4ea6d77",
   "metadata": {},
   "source": [
    "###  ConvertedComp "
   ]
  },
  {
   "cell_type": "code",
   "execution_count": 1336,
   "id": "decab5b6",
   "metadata": {},
   "outputs": [],
   "source": [
    "# Es el salario en dolares, esta columa nos interesa pero tambien vamos a discretizarla"
   ]
  },
  {
   "cell_type": "code",
   "execution_count": 1337,
   "id": "09fa0167",
   "metadata": {},
   "outputs": [],
   "source": [
    "def classify_ConvertedComp(x):\n",
    "    if (x == 0):\n",
    "        return 'Gratis'\n",
    "    if (x > 100 and x < 1000):\n",
    "        return 'Menos de 1000'\n",
    "    if (x > 1000 and x < 3000):\n",
    "        return 'Entre 1.000 y los 3.000'\n",
    "    if (x > 3000 and x < 5000):\n",
    "        return 'Entre 3.000 y los 5.000'\n",
    "    if (x > 5000 and x < 10000):\n",
    "        return 'Entre 5.000 y los 10.000'\n",
    "    if (x > 10000 and x < 20000):\n",
    "        return 'Entre 10.000 y los 20.000'\n",
    "    if (x > 20000 and x < 40000):\n",
    "        return 'Entre 20.000 y los 40.000'\n",
    "    if (x > 40000 and x < 60000):\n",
    "        return 'Entre 40.000 y los 60.000'\n",
    "    if (x > 60000 and x < 80000):\n",
    "        return 'Entre 60.000 y los 80.000'\n",
    "    if (x >= 80000 and x < 100000):\n",
    "        return 'Entre 80.000 y los 100.000'\n",
    "    if (x >= 100000 and x < 250000):\n",
    "        return 'Entre 100.000 y los 250.000'\n",
    "    if (x >= 250000 and x < 500000):\n",
    "        return 'Entre 250.000 y los 500.000'\n",
    "    if (x >= 500000 and x < 1000000):\n",
    "        return 'Entre 500.000 y los 1.000.000'\n",
    "    if (x >= 1000000):\n",
    "        return 'Más de 1.000.000'\n",
    "    return None\n",
    "\n",
    "df.ConvertedComp = df.ConvertedComp.apply(lambda x: classify_ConvertedComp(x))"
   ]
  },
  {
   "cell_type": "code",
   "execution_count": 1338,
   "id": "3c98a6c2",
   "metadata": {},
   "outputs": [
    {
     "data": {
      "text/plain": [
       "Entre 100.000 y los 250.000      6300\n",
       "Entre 20.000 y los 40.000        5957\n",
       "Entre 40.000 y los 60.000        5713\n",
       "Entre 60.000 y los 80.000        4342\n",
       "Entre 10.000 y los 20.000        3506\n",
       "Entre 80.000 y los 100.000       2980\n",
       "Entre 5.000 y los 10.000         2143\n",
       "Entre 3.000 y los 5.000           799\n",
       "Entre 250.000 y los 500.000       675\n",
       "Más de 1.000.000                  656\n",
       "Entre 500.000 y los 1.000.000     584\n",
       "Entre 1.000 y los 3.000           509\n",
       "Gratis                            142\n",
       "Menos de 1000                     139\n",
       "Name: ConvertedComp, dtype: int64"
      ]
     },
     "execution_count": 1338,
     "metadata": {},
     "output_type": "execute_result"
    }
   ],
   "source": [
    "df.ConvertedComp.value_counts()"
   ]
  },
  {
   "cell_type": "markdown",
   "id": "69a3410e",
   "metadata": {},
   "source": [
    "### Country"
   ]
  },
  {
   "cell_type": "code",
   "execution_count": 1339,
   "id": "8d615735",
   "metadata": {},
   "outputs": [],
   "source": [
    "# Convert it to continent"
   ]
  },
  {
   "cell_type": "code",
   "execution_count": 1340,
   "id": "9ef0c208",
   "metadata": {},
   "outputs": [],
   "source": [
    "aux = df.Country.dropna()"
   ]
  },
  {
   "cell_type": "code",
   "execution_count": 1341,
   "id": "5889077d",
   "metadata": {},
   "outputs": [],
   "source": [
    "aux = aux.apply(lambda x: replace_value(x))"
   ]
  },
  {
   "cell_type": "code",
   "execution_count": 1342,
   "id": "3fe151a3",
   "metadata": {},
   "outputs": [],
   "source": [
    "def get_continent(x):\n",
    "    try:\n",
    "        country_alpha2 = pc.country_name_to_country_alpha2(x)\n",
    "        country_continent_code = pc.country_alpha2_to_continent_code(country_alpha2)\n",
    "        country_continent_name = pc.convert_continent_code_to_continent_name(country_continent_code)\n",
    "        return country_continent_name\n",
    "    except:\n",
    "        return None\n",
    "        "
   ]
  },
  {
   "cell_type": "code",
   "execution_count": 1343,
   "id": "de19c005",
   "metadata": {},
   "outputs": [],
   "source": [
    "aux  = aux.apply(lambda x: get_continent(x))"
   ]
  },
  {
   "cell_type": "code",
   "execution_count": 1344,
   "id": "7f0a3214",
   "metadata": {},
   "outputs": [],
   "source": [
    "df.Country = aux\n",
    "df.rename(columns = {'Country':'Continent'},inplace=True)"
   ]
  },
  {
   "cell_type": "code",
   "execution_count": 1345,
   "id": "456f42c7",
   "metadata": {},
   "outputs": [
    {
     "data": {
      "text/plain": [
       "Europe           20898\n",
       "North America    13311\n",
       "Asia             12517\n",
       "South America     2655\n",
       "Africa            1722\n",
       "Oceania           1338\n",
       "Name: Continent, dtype: int64"
      ]
     },
     "execution_count": 1345,
     "metadata": {},
     "output_type": "execute_result"
    }
   ],
   "source": [
    "df['Continent'].value_counts()"
   ]
  },
  {
   "cell_type": "code",
   "execution_count": null,
   "id": "65a1e82a",
   "metadata": {},
   "outputs": [],
   "source": []
  }
 ],
 "metadata": {
  "kernelspec": {
   "display_name": "Python 3 (ipykernel)",
   "language": "python",
   "name": "python3"
  },
  "language_info": {
   "codemirror_mode": {
    "name": "ipython",
    "version": 3
   },
   "file_extension": ".py",
   "mimetype": "text/x-python",
   "name": "python",
   "nbconvert_exporter": "python",
   "pygments_lexer": "ipython3",
   "version": "3.10.0"
  }
 },
 "nbformat": 4,
 "nbformat_minor": 5
}
