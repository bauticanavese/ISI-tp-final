{
 "cells": [
  {
   "cell_type": "markdown",
   "id": "0ad71df3",
   "metadata": {},
   "source": [
    "# TP ISI"
   ]
  },
  {
   "cell_type": "markdown",
   "id": "dcdd3bdf",
   "metadata": {},
   "source": [
    "### Importo Bibliotecas"
   ]
  },
  {
   "cell_type": "code",
   "execution_count": 1579,
   "id": "de59ead9",
   "metadata": {},
   "outputs": [],
   "source": [
    "import pandas as pd\n",
    "import numpy as np\n",
    "import pycountry_convert as pc"
   ]
  },
  {
   "cell_type": "markdown",
   "id": "511896c4",
   "metadata": {},
   "source": [
    "### Lectura de datos"
   ]
  },
  {
   "cell_type": "code",
   "execution_count": 1580,
   "id": "deb2cfbb",
   "metadata": {},
   "outputs": [],
   "source": [
    "df = pd.read_csv('data/survey_results_public.csv')"
   ]
  },
  {
   "cell_type": "markdown",
   "id": "f7f333f7",
   "metadata": {},
   "source": [
    "### Columnas"
   ]
  },
  {
   "cell_type": "code",
   "execution_count": 1581,
   "id": "622304ec",
   "metadata": {},
   "outputs": [
    {
     "name": "stdout",
     "output_type": "stream",
     "text": [
      "<class 'pandas.core.frame.DataFrame'>\n",
      "RangeIndex: 64461 entries, 0 to 64460\n",
      "Data columns (total 61 columns):\n",
      " #   Column                        Non-Null Count  Dtype  \n",
      "---  ------                        --------------  -----  \n",
      " 0   Respondent                    64461 non-null  int64  \n",
      " 1   MainBranch                    64162 non-null  object \n",
      " 2   Hobbyist                      64416 non-null  object \n",
      " 3   Age                           45446 non-null  float64\n",
      " 4   Age1stCode                    57900 non-null  object \n",
      " 5   CompFreq                      40069 non-null  object \n",
      " 6   CompTotal                     34826 non-null  float64\n",
      " 7   ConvertedComp                 34756 non-null  float64\n",
      " 8   Country                       64072 non-null  object \n",
      " 9   CurrencyDesc                  45472 non-null  object \n",
      " 10  CurrencySymbol                45472 non-null  object \n",
      " 11  DatabaseDesireNextYear        44070 non-null  object \n",
      " 12  DatabaseWorkedWith            49537 non-null  object \n",
      " 13  DevType                       49370 non-null  object \n",
      " 14  EdLevel                       57431 non-null  object \n",
      " 15  Employment                    63854 non-null  object \n",
      " 16  Ethnicity                     45948 non-null  object \n",
      " 17  Gender                        50557 non-null  object \n",
      " 18  JobFactors                    49349 non-null  object \n",
      " 19  JobSat                        45194 non-null  object \n",
      " 20  JobSeek                       51727 non-null  object \n",
      " 21  LanguageDesireNextYear        54113 non-null  object \n",
      " 22  LanguageWorkedWith            57378 non-null  object \n",
      " 23  MiscTechDesireNextYear        42379 non-null  object \n",
      " 24  MiscTechWorkedWith            40314 non-null  object \n",
      " 25  NEWCollabToolsDesireNextYear  47287 non-null  object \n",
      " 26  NEWCollabToolsWorkedWith      52883 non-null  object \n",
      " 27  NEWDevOps                     42686 non-null  object \n",
      " 28  NEWDevOpsImpt                 41732 non-null  object \n",
      " 29  NEWEdImpt                     48465 non-null  object \n",
      " 30  NEWJobHunt                    42286 non-null  object \n",
      " 31  NEWJobHuntResearch            41022 non-null  object \n",
      " 32  NEWLearn                      56156 non-null  object \n",
      " 33  NEWOffTopic                   50804 non-null  object \n",
      " 34  NEWOnboardGood                42623 non-null  object \n",
      " 35  NEWOtherComms                 57205 non-null  object \n",
      " 36  NEWOvertime                   43231 non-null  object \n",
      " 37  NEWPurchaseResearch           37321 non-null  object \n",
      " 38  NEWPurpleLink                 54803 non-null  object \n",
      " 39  NEWSOSites                    58275 non-null  object \n",
      " 40  NEWStuck                      54983 non-null  object \n",
      " 41  OpSys                         56228 non-null  object \n",
      " 42  OrgSize                       44334 non-null  object \n",
      " 43  PlatformDesireNextYear        50605 non-null  object \n",
      " 44  PlatformWorkedWith            53843 non-null  object \n",
      " 45  PurchaseWhat                  39364 non-null  object \n",
      " 46  Sexuality                     43992 non-null  object \n",
      " 47  SOAccount                     56805 non-null  object \n",
      " 48  SOComm                        56476 non-null  object \n",
      " 49  SOPartFreq                    46792 non-null  object \n",
      " 50  SOVisitFreq                   56970 non-null  object \n",
      " 51  SurveyEase                    51802 non-null  object \n",
      " 52  SurveyLength                  51701 non-null  object \n",
      " 53  Trans                         49345 non-null  object \n",
      " 54  UndergradMajor                50995 non-null  object \n",
      " 55  WebframeDesireNextYear        40024 non-null  object \n",
      " 56  WebframeWorkedWith            42279 non-null  object \n",
      " 57  WelcomeChange                 52683 non-null  object \n",
      " 58  WorkWeekHrs                   41151 non-null  float64\n",
      " 59  YearsCode                     57684 non-null  object \n",
      " 60  YearsCodePro                  46349 non-null  object \n",
      "dtypes: float64(4), int64(1), object(56)\n",
      "memory usage: 30.0+ MB\n"
     ]
    }
   ],
   "source": [
    "df.info()"
   ]
  },
  {
   "cell_type": "markdown",
   "id": "fddc59d8",
   "metadata": {},
   "source": [
    "### Cantidad de datos en jos sat"
   ]
  },
  {
   "cell_type": "code",
   "execution_count": 1582,
   "id": "997cc0c4",
   "metadata": {},
   "outputs": [
    {
     "data": {
      "text/plain": [
       "Very satisfied                        14611\n",
       "Slightly satisfied                    13930\n",
       "Slightly dissatisfied                  7124\n",
       "Neither satisfied nor dissatisfied     5783\n",
       "Very dissatisfied                      3746\n",
       "Name: JobSat, dtype: int64"
      ]
     },
     "execution_count": 1582,
     "metadata": {},
     "output_type": "execute_result"
    }
   ],
   "source": [
    "df['JobSat'].value_counts()"
   ]
  },
  {
   "cell_type": "markdown",
   "id": "55e51d0f",
   "metadata": {},
   "source": [
    "### Respondent"
   ]
  },
  {
   "cell_type": "code",
   "execution_count": 1583,
   "id": "1db19ea4",
   "metadata": {},
   "outputs": [],
   "source": [
    "# Es el numero de encuestado, se elimina\n",
    "df.drop(['Respondent'], axis=1, inplace=True)"
   ]
  },
  {
   "cell_type": "markdown",
   "id": "2c2593a1",
   "metadata": {},
   "source": [
    "### MainBranch"
   ]
  },
  {
   "cell_type": "code",
   "execution_count": 1584,
   "id": "a4b10519",
   "metadata": {
    "scrolled": true
   },
   "outputs": [
    {
     "data": {
      "text/plain": [
       "I am a developer by profession                                                   47193\n",
       "I am a student who is learning to code                                            7970\n",
       "I am not primarily a developer, but I write code sometimes as part of my work     5502\n",
       "I code primarily as a hobby                                                       2314\n",
       "I used to be a developer by profession, but no longer am                          1183\n",
       "Name: MainBranch, dtype: int64"
      ]
     },
     "execution_count": 1584,
     "metadata": {},
     "output_type": "execute_result"
    }
   ],
   "source": [
    "df['MainBranch'].value_counts()"
   ]
  },
  {
   "cell_type": "code",
   "execution_count": 1585,
   "id": "84113fd1",
   "metadata": {},
   "outputs": [
    {
     "data": {
      "text/plain": [
       "I am a developer by profession                                                   47193\n",
       "I am not primarily a developer, but I write code sometimes as part of my work     5502\n",
       "Name: MainBranch, dtype: int64"
      ]
     },
     "execution_count": 1585,
     "metadata": {},
     "output_type": "execute_result"
    }
   ],
   "source": [
    "# Nos quedamos como aquellos que son desarrolladores por profesion o, si bien no son desarrolladores, \n",
    "# escriben codigo como parte de su trabajo. Se descarta el resto ya que no aportan a la incestigación\n",
    "# Luego se elimina la columna\n",
    "values= ['I am a developer by profession', 'I am not primarily a developer, but I write code sometimes as part of my work']\n",
    "df = df[df.MainBranch.isin(values)]\n",
    "df['MainBranch'].value_counts()"
   ]
  },
  {
   "cell_type": "code",
   "execution_count": 1586,
   "id": "0aa501f0",
   "metadata": {},
   "outputs": [],
   "source": [
    "df = df.drop('MainBranch', axis=1)"
   ]
  },
  {
   "cell_type": "markdown",
   "id": "061a672d",
   "metadata": {},
   "source": [
    "### Hobbyist "
   ]
  },
  {
   "cell_type": "code",
   "execution_count": 1587,
   "id": "b37ec50d",
   "metadata": {},
   "outputs": [],
   "source": [
    "### Describe si ademas de hacerlo de manera laboral, la persona programa como un hobby.\n",
    "### Nos da una media del interes y el gusto de la persona en la programación. Valores Yes y No, se considera correcta"
   ]
  },
  {
   "cell_type": "code",
   "execution_count": 1588,
   "id": "83a0ea25",
   "metadata": {},
   "outputs": [
    {
     "data": {
      "text/plain": [
       "Yes    40433\n",
       "No     12224\n",
       "Name: Hobbyist, dtype: int64"
      ]
     },
     "execution_count": 1588,
     "metadata": {},
     "output_type": "execute_result"
    }
   ],
   "source": [
    "df.Hobbyist.value_counts()"
   ]
  },
  {
   "cell_type": "code",
   "execution_count": 1589,
   "id": "7fad6cf8",
   "metadata": {},
   "outputs": [],
   "source": [
    "# Dado que no es algo laboral, sino mas bien algo que la persona hace fuera de este ambito, se elimnina la columna\n",
    "df = df.drop('Hobbyist', axis=1)"
   ]
  },
  {
   "cell_type": "markdown",
   "id": "32b231a1",
   "metadata": {},
   "source": [
    "### Age"
   ]
  },
  {
   "cell_type": "code",
   "execution_count": 1590,
   "id": "9230f689",
   "metadata": {},
   "outputs": [],
   "source": [
    "# Completo nulos con la media\n",
    "# df.Age = df.Age.fillna(df.Age.mean())\n",
    "\n",
    "# Se consideran nulas todas aquellas edades menores a 16 años y mayores a 90 años\n",
    "df.Age = df.Age.apply(lambda x: None if (x<16 or x>90) else x)"
   ]
  },
  {
   "cell_type": "code",
   "execution_count": 1591,
   "id": "0cd7fc3a",
   "metadata": {},
   "outputs": [],
   "source": [
    "def classify_age(x):\n",
    "    if (x>=16 and x < 25):\n",
    "        return '16-25'\n",
    "    if (x >= 25 and x < 35):\n",
    "        return '25-35'\n",
    "    if (x >= 35 and x < 45):\n",
    "        return '35-45'\n",
    "    if (x >= 45 and x < 55):\n",
    "        return '45-55'\n",
    "    if (x >=55):\n",
    "        return '+55'\n",
    "    return None\n",
    "    \n",
    "# Vamos a dividir a las personas en tres grupos: \n",
    "df.Age = df.Age.apply(lambda x: classify_age(x))    \n"
   ]
  },
  {
   "cell_type": "markdown",
   "id": "86b937c4",
   "metadata": {},
   "source": [
    "### Age1stCode"
   ]
  },
  {
   "cell_type": "code",
   "execution_count": 1592,
   "id": "de15f667",
   "metadata": {},
   "outputs": [],
   "source": [
    "# Edad en la que la persona escribió sus primeras lineas de código\n",
    "# Esta columna nos sirve para ver si la persona aprendió a programar a una edad adulta o de pequeño\n",
    "# Vamos a clasificarla en algunos grupos:"
   ]
  },
  {
   "cell_type": "code",
   "execution_count": 1593,
   "id": "f40b2fe2",
   "metadata": {},
   "outputs": [],
   "source": [
    "df.Age1stCode=df.Age1stCode.replace('Older than 85', 65)\n",
    "df.Age1stCode=df.Age1stCode.replace('Younger than 5 years', 5)\n",
    "df.Age1stCode=df.Age1stCode.fillna(90)\n"
   ]
  },
  {
   "cell_type": "code",
   "execution_count": 1594,
   "id": "61df615e",
   "metadata": {},
   "outputs": [],
   "source": [
    "def classify_Age1stCode(x):\n",
    "    if (x>=4 and x < 12):\n",
    "        return '-12'\n",
    "    if (x >= 12 and x < 18):\n",
    "        return '12-18'\n",
    "    if (x >= 18 and x < 25):\n",
    "        return '18-25'\n",
    "    if (x >= 25 and x < 35):\n",
    "        return '25-35'\n",
    "    if (x >= 35 and x < 45):\n",
    "        return '35-45'\n",
    "    if (x >= 45 and x < 60):\n",
    "        return '45-60'\n",
    "    if (x >= 60 and x <= 85):\n",
    "        return '-60'\n",
    "    return None\n",
    "\n",
    "# Vamos a dividir a las personas en tres grupos: \n",
    "df.Age1stCode = df.Age1stCode.apply(lambda x: classify_Age1stCode(int(x))) "
   ]
  },
  {
   "cell_type": "code",
   "execution_count": 1595,
   "id": "423de6cb",
   "metadata": {},
   "outputs": [
    {
     "data": {
      "text/plain": [
       "12-18    24914\n",
       "18-25    12139\n",
       "-12       8881\n",
       "25-35     1751\n",
       "35-45      181\n",
       "45-60       41\n",
       "-60         14\n",
       "Name: Age1stCode, dtype: int64"
      ]
     },
     "execution_count": 1595,
     "metadata": {},
     "output_type": "execute_result"
    }
   ],
   "source": [
    "df.Age1stCode.value_counts()"
   ]
  },
  {
   "cell_type": "code",
   "execution_count": 1596,
   "id": "d4e4de53",
   "metadata": {},
   "outputs": [],
   "source": [
    "# Dado que lo que nos interesa es saber la experiencia profesional de la persona, se descarta la columna\n",
    "# Dado que no es algo laboral, sino mas bien algo que la persona hace fuera de este ambito, se elimnina la columna\n",
    "df = df.drop('Age1stCode', axis=1)"
   ]
  },
  {
   "cell_type": "markdown",
   "id": "2aac4760",
   "metadata": {},
   "source": [
    "### CompFreq"
   ]
  },
  {
   "cell_type": "code",
   "execution_count": 1597,
   "id": "20d75540",
   "metadata": {},
   "outputs": [],
   "source": [
    "# Frecuencia con la que se recibe la compensación, el campo está correcto"
   ]
  },
  {
   "cell_type": "code",
   "execution_count": 1598,
   "id": "83a23316",
   "metadata": {},
   "outputs": [
    {
     "data": {
      "text/plain": [
       "Yearly     19818\n",
       "Monthly    18899\n",
       "Weekly      1352\n",
       "Name: CompFreq, dtype: int64"
      ]
     },
     "execution_count": 1598,
     "metadata": {},
     "output_type": "execute_result"
    }
   ],
   "source": [
    "df.CompFreq.value_counts()"
   ]
  },
  {
   "cell_type": "markdown",
   "id": "6da5324f",
   "metadata": {},
   "source": [
    "### CompTotal"
   ]
  },
  {
   "cell_type": "code",
   "execution_count": 1599,
   "id": "9d228a9f",
   "metadata": {},
   "outputs": [],
   "source": [
    "# Es el salario pero expresado en moneda local por lo que se descarta ya que se utilizará el salario en dolares\n",
    "df.drop(['CompTotal'], axis=1, inplace=True)"
   ]
  },
  {
   "cell_type": "markdown",
   "id": "f4ea6d77",
   "metadata": {},
   "source": [
    "###  ConvertedComp "
   ]
  },
  {
   "cell_type": "code",
   "execution_count": 1600,
   "id": "decab5b6",
   "metadata": {},
   "outputs": [],
   "source": [
    "# Es el salario en dolares, esta columa nos interesa pero tambien vamos a discretizarla"
   ]
  },
  {
   "cell_type": "code",
   "execution_count": 1601,
   "id": "09fa0167",
   "metadata": {},
   "outputs": [],
   "source": [
    "def classify_ConvertedComp(x):\n",
    "    if (x < 10000):\n",
    "        return '-10000'\n",
    "    if (x >= 10000 and x < 20000):\n",
    "        return '10.000-20.000'\n",
    "    if (x >= 20000 and x < 40000):\n",
    "        return '20.000-40.000'\n",
    "    if (x >= 40000 and x < 60000):\n",
    "        return '40.000-60.000'\n",
    "    if (x >= 60000 ):\n",
    "        return '+60000'\n",
    "    return 'Sin especificar'\n",
    "\n",
    "df.ConvertedComp = df.ConvertedComp.apply(lambda x: classify_ConvertedComp(x))"
   ]
  },
  {
   "cell_type": "code",
   "execution_count": 1602,
   "id": "3c98a6c2",
   "metadata": {},
   "outputs": [
    {
     "data": {
      "text/plain": [
       "Sin especificar    17939\n",
       "+60000             15691\n",
       "20.000-40.000       5970\n",
       "40.000-60.000       5755\n",
       "-10000              3821\n",
       "10.000-20.000       3519\n",
       "Name: ConvertedComp, dtype: int64"
      ]
     },
     "execution_count": 1602,
     "metadata": {},
     "output_type": "execute_result"
    }
   ],
   "source": [
    "df.ConvertedComp.value_counts()"
   ]
  },
  {
   "cell_type": "markdown",
   "id": "69a3410e",
   "metadata": {},
   "source": [
    "### Country"
   ]
  },
  {
   "cell_type": "code",
   "execution_count": 1603,
   "id": "8d615735",
   "metadata": {},
   "outputs": [],
   "source": [
    "# Convert it to continent"
   ]
  },
  {
   "cell_type": "code",
   "execution_count": 1604,
   "id": "3fe151a3",
   "metadata": {},
   "outputs": [],
   "source": [
    "def get_continent(x):\n",
    "    try:\n",
    "        country_alpha2 = pc.country_name_to_country_alpha2(x)\n",
    "        country_continent_code = pc.country_alpha2_to_continent_code(country_alpha2)\n",
    "        country_continent_name = pc.convert_continent_code_to_continent_name(country_continent_code)\n",
    "        return country_continent_name\n",
    "    except:\n",
    "        return None"
   ]
  },
  {
   "cell_type": "code",
   "execution_count": 1605,
   "id": "456f42c7",
   "metadata": {},
   "outputs": [],
   "source": [
    "df.Country  = df.Country.apply(lambda x: get_continent(x))  "
   ]
  },
  {
   "cell_type": "code",
   "execution_count": 1606,
   "id": "bbae490d",
   "metadata": {},
   "outputs": [],
   "source": [
    "df.rename(columns = {'Country':'Continent'},inplace=True)"
   ]
  },
  {
   "cell_type": "code",
   "execution_count": 1607,
   "id": "2d031afd",
   "metadata": {},
   "outputs": [
    {
     "data": {
      "text/plain": [
       "Europe           20839\n",
       "North America    13311\n",
       "Asia             12366\n",
       "South America     2601\n",
       "Africa            1713\n",
       "Oceania           1337\n",
       "Name: Continent, dtype: int64"
      ]
     },
     "execution_count": 1607,
     "metadata": {},
     "output_type": "execute_result"
    }
   ],
   "source": [
    "df.Continent.value_counts()"
   ]
  },
  {
   "cell_type": "markdown",
   "id": "3cd43763",
   "metadata": {},
   "source": [
    "### CurrencyDesc /  CurrencySymbol"
   ]
  },
  {
   "cell_type": "code",
   "execution_count": 1608,
   "id": "a92e3667",
   "metadata": {},
   "outputs": [],
   "source": [
    "# Muchos valores, el salario se analizará en dolares y no aremos un analisis por país sino que a nivel continental\n",
    "# por lo que la columna se descarta."
   ]
  },
  {
   "cell_type": "code",
   "execution_count": 1609,
   "id": "87557e04",
   "metadata": {},
   "outputs": [
    {
     "data": {
      "text/plain": [
       "United States dollar    11050\n",
       "European Euro           10000\n",
       "Indian rupee             4930\n",
       "Pound sterling           3127\n",
       "Canadian dollar          1570\n",
       "                        ...  \n",
       "Lesotho loti                1\n",
       "Somali shilling             1\n",
       "Libyan dinar                1\n",
       "Namibian dollar             1\n",
       "Macanese pataca             1\n",
       "Name: CurrencyDesc, Length: 142, dtype: int64"
      ]
     },
     "execution_count": 1609,
     "metadata": {},
     "output_type": "execute_result"
    }
   ],
   "source": [
    "df['CurrencyDesc'].value_counts()"
   ]
  },
  {
   "cell_type": "code",
   "execution_count": 1610,
   "id": "9fcca257",
   "metadata": {},
   "outputs": [],
   "source": [
    "df = df.drop('CurrencyDesc', axis=1)\n",
    "df = df.drop('CurrencySymbol', axis=1)"
   ]
  },
  {
   "cell_type": "markdown",
   "id": "df1cb782",
   "metadata": {},
   "source": [
    "### DevType"
   ]
  },
  {
   "cell_type": "code",
   "execution_count": 1611,
   "id": "18c323e1",
   "metadata": {},
   "outputs": [],
   "source": [
    "def get_developer(x):\n",
    "    if 'Developer' in x:\n",
    "        return True\n",
    "    return False\n",
    "\n",
    "def get_research(x):\n",
    "    if 'Educator' in x or 'Academic researcher' in x or 'Scientist' in x:\n",
    "        return True\n",
    "    return False\n",
    "\n",
    "def get_data_sciece(x):\n",
    "    if 'Data scientist or machine learning specialist' in x or 'Engineer, data' in x:\n",
    "        return True\n",
    "    return False\n",
    "\n",
    "def get_system_admin(x):\n",
    "    if 'Database administrator' in x or 'System administrator' in x:\n",
    "        return True\n",
    "    return False\n",
    "\n",
    "def get_executive(x):\n",
    "    if 'Senior Executive (C-Suite, VP, etc.)' in x:\n",
    "        return True \n",
    "    return False\n",
    "\n",
    "    \n",
    "    "
   ]
  },
  {
   "cell_type": "code",
   "execution_count": 1612,
   "id": "327e208f",
   "metadata": {},
   "outputs": [],
   "source": [
    "# Profesiones\n",
    "devTypes = ['Developer', 'Research', 'Data_Science', 'System_Admin']\n",
    "df.DevType.fillna(\"\", inplace=True)\n",
    "df['Developer']= df.DevType.apply(lambda x: get_developer(x))\n",
    "df['Research']= df.DevType.apply(lambda x: get_research(x))\n",
    "df['Data_Science']=df.DevType.apply(lambda x: get_data_sciece(x))\n",
    "df['System_Admin']=df.DevType.apply(lambda x: get_system_admin(x))"
   ]
  },
  {
   "cell_type": "code",
   "execution_count": 1613,
   "id": "457b92c3",
   "metadata": {},
   "outputs": [],
   "source": [
    "#Reemplazo valores nulos en DevType por \"\"\n",
    "df['DevType']=df['DevType'].fillna(\"\")"
   ]
  },
  {
   "cell_type": "code",
   "execution_count": 1614,
   "id": "fe3b4102",
   "metadata": {},
   "outputs": [],
   "source": [
    "# Elimino Jobfactors\n",
    "df = df.drop('DevType', axis=1)"
   ]
  },
  {
   "cell_type": "code",
   "execution_count": 1615,
   "id": "e149559a",
   "metadata": {},
   "outputs": [
    {
     "name": "stdout",
     "output_type": "stream",
     "text": [
      "True     42477\n",
      "False    10218\n",
      "Name: Developer, dtype: int64\n",
      "False    46976\n",
      "True      5719\n",
      "Name: Research, dtype: int64\n",
      "False    46629\n",
      "True      6066\n",
      "Name: Data_Science, dtype: int64\n",
      "False    44903\n",
      "True      7792\n",
      "Name: System_Admin, dtype: int64\n"
     ]
    }
   ],
   "source": [
    "for column in devTypes:\n",
    "    print(df[column].value_counts())"
   ]
  },
  {
   "cell_type": "markdown",
   "id": "4cd640de",
   "metadata": {},
   "source": [
    "### EdLevel"
   ]
  },
  {
   "cell_type": "code",
   "execution_count": 1616,
   "id": "8ff3726b",
   "metadata": {},
   "outputs": [],
   "source": [
    "# Solo se emprolijan los valores"
   ]
  },
  {
   "cell_type": "code",
   "execution_count": 1617,
   "id": "13039b78",
   "metadata": {},
   "outputs": [
    {
     "data": {
      "text/plain": [
       "Bachelor’s degree (B.A., B.S., B.Eng., etc.)                                          23539\n",
       "Master’s degree (M.A., M.S., M.Eng., MBA, etc.)                                       12194\n",
       "Some college/university study without earning a degree                                 5484\n",
       "Secondary school (e.g. American high school, German Realschule or Gymnasium, etc.)     2161\n",
       "Other doctoral degree (Ph.D., Ed.D., etc.)                                             1563\n",
       "Associate degree (A.A., A.S., etc.)                                                    1529\n",
       "Professional degree (JD, MD, etc.)                                                      692\n",
       "I never completed any formal education                                                  325\n",
       "Primary/elementary school                                                               257\n",
       "Name: EdLevel, dtype: int64"
      ]
     },
     "execution_count": 1617,
     "metadata": {},
     "output_type": "execute_result"
    }
   ],
   "source": [
    "df['EdLevel'].value_counts()"
   ]
  },
  {
   "cell_type": "code",
   "execution_count": 1618,
   "id": "d1d42308",
   "metadata": {},
   "outputs": [],
   "source": [
    "def  reformat_edlevel(x):\n",
    "    if 'Bachelor’s degree' in x or 'Professional degree' in x:\n",
    "        return 'Bachelor degree'\n",
    "    if 'Master’s or doctoral degree' in x or 'Other doctoral degree' in x:\n",
    "        return 'Master/  doctorate'\n",
    "    if 'Associate' in x or 'Some college/university study without earning a degree' in x:\n",
    "        return 'Associate or Incomplete university'\n",
    "    if 'Secondary school' in x:\n",
    "        return 'Secondary'\n",
    "    if 'Primary' in x or 'I never completed any formal education' in x:\n",
    "        return 'Elemental'\n",
    "    return None\n",
    "\n",
    "df['EdLevel']=df['EdLevel'].fillna(\"\")\n",
    "df['EdLevel'] = df['EdLevel'].apply(lambda x: reformat_edlevel(x))"
   ]
  },
  {
   "cell_type": "code",
   "execution_count": 1619,
   "id": "d9ab32f9",
   "metadata": {},
   "outputs": [
    {
     "data": {
      "text/plain": [
       "Bachelor degree                       24231\n",
       "Associate or Incomplete university     7013\n",
       "Secondary                              2161\n",
       "Master/  doctorate                     1563\n",
       "Elemental                               582\n",
       "Name: EdLevel, dtype: int64"
      ]
     },
     "execution_count": 1619,
     "metadata": {},
     "output_type": "execute_result"
    }
   ],
   "source": [
    "df['EdLevel'].value_counts()"
   ]
  },
  {
   "cell_type": "markdown",
   "id": "f44ba6db",
   "metadata": {},
   "source": [
    "###  Employment"
   ]
  },
  {
   "cell_type": "code",
   "execution_count": 1620,
   "id": "629cf5d1",
   "metadata": {},
   "outputs": [
    {
     "data": {
      "text/plain": [
       "Employed full-time                                      43348\n",
       "Independent contractor, freelancer, or self-employed     5001\n",
       "Employed part-time                                       1634\n",
       "Student                                                  1118\n",
       "Not employed, but looking for work                       1108\n",
       "Not employed, and not looking for work                     94\n",
       "Retired                                                    67\n",
       "Name: Employment, dtype: int64"
      ]
     },
     "execution_count": 1620,
     "metadata": {},
     "output_type": "execute_result"
    }
   ],
   "source": [
    "df['Employment'].value_counts()"
   ]
  },
  {
   "cell_type": "code",
   "execution_count": 1621,
   "id": "1bbd59dd",
   "metadata": {},
   "outputs": [
    {
     "data": {
      "text/plain": [
       "Employed full-time    43348\n",
       "Employed part-time     1634\n",
       "Name: Employment, dtype: int64"
      ]
     },
     "execution_count": 1621,
     "metadata": {},
     "output_type": "execute_result"
    }
   ],
   "source": [
    "# Para el analisis solo nos interesan los aquellos que estan empleados full time o part time, \n",
    "# el resto no aporta a la investigación\n",
    "df = df[df.Employment.isin(['Employed full-time', 'Employed part-time'])]\n",
    "df.Employment.value_counts()"
   ]
  },
  {
   "cell_type": "code",
   "execution_count": 1622,
   "id": "bf0f3f4d",
   "metadata": {},
   "outputs": [],
   "source": [
    "# Dado que la cantidad de empleados part time no es significativa, se elimina la columna\n",
    "df = df.drop('Employment', axis=1)"
   ]
  },
  {
   "cell_type": "markdown",
   "id": "ae5ef0ce",
   "metadata": {},
   "source": [
    "### Ethnicity"
   ]
  },
  {
   "cell_type": "code",
   "execution_count": 1624,
   "id": "bf6eef0d",
   "metadata": {},
   "outputs": [],
   "source": [
    "def get_ethnicity(x):\n",
    "    if 'White or of European descent' in x:\n",
    "        return 'European descent'  \n",
    "    if 'Asian' in x or 'Middle Eastern' in x:\n",
    "        return 'Asian'\n",
    "    if 'Hispanic or Latino/a/x' in x:\n",
    "        return 'Latino'\n",
    "    if 'Indigenous' in x or 'Multiracial' or 'Black or of African descent' in x:\n",
    "        return 'Other'\n",
    "    return None"
   ]
  },
  {
   "cell_type": "code",
   "execution_count": 1625,
   "id": "073c85a1",
   "metadata": {},
   "outputs": [
    {
     "data": {
      "text/plain": [
       "European descent    23248\n",
       "Other               13324\n",
       "Asian                6632\n",
       "Latino               1778\n",
       "Name: Ethnicity, dtype: int64"
      ]
     },
     "execution_count": 1625,
     "metadata": {},
     "output_type": "execute_result"
    }
   ],
   "source": [
    "df.Ethnicity = df.Ethnicity.fillna(\"\")\n",
    "df.Ethnicity = df['Ethnicity'].apply(lambda x: get_ethnicity(x))\n",
    "df.Ethnicity.value_counts()    "
   ]
  },
  {
   "cell_type": "markdown",
   "id": "1592f7bc",
   "metadata": {},
   "source": [
    "### Gender"
   ]
  },
  {
   "cell_type": "code",
   "execution_count": 1626,
   "id": "657ee554",
   "metadata": {},
   "outputs": [
    {
     "data": {
      "text/plain": [
       "Man                                                            32570\n",
       "Woman                                                           2739\n",
       "Non-binary, genderqueer, or gender non-conforming                255\n",
       "Man;Non-binary, genderqueer, or gender non-conforming             78\n",
       "Woman;Non-binary, genderqueer, or gender non-conforming           53\n",
       "Woman;Man                                                         35\n",
       "Woman;Man;Non-binary, genderqueer, or gender non-conforming       15\n",
       "Name: Gender, dtype: int64"
      ]
     },
     "execution_count": 1626,
     "metadata": {},
     "output_type": "execute_result"
    }
   ],
   "source": [
    "df['Gender'].value_counts()"
   ]
  },
  {
   "cell_type": "code",
   "execution_count": 1627,
   "id": "8d9fa917",
   "metadata": {},
   "outputs": [],
   "source": [
    "def get_gender(x):\n",
    "    if 'Non-binary' in x or 'Woman;Man' in x:\n",
    "        return 'Non-binary'\n",
    "    if 'Woman' in x:\n",
    "        return 'woman'\n",
    "    if 'Man' in x:\n",
    "        return 'Man'\n",
    "    return None"
   ]
  },
  {
   "cell_type": "code",
   "execution_count": 1628,
   "id": "062b24e7",
   "metadata": {},
   "outputs": [],
   "source": [
    "df.Gender = df.Gender.fillna(\"\")\n",
    "df.Gender = df.Gender.apply(lambda x: get_gender(x))"
   ]
  },
  {
   "cell_type": "code",
   "execution_count": 1629,
   "id": "a010d69f",
   "metadata": {},
   "outputs": [
    {
     "data": {
      "text/plain": [
       "Man           32570\n",
       "woman          2739\n",
       "Non-binary      436\n",
       "Name: Gender, dtype: int64"
      ]
     },
     "execution_count": 1629,
     "metadata": {},
     "output_type": "execute_result"
    }
   ],
   "source": [
    "df.Gender.value_counts()"
   ]
  },
  {
   "cell_type": "code",
   "execution_count": 1630,
   "id": "34e2d2ff",
   "metadata": {},
   "outputs": [],
   "source": [
    "# Dada que la mayoria de las personas son hombres, se descarta la columna\n",
    "df = df.drop('Gender', axis=1)"
   ]
  },
  {
   "cell_type": "markdown",
   "id": "83a51737",
   "metadata": {},
   "source": [
    "### JobFactors"
   ]
  },
  {
   "cell_type": "code",
   "execution_count": 1631,
   "id": "5f8ba881",
   "metadata": {},
   "outputs": [],
   "source": [
    "JobFactors_list = [\n",
    "    'Remote work',\n",
    "    'company culture',\n",
    "    'Financial performance',\n",
    "    'Opportunities',\n",
    "    'Diversity',\n",
    "    'impactful',\n",
    "    'Industry',\n",
    "    'Specific department',\n",
    "    'Flex time',\n",
    "    'technologies',\n",
    "    'Family friendliness',\n",
    "]"
   ]
  },
  {
   "cell_type": "code",
   "execution_count": 1632,
   "id": "fa3f04cf",
   "metadata": {},
   "outputs": [],
   "source": [
    "#Inicializo las columnas en None\n",
    "for column in JobFactors_list:\n",
    "    df[column] = None"
   ]
  },
  {
   "cell_type": "code",
   "execution_count": 1633,
   "id": "63c6229a",
   "metadata": {},
   "outputs": [],
   "source": [
    "#Reemplazo valores nulos en JobFactor por \"\"\n",
    "df['JobFactors']=df['JobFactors'].fillna(\"\")"
   ]
  },
  {
   "cell_type": "code",
   "execution_count": 1634,
   "id": "b01a240e",
   "metadata": {},
   "outputs": [],
   "source": [
    "# Para cada factor me fijo si la persona lo marcó\n",
    "for column in JobFactors_list:\n",
    "    df[column] = df['JobFactors'].apply(lambda x: column in x )"
   ]
  },
  {
   "cell_type": "code",
   "execution_count": 1635,
   "id": "ba36a4ca",
   "metadata": {},
   "outputs": [
    {
     "name": "stdout",
     "output_type": "stream",
     "text": [
      "False    33016\n",
      "True     11966\n",
      "Name: Remote work, dtype: int64\n",
      "False    27762\n",
      "True     17220\n",
      "Name: company culture, dtype: int64\n",
      "False    40534\n",
      "True      4448\n",
      "Name: Financial performance, dtype: int64\n",
      "False    29720\n",
      "True     15262\n",
      "Name: Opportunities, dtype: int64\n",
      "False    42521\n",
      "True      2461\n",
      "Name: Diversity, dtype: int64\n",
      "False    37482\n",
      "True      7500\n",
      "Name: impactful, dtype: int64\n",
      "False    39702\n",
      "True      5280\n",
      "Name: Industry, dtype: int64\n",
      "False    40678\n",
      "True      4304\n",
      "Name: Specific department, dtype: int64\n",
      "False    28448\n",
      "True     16534\n",
      "Name: Flex time, dtype: int64\n",
      "False    25791\n",
      "True     19191\n",
      "Name: technologies, dtype: int64\n",
      "False    40438\n",
      "True      4544\n",
      "Name: Family friendliness, dtype: int64\n"
     ]
    }
   ],
   "source": [
    "# Vemos como quedaron las columnas\n",
    "for column in JobFactors_list:\n",
    "    print(df[column].value_counts())"
   ]
  },
  {
   "cell_type": "code",
   "execution_count": 1636,
   "id": "22e0813a",
   "metadata": {},
   "outputs": [],
   "source": [
    "# Elimino Jobfactors\n",
    "df = df.drop('JobFactors', axis=1)"
   ]
  },
  {
   "cell_type": "markdown",
   "id": "4d84fc66",
   "metadata": {},
   "source": [
    "### JobSat"
   ]
  },
  {
   "cell_type": "code",
   "execution_count": 1637,
   "id": "a06ed5e1",
   "metadata": {},
   "outputs": [
    {
     "data": {
      "text/plain": [
       "Very satisfied                        12953\n",
       "Slightly satisfied                    12664\n",
       "Slightly dissatisfied                  6514\n",
       "Neither satisfied nor dissatisfied     5070\n",
       "Very dissatisfied                      3306\n",
       "Name: JobSat, dtype: int64"
      ]
     },
     "execution_count": 1637,
     "metadata": {},
     "output_type": "execute_result"
    }
   ],
   "source": [
    "df['JobSat'].value_counts()"
   ]
  },
  {
   "cell_type": "code",
   "execution_count": 1638,
   "id": "7fca8c27",
   "metadata": {},
   "outputs": [],
   "source": [
    "# Es la columna que queremos predecir por lo que se eliminan todos los registros que no tienen datos en esta columna\n",
    "df = df.dropna(subset = [\"JobSat\"])"
   ]
  },
  {
   "cell_type": "code",
   "execution_count": 1639,
   "id": "5458eaa2",
   "metadata": {},
   "outputs": [],
   "source": [
    "#Se agrupa satisfecho, ni satisfecho ni insatisfecho y desatisfecho\n",
    "def get_JobSat(x):\n",
    "    if x in ['Very satisfied', 'Slightly satisfied']:\n",
    "        return 'Satisfied'\n",
    "    if x in ['Very dissatisfied', 'Slightly dissatisfied']:\n",
    "        return 'Dissatisfied'\n",
    "    return \"Neither\"\n",
    "\n",
    "df['JobSat'] = df['JobSat'].apply(lambda x: get_JobSat(x))"
   ]
  },
  {
   "cell_type": "code",
   "execution_count": 1640,
   "id": "4e1b9a66",
   "metadata": {
    "scrolled": true
   },
   "outputs": [
    {
     "data": {
      "text/plain": [
       "Satisfied       25617\n",
       "Dissatisfied     9820\n",
       "Neither          5070\n",
       "Name: JobSat, dtype: int64"
      ]
     },
     "execution_count": 1640,
     "metadata": {},
     "output_type": "execute_result"
    }
   ],
   "source": [
    "df['JobSat'].value_counts()"
   ]
  },
  {
   "cell_type": "markdown",
   "id": "0c8c6cf2",
   "metadata": {},
   "source": [
    "### JobSeek"
   ]
  },
  {
   "cell_type": "code",
   "execution_count": 1641,
   "id": "fd26c5a5",
   "metadata": {},
   "outputs": [
    {
     "data": {
      "text/plain": [
       "I’m not actively looking, but I am open to new opportunities    22754\n",
       "I am not interested in new job opportunities                    10539\n",
       "I am actively looking for a job                                  5009\n",
       "Name: JobSeek, dtype: int64"
      ]
     },
     "execution_count": 1641,
     "metadata": {},
     "output_type": "execute_result"
    }
   ],
   "source": [
    "df.JobSeek.value_counts()"
   ]
  },
  {
   "cell_type": "code",
   "execution_count": 1642,
   "id": "4073f255",
   "metadata": {},
   "outputs": [],
   "source": [
    "#Reemplazo valores nulos en JobSeek por \"\"\n",
    "df['JobSeek'] = df['JobSeek'].fillna(\"\")"
   ]
  },
  {
   "cell_type": "code",
   "execution_count": 1643,
   "id": "b5793268",
   "metadata": {},
   "outputs": [],
   "source": [
    "def get_jobseek(x):\n",
    "    if 'I’m not actively looking, but I am open to new opportunities' in x:\n",
    "        return 'Open to opportunities'\n",
    "    if 'I am not interested in new job opportunities' in x:\n",
    "        return 'Not interested'\n",
    "    if 'I am actively looking for a job' in x:\n",
    "        return 'Looking for'\n",
    "    return None"
   ]
  },
  {
   "cell_type": "code",
   "execution_count": 1644,
   "id": "90d3a091",
   "metadata": {},
   "outputs": [],
   "source": [
    "df.JobSeek = df.JobSeek.apply(lambda x: get_jobseek(x))"
   ]
  },
  {
   "cell_type": "code",
   "execution_count": 1645,
   "id": "fc957163",
   "metadata": {},
   "outputs": [
    {
     "data": {
      "text/plain": [
       "Open to opportunities    22754\n",
       "Not interested           10539\n",
       "Looking for               5009\n",
       "Name: JobSeek, dtype: int64"
      ]
     },
     "execution_count": 1645,
     "metadata": {},
     "output_type": "execute_result"
    }
   ],
   "source": [
    "df.JobSeek.value_counts()"
   ]
  },
  {
   "cell_type": "markdown",
   "id": "f703eb37",
   "metadata": {},
   "source": [
    "### NEWDevOps NEWDevOpsImpt "
   ]
  },
  {
   "cell_type": "code",
   "execution_count": 1646,
   "id": "d67a40f8",
   "metadata": {},
   "outputs": [
    {
     "data": {
      "text/plain": [
       "Yes         17502\n",
       "No          16193\n",
       "Not sure     4851\n",
       "Name: NEWDevOps, dtype: int64"
      ]
     },
     "execution_count": 1646,
     "metadata": {},
     "output_type": "execute_result"
    }
   ],
   "source": [
    "# Dejarlo en si le parece importante y tiene, le parece importante y no tiene, Irrelevante\n",
    "df['NEWDevOps'].value_counts()"
   ]
  },
  {
   "cell_type": "code",
   "execution_count": 1647,
   "id": "1430ab92",
   "metadata": {
    "scrolled": true
   },
   "outputs": [
    {
     "data": {
      "text/plain": [
       "Extremely important     18463\n",
       "Somewhat important      11618\n",
       "Neutral                  6366\n",
       "Not very important        722\n",
       "Not at all important      493\n",
       "Name: NEWDevOpsImpt, dtype: int64"
      ]
     },
     "execution_count": 1647,
     "metadata": {},
     "output_type": "execute_result"
    }
   ],
   "source": [
    "df['NEWDevOpsImpt'].value_counts()"
   ]
  },
  {
   "cell_type": "code",
   "execution_count": 1648,
   "id": "6693b12c",
   "metadata": {},
   "outputs": [],
   "source": [
    "def devops_important(row):\n",
    "    important_value = row['NEWDevOpsImpt']\n",
    "    devops_value = row['NEWDevOps']\n",
    "    if isinstance(devops_value, str) and isinstance(important_value, str):\n",
    "        is_important = ('Extremely' in important_value) or ('Somewhat' in important_value)\n",
    "        has_devops = devops_value == 'Yes'\n",
    "        if is_important and has_devops:\n",
    "            return 'YES YES'\n",
    "        if is_important and (not has_devops):\n",
    "            return 'YES NO'\n",
    "        return 'I'\n",
    "    return None\n",
    "\n",
    "df['DevOpsImp'] = df.apply(devops_important, axis = 1)\n",
    "df.drop('NEWDevOpsImpt', axis=1, inplace=True)\n",
    "df.drop('NEWDevOps', axis=1, inplace=True)"
   ]
  },
  {
   "cell_type": "code",
   "execution_count": 1649,
   "id": "f95f82e5",
   "metadata": {},
   "outputs": [
    {
     "data": {
      "text/plain": [
       "YES YES    15744\n",
       "YES NO     14258\n",
       "I           7558\n",
       "Name: DevOpsImp, dtype: int64"
      ]
     },
     "execution_count": 1649,
     "metadata": {},
     "output_type": "execute_result"
    }
   ],
   "source": [
    "df['DevOpsImp'].value_counts()"
   ]
  },
  {
   "cell_type": "markdown",
   "id": "4b4d4a26",
   "metadata": {},
   "source": [
    "### NEWEdImpt"
   ]
  },
  {
   "cell_type": "code",
   "execution_count": 1650,
   "id": "879ec5b6",
   "metadata": {},
   "outputs": [],
   "source": [
    "# Cuan importante le parece la educación"
   ]
  },
  {
   "cell_type": "code",
   "execution_count": 1651,
   "id": "75477841",
   "metadata": {},
   "outputs": [
    {
     "data": {
      "text/plain": [
       "Fairly important                      10670\n",
       "Very important                         9909\n",
       "Somewhat important                     9394\n",
       "Not at all important/not necessary     5885\n",
       "Critically important                   3878\n",
       "Name: NEWEdImpt, dtype: int64"
      ]
     },
     "execution_count": 1651,
     "metadata": {},
     "output_type": "execute_result"
    }
   ],
   "source": [
    "df['NEWEdImpt'].value_counts()"
   ]
  },
  {
   "cell_type": "code",
   "execution_count": 1652,
   "id": "f9380291",
   "metadata": {},
   "outputs": [],
   "source": [
    "# Esto es opinion de la persona, no vinculada al trabajo por lo que se descarta\n",
    "df = df.drop('NEWEdImpt', axis=1)"
   ]
  },
  {
   "cell_type": "markdown",
   "id": "c7dd1740",
   "metadata": {},
   "source": [
    "### NEWJobHunt"
   ]
  },
  {
   "cell_type": "code",
   "execution_count": 1653,
   "id": "7d84fab8",
   "metadata": {},
   "outputs": [],
   "source": [
    "# Que conduce a la persona a buscar un nuevo trabajo, se crear una columna booleana por cada categoría."
   ]
  },
  {
   "cell_type": "code",
   "execution_count": 1654,
   "id": "5c4fa20f",
   "metadata": {},
   "outputs": [],
   "source": [
    "# Just because - Without cause\n",
    "# Having a bad day (or week or month) at work -trouble\n",
    "# Wanting to share accomplishments with a wider network - opportunities\n",
    "# Curious about other opportunities - opportunities\n",
    "# Better compensation - compensation\n",
    "# Trouble with my teammates - trouble\n",
    "# Trouble with my direct manager -trouble\n",
    "# Trouble with leadership at my company -trouble\n",
    "# Better work/life balance - opportunities\n",
    "# Wanting to work with new technologies - opportunities\n",
    "# Growth or leadership opportunities - opportunities\n",
    "# Looking to relocate - opportunities\n",
    "\n",
    "df['JobHuntWithoutCause'] = np.where(df['NEWJobHunt'].str.contains('Just because'), True, False)\n",
    "df['JobHuntTrouble'] = np.where(\n",
    "    df['NEWJobHunt'].str.contains('Having a bad day') | df['NEWJobHunt'].str.contains('Trouble'),\n",
    "    True, False)    \n",
    "df['JobHuntOpportunities'] = np.where(\n",
    "    df['NEWJobHunt'].str.contains('Wanting to share accomplishments') | \n",
    "    df['NEWJobHunt'].str.contains('opportunities') |\n",
    "    df['NEWJobHunt'].str.contains('Wanting to work with new technologies') |\n",
    "    df['NEWJobHunt'].str.contains('Better work/life balance'), True, False)\n",
    "df['JobHuntCompensation'] = np.where(df['NEWJobHunt'].str.contains('compensation'), True, False) \n",
    "\n",
    "df.drop('NEWJobHunt', axis=1, inplace=True)"
   ]
  },
  {
   "cell_type": "code",
   "execution_count": 1655,
   "id": "2097b347",
   "metadata": {
    "scrolled": true
   },
   "outputs": [
    {
     "name": "stdout",
     "output_type": "stream",
     "text": [
      "False    32093\n",
      "True      8414\n",
      "Name: JobHuntWithoutCause, dtype: int64\n",
      "False    24476\n",
      "True     16031\n",
      "Name: JobHuntTrouble, dtype: int64\n",
      "True     33891\n",
      "False     6616\n",
      "Name: JobHuntOpportunities, dtype: int64\n",
      "True     30102\n",
      "False    10405\n",
      "Name: JobHuntCompensation, dtype: int64\n"
     ]
    }
   ],
   "source": [
    "JOB_HUNT_COLS = ['JobHuntWithoutCause', 'JobHuntTrouble', 'JobHuntOpportunities', 'JobHuntCompensation']\n",
    "for new_cols in JOB_HUNT_COLS:\n",
    "    print(df[new_cols].value_counts())"
   ]
  },
  {
   "cell_type": "markdown",
   "id": "27341cad",
   "metadata": {},
   "source": [
    "### NEWJobHuntResearch"
   ]
  },
  {
   "cell_type": "code",
   "execution_count": 1656,
   "id": "fc588556",
   "metadata": {},
   "outputs": [],
   "source": [
    "# Si no marca nada no sabemos si es nulo o no marcó porque no investiga sobre la companía por lo que se descarta la columna\n",
    "\n",
    "df.drop('NEWJobHuntResearch', axis=1, inplace=True)"
   ]
  },
  {
   "cell_type": "markdown",
   "id": "661905cc",
   "metadata": {},
   "source": [
    "### NEWLearn "
   ]
  },
  {
   "cell_type": "code",
   "execution_count": 1657,
   "id": "c5bca7fb",
   "metadata": {},
   "outputs": [
    {
     "data": {
      "text/plain": [
       "Once a year             14511\n",
       "Every few months        12532\n",
       "Once every few years     9615\n",
       "Once a decade             784\n",
       "Name: NEWLearn, dtype: int64"
      ]
     },
     "execution_count": 1657,
     "metadata": {},
     "output_type": "execute_result"
    }
   ],
   "source": [
    "# Frecuencia con que la persona aprende nuevos lenguajes, puede relacionarse directamente con las columnas  \n",
    "#LanguageDesireNextYear \n",
    "#LanguageWorkedWith\n",
    "# NEWCollabToolsDesireNextYear \n",
    "# NEWCollabToolsWorkedWith\n",
    "df['NEWLearn'].value_counts()"
   ]
  },
  {
   "cell_type": "markdown",
   "id": "a1da449e",
   "metadata": {},
   "source": [
    "### NEWOffTopic"
   ]
  },
  {
   "cell_type": "code",
   "execution_count": 1658,
   "id": "3d4e7a1e",
   "metadata": {},
   "outputs": [],
   "source": [
    "# Do you think Stack Overflow should relax restrictions on what is considered “off-topic”? -> no va.\n",
    "df.drop('NEWOffTopic', axis=1, inplace=True)"
   ]
  },
  {
   "cell_type": "markdown",
   "id": "11f15114",
   "metadata": {},
   "source": [
    "### NEWOnboardGood"
   ]
  },
  {
   "cell_type": "code",
   "execution_count": 1659,
   "id": "2e5407c1",
   "metadata": {},
   "outputs": [],
   "source": [
    "# Como considera la persona que fue el proceso de onboarding de la empresa"
   ]
  },
  {
   "cell_type": "code",
   "execution_count": 1660,
   "id": "39326b72",
   "metadata": {},
   "outputs": [],
   "source": [
    "# preferible no tener tantos nulos\n",
    "#df[df['NEWOnboardGood'] == \"Onboarding? What onboarding?\"] = None"
   ]
  },
  {
   "cell_type": "code",
   "execution_count": 1661,
   "id": "3b467676",
   "metadata": {},
   "outputs": [
    {
     "data": {
      "text/plain": [
       "Yes                             19314\n",
       "No                              11722\n",
       "Onboarding? What onboarding?     7438\n",
       "Name: NEWOnboardGood, dtype: int64"
      ]
     },
     "execution_count": 1661,
     "metadata": {},
     "output_type": "execute_result"
    }
   ],
   "source": [
    "df['NEWOnboardGood'].value_counts()"
   ]
  },
  {
   "cell_type": "markdown",
   "id": "66bebd9b",
   "metadata": {},
   "source": [
    "### NEWOtherComms"
   ]
  },
  {
   "cell_type": "code",
   "execution_count": 1662,
   "id": "a2e4d4df",
   "metadata": {},
   "outputs": [],
   "source": [
    "# Pregunta si la persona es miembro de comunidades online de desarrollo, esto no aporta nada sobre el trabajo \n",
    "# de la persona en la empresa por lo que se descarta la columna"
   ]
  },
  {
   "cell_type": "code",
   "execution_count": 1663,
   "id": "b4155b51",
   "metadata": {},
   "outputs": [],
   "source": [
    "df.drop('NEWOtherComms', axis=1, inplace=True)"
   ]
  },
  {
   "cell_type": "markdown",
   "id": "1bc35f97",
   "metadata": {},
   "source": [
    "### NEWOvertime"
   ]
  },
  {
   "cell_type": "code",
   "execution_count": 1664,
   "id": "32e33cf2",
   "metadata": {
    "scrolled": true
   },
   "outputs": [
    {
     "data": {
      "text/plain": [
       "Sometimes: 1-2 days per month but less than weekly          10450\n",
       "Often: 1-2 days per week or more                             9418\n",
       "Occasionally: 1-2 days per quarter but less than monthly     8713\n",
       "Rarely: 1-2 days per year or less                            6007\n",
       "Never                                                        4196\n",
       "Name: NEWOvertime, dtype: int64"
      ]
     },
     "execution_count": 1664,
     "metadata": {},
     "output_type": "execute_result"
    }
   ],
   "source": [
    "df['NEWOvertime'].value_counts()"
   ]
  },
  {
   "cell_type": "code",
   "execution_count": 1665,
   "id": "b26af23c",
   "metadata": {},
   "outputs": [],
   "source": [
    "def clasificar_overtime(row):\n",
    "    overtime = row['NEWOvertime']\n",
    "    if isinstance(overtime, str):\n",
    "        if \"1-2 days per month but less than weekly\" in overtime:\n",
    "            return \"Sometimes\"\n",
    "        elif \"1-2 days per week or more\" in overtime:\n",
    "            return \"Often\"\n",
    "        elif \"1-2 days per quarter but less than monthly\" in overtime:\n",
    "            return \"Sometimes\"\n",
    "        elif \"1-2 days per year or less\" in overtime:\n",
    "            return \"Never or Rarely\"\n",
    "        return \"Never or Rarely\"\n",
    "\n",
    "df['NEWOvertime'] = df.apply(clasificar_overtime, axis = 1)"
   ]
  },
  {
   "cell_type": "code",
   "execution_count": 1666,
   "id": "b1b777b6",
   "metadata": {},
   "outputs": [
    {
     "data": {
      "text/plain": [
       "Sometimes          19163\n",
       "Never or Rarely    10203\n",
       "Often               9418\n",
       "Name: NEWOvertime, dtype: int64"
      ]
     },
     "execution_count": 1666,
     "metadata": {},
     "output_type": "execute_result"
    }
   ],
   "source": [
    "df['NEWOvertime'].value_counts()"
   ]
  },
  {
   "cell_type": "markdown",
   "id": "7316a62f",
   "metadata": {},
   "source": [
    "### NEWPurchaseResearch"
   ]
  },
  {
   "cell_type": "code",
   "execution_count": 1667,
   "id": "8d2d353e",
   "metadata": {},
   "outputs": [],
   "source": [
    "# When buying a new tool or software, how do you discover and research available solutions? Select all that apply.\n",
    "# Nada que ver esto con el laburo.\n",
    "df.drop('NEWPurchaseResearch', axis=1, inplace=True)"
   ]
  },
  {
   "cell_type": "markdown",
   "id": "9bb5cc0f",
   "metadata": {},
   "source": [
    "### NEWPurpleLink"
   ]
  },
  {
   "cell_type": "code",
   "execution_count": 1668,
   "id": "4fdf846f",
   "metadata": {},
   "outputs": [],
   "source": [
    "# You search for a coding solution online and the first result link is purple because you already visited it. How do you feel?\n",
    "# No hay info del trabajo.\n",
    "df.drop('NEWPurpleLink', axis=1, inplace=True)"
   ]
  },
  {
   "cell_type": "markdown",
   "id": "0072ce30",
   "metadata": {},
   "source": [
    "### NEWStuck"
   ]
  },
  {
   "cell_type": "code",
   "execution_count": 1669,
   "id": "d054c199",
   "metadata": {},
   "outputs": [],
   "source": [
    "# What do you do when you get stuck on a problem? Select all that apply.\n",
    "df.drop('NEWStuck', axis=1, inplace=True)"
   ]
  },
  {
   "cell_type": "markdown",
   "id": "d351823c",
   "metadata": {},
   "source": [
    "### OpSys "
   ]
  },
  {
   "cell_type": "code",
   "execution_count": 1670,
   "id": "83c401ee",
   "metadata": {},
   "outputs": [],
   "source": [
    "df['OpSys']= df['OpSys'].replace('BSD','Linux-based')"
   ]
  },
  {
   "cell_type": "code",
   "execution_count": 1671,
   "id": "9af14707",
   "metadata": {
    "scrolled": true
   },
   "outputs": [
    {
     "data": {
      "text/plain": [
       "Windows        17405\n",
       "MacOS          10652\n",
       "Linux-based     9860\n",
       "Name: OpSys, dtype: int64"
      ]
     },
     "execution_count": 1671,
     "metadata": {},
     "output_type": "execute_result"
    }
   ],
   "source": [
    "df['OpSys'].value_counts()"
   ]
  },
  {
   "cell_type": "markdown",
   "id": "223414be",
   "metadata": {},
   "source": [
    "### OrgSize\n"
   ]
  },
  {
   "cell_type": "code",
   "execution_count": 1672,
   "id": "48fd19af",
   "metadata": {
    "scrolled": false
   },
   "outputs": [
    {
     "data": {
      "text/plain": [
       "20 to 99 employees                                    9102\n",
       "100 to 499 employees                                  8011\n",
       "10,000 or more employees                              5971\n",
       "1,000 to 4,999 employees                              4724\n",
       "10 to 19 employees                                    3785\n",
       "2 to 9 employees                                      3371\n",
       "500 to 999 employees                                  2786\n",
       "5,000 to 9,999 employees                              1732\n",
       "Just me - I am a freelancer, sole proprietor, etc.     173\n",
       "Name: OrgSize, dtype: int64"
      ]
     },
     "execution_count": 1672,
     "metadata": {},
     "output_type": "execute_result"
    }
   ],
   "source": [
    "df['OrgSize'].value_counts()"
   ]
  },
  {
   "cell_type": "code",
   "execution_count": 1673,
   "id": "2f6af7aa",
   "metadata": {},
   "outputs": [],
   "source": [
    "def parse_org_size(row):\n",
    "    org_size = row['OrgSize']\n",
    "    if isinstance(org_size, str):\n",
    "        if not 'freelancer' in org_size:\n",
    "            return org_size\n",
    "\n",
    "df['OrgSize'] = df.apply(parse_org_size, axis = 1)"
   ]
  },
  {
   "cell_type": "code",
   "execution_count": 1674,
   "id": "00198214",
   "metadata": {},
   "outputs": [],
   "source": [
    "#Elimino freelancers\n",
    "df = df.dropna(subset=['OrgSize'])"
   ]
  },
  {
   "cell_type": "code",
   "execution_count": 1675,
   "id": "61d6d988",
   "metadata": {
    "scrolled": true
   },
   "outputs": [
    {
     "data": {
      "text/plain": [
       "20 to 99 employees          9102\n",
       "100 to 499 employees        8011\n",
       "10,000 or more employees    5971\n",
       "1,000 to 4,999 employees    4724\n",
       "10 to 19 employees          3785\n",
       "2 to 9 employees            3371\n",
       "500 to 999 employees        2786\n",
       "5,000 to 9,999 employees    1732\n",
       "Name: OrgSize, dtype: int64"
      ]
     },
     "execution_count": 1675,
     "metadata": {},
     "output_type": "execute_result"
    }
   ],
   "source": [
    "df['OrgSize'].value_counts()"
   ]
  },
  {
   "cell_type": "code",
   "execution_count": 1676,
   "id": "8aa090d1",
   "metadata": {},
   "outputs": [],
   "source": [
    "def reemplazar_coma(x):\n",
    "    try:\n",
    "        return x.replace(\",\", \"\")\n",
    "    except:\n",
    "        return None"
   ]
  },
  {
   "cell_type": "code",
   "execution_count": 1677,
   "id": "93542f67",
   "metadata": {},
   "outputs": [],
   "source": [
    "df['OrgSize']=df['OrgSize'].apply(lambda x: reemplazar_coma(x))"
   ]
  },
  {
   "cell_type": "code",
   "execution_count": 1678,
   "id": "2873881a",
   "metadata": {},
   "outputs": [
    {
     "data": {
      "text/plain": [
       "20 to 99 employees         9102\n",
       "100 to 499 employees       8011\n",
       "10000 or more employees    5971\n",
       "1000 to 4999 employees     4724\n",
       "10 to 19 employees         3785\n",
       "2 to 9 employees           3371\n",
       "500 to 999 employees       2786\n",
       "5000 to 9999 employees     1732\n",
       "Name: OrgSize, dtype: int64"
      ]
     },
     "execution_count": 1678,
     "metadata": {},
     "output_type": "execute_result"
    }
   ],
   "source": [
    "df['OrgSize'].value_counts()"
   ]
  },
  {
   "cell_type": "markdown",
   "id": "f4f5bd88",
   "metadata": {},
   "source": [
    "### PurchaseWhat"
   ]
  },
  {
   "cell_type": "code",
   "execution_count": 1679,
   "id": "41d9a253",
   "metadata": {},
   "outputs": [],
   "source": [
    "# What level of influence do you, personally, have over new technology purchases at your organization?"
   ]
  },
  {
   "cell_type": "code",
   "execution_count": 1680,
   "id": "992e0069",
   "metadata": {},
   "outputs": [
    {
     "data": {
      "text/plain": [
       "I have little or no influence       15941\n",
       "I have some influence               14454\n",
       "I have a great deal of influence     6510\n",
       "Name: PurchaseWhat, dtype: int64"
      ]
     },
     "execution_count": 1680,
     "metadata": {},
     "output_type": "execute_result"
    }
   ],
   "source": [
    "df['PurchaseWhat'].value_counts()"
   ]
  },
  {
   "cell_type": "code",
   "execution_count": 1681,
   "id": "cd0282ef",
   "metadata": {},
   "outputs": [],
   "source": [
    "df['PurchaseWhat'] = df['PurchaseWhat'].fillna(\"\")"
   ]
  },
  {
   "cell_type": "code",
   "execution_count": 1682,
   "id": "edc6811f",
   "metadata": {},
   "outputs": [],
   "source": [
    "def get_incluence(x):\n",
    "    if 'I have little or no influence' in x:\n",
    "        return 'No Influcence'\n",
    "    if 'I have some influence' in x:\n",
    "        return 'some influence'\n",
    "    if 'I have a great deal of influence' in x:\n",
    "        return 'has influence'\n",
    "    return None"
   ]
  },
  {
   "cell_type": "code",
   "execution_count": 1683,
   "id": "9993d0c1",
   "metadata": {},
   "outputs": [],
   "source": [
    "df.PurchaseWhat = df.PurchaseWhat.apply(lambda x: get_incluence(x))"
   ]
  },
  {
   "cell_type": "markdown",
   "id": "808830ea",
   "metadata": {},
   "source": [
    "### Sexuality"
   ]
  },
  {
   "cell_type": "code",
   "execution_count": 1684,
   "id": "d45f0789",
   "metadata": {},
   "outputs": [
    {
     "data": {
      "text/plain": [
       "<AxesSubplot:>"
      ]
     },
     "execution_count": 1684,
     "metadata": {},
     "output_type": "execute_result"
    },
    {
     "data": {
      "image/png": "[encoded data removed]",
      "text/plain": [
       "<Figure size 432x288 with 1 Axes>"
      ]
     },
     "metadata": {
      "needs_background": "light"
     },
     "output_type": "display_data"
    }
   ],
   "source": [
    "df['Sexuality'].hist()"
   ]
  },
  {
   "cell_type": "code",
   "execution_count": 1685,
   "id": "c6374f2f",
   "metadata": {},
   "outputs": [
    {
     "data": {
      "text/plain": [
       "Straight / Heterosexual                                  28501\n",
       "Bisexual                                                  1206\n",
       "Gay or Lesbian                                             669\n",
       "Bisexual;Straight / Heterosexual                           173\n",
       "Queer                                                      161\n",
       "Bisexual;Queer                                             137\n",
       "Gay or Lesbian;Queer                                        59\n",
       "Straight / Heterosexual;Queer                               43\n",
       "Bisexual;Gay or Lesbian;Straight / Heterosexual;Queer       20\n",
       "Bisexual;Gay or Lesbian                                     20\n",
       "Bisexual;Gay or Lesbian;Queer                               15\n",
       "Bisexual;Straight / Heterosexual;Queer                       6\n",
       "Bisexual;Gay or Lesbian;Straight / Heterosexual              5\n",
       "Gay or Lesbian;Straight / Heterosexual                       5\n",
       "Name: Sexuality, dtype: int64"
      ]
     },
     "execution_count": 1685,
     "metadata": {},
     "output_type": "execute_result"
    }
   ],
   "source": [
    "df['Sexuality'].value_counts()"
   ]
  },
  {
   "cell_type": "code",
   "execution_count": 1686,
   "id": "81523a56",
   "metadata": {},
   "outputs": [],
   "source": [
    "# Esta columna no aporta nada, hay gran mayoria de strights.\n",
    "df.drop('Sexuality', axis=1, inplace=True)"
   ]
  },
  {
   "cell_type": "markdown",
   "id": "4e8077ed",
   "metadata": {},
   "source": [
    "### SOAccount and SOPartFreq and SOComm and SOVisitFreq and NEWSOSites and SuaveryEase and WelcomeChange"
   ]
  },
  {
   "cell_type": "code",
   "execution_count": 1687,
   "id": "be73f635",
   "metadata": {},
   "outputs": [],
   "source": [
    "# Preguntas relacionadas al Sitio de StackOverflow.\n",
    "df.drop('SOAccount', axis=1, inplace=True) # Si tiene cuenta en SO.\n",
    "df.drop('SOPartFreq', axis=1, inplace=True) # Frecuencia de participacion en SO.\n",
    "df.drop('SOComm', axis=1, inplace=True) # Si es parte de una comunidad de SO.\n",
    "df.drop('SOVisitFreq', axis=1, inplace=True) # Frecuencia de visita a SO.\n",
    "df.drop('NEWSOSites', axis=1, inplace=True) # Cuantos sitios nuevos visitas de SO.\n",
    "df.drop('WelcomeChange', axis = 1, inplace=True) # Compared to last year, how welcome do you feel on Stack Overflow?\n",
    "# Relacionado con la encuesta\n",
    "df.drop('SurveyEase', axis=1, inplace=True) # Cuan facil te resulto la encuesta.\n",
    "df.drop('SurveyLength', axis=1, inplace=True) # Cuan larga te resulto la encuesta."
   ]
  },
  {
   "cell_type": "markdown",
   "id": "b3cf92fb",
   "metadata": {},
   "source": [
    "### Trans"
   ]
  },
  {
   "cell_type": "code",
   "execution_count": 1688,
   "id": "88593f9f",
   "metadata": {},
   "outputs": [
    {
     "data": {
      "text/plain": [
       "<AxesSubplot:>"
      ]
     },
     "execution_count": 1688,
     "metadata": {},
     "output_type": "execute_result"
    },
    {
     "data": {
      "image/png": "[encoded data removed]",
      "text/plain": [
       "<Figure size 432x288 with 1 Axes>"
      ]
     },
     "metadata": {
      "needs_background": "light"
     },
     "output_type": "display_data"
    }
   ],
   "source": [
    "df['Trans'].hist()"
   ]
  },
  {
   "cell_type": "code",
   "execution_count": 1689,
   "id": "6d2c5f95",
   "metadata": {},
   "outputs": [],
   "source": [
    "df.drop('Trans', axis=1, inplace=True)"
   ]
  },
  {
   "cell_type": "markdown",
   "id": "1ec43852",
   "metadata": {},
   "source": [
    "### UndergradMajor"
   ]
  },
  {
   "cell_type": "code",
   "execution_count": 1690,
   "id": "8084c841",
   "metadata": {},
   "outputs": [],
   "source": [
    "# What was your primary field of study?"
   ]
  },
  {
   "cell_type": "code",
   "execution_count": 1691,
   "id": "fc286ff7",
   "metadata": {
    "scrolled": true
   },
   "outputs": [
    {
     "data": {
      "text/plain": [
       "Computer science, computer engineering, or software engineering                   23304\n",
       "Another engineering discipline (such as civil, electrical, mechanical, etc.)       3426\n",
       "Information systems, information technology, or system administration              2918\n",
       "A natural science (such as biology, chemistry, physics, etc.)                      1571\n",
       "Mathematics or statistics                                                          1306\n",
       "Web development or web design                                                      1106\n",
       "A business discipline (such as accounting, finance, marketing, etc.)                891\n",
       "A humanities discipline (such as literature, history, philosophy, etc.)             742\n",
       "A social science (such as anthropology, psychology, political science, etc.)        649\n",
       "Fine arts or performing arts (such as graphic design, music, studio art, etc.)      517\n",
       "I never declared a major                                                            243\n",
       "A health science (such as nursing, pharmacy, radiology, etc.)                       131\n",
       "Name: UndergradMajor, dtype: int64"
      ]
     },
     "execution_count": 1691,
     "metadata": {},
     "output_type": "execute_result"
    }
   ],
   "source": [
    "df['UndergradMajor'].value_counts()\n",
    "# Computer science, computer engineering, or software engineering                   19741 Technology\n",
    "# Another engineering discipline (such as civil, electrical, mechanical, etc.)       2826 Another engineering\n",
    "# Information systems, information technology, or system administration              2432 Technology\n",
    "# A natural science (such as biology, chemistry, physics, etc.)                      1275 Natural sience\n",
    "# Mathematics or statistics                                                          1075 Mathematics\n",
    "# Web development or web design                                                       936 Technology\n",
    "# A business discipline (such as accounting, finance, marketing, etc.)                732 Business\n",
    "# A humanities discipline (such as literature, history, philosophy, etc.)             621 Humanities\n",
    "# A social science (such as anthropology, psychology, political science, etc.)        509 Social\n",
    "# Fine arts or performing arts (such as graphic design, music, studio art, etc.)      432 Art\n",
    "# I never declared a major                                                            190 eq\n",
    "# A health science (such as nursing, pharmacy, radiology, etc.)                       112 Health\n"
   ]
  },
  {
   "cell_type": "code",
   "execution_count": 1692,
   "id": "019152e7",
   "metadata": {},
   "outputs": [],
   "source": [
    "def undergard_major(row):\n",
    "    undergard_major = row['UndergradMajor']\n",
    "    if isinstance(undergard_major, str):\n",
    "        if \"health\" in undergard_major:\n",
    "            return \"Health\"\n",
    "        elif \"software\" in undergard_major or 'information' in undergard_major or 'development' in undergard_major:\n",
    "            return \"Technology\"\n",
    "        elif \"Another engineering discipline\" in undergard_major:\n",
    "            return \"Another engineering\"\n",
    "        elif \"natural science\" in undergard_major:\n",
    "            return \"Natural sience\"\n",
    "        elif \"arts\" in undergard_major:\n",
    "            return \"Art\"\n",
    "        elif \"social\" in undergard_major:\n",
    "            return \"Social\"\n",
    "        elif \"humanities\" in undergard_major:\n",
    "            return \"Humanities\"\n",
    "        elif \"business\" in undergard_major:\n",
    "            return \"Business\"\n",
    "        elif 'Mathematics' in undergard_major:\n",
    "            return 'Mathematics'\n",
    "        return \"I never declared a major\"\n",
    "    return \"\"\n",
    "\n",
    "df['UndergradMajor'] = df.apply(undergard_major, axis = 1)"
   ]
  },
  {
   "cell_type": "code",
   "execution_count": 1693,
   "id": "896ecc77",
   "metadata": {},
   "outputs": [
    {
     "data": {
      "text/plain": [
       "Technology                  27328\n",
       "Another engineering          3426\n",
       "                             2678\n",
       "Natural sience               1571\n",
       "Mathematics                  1306\n",
       "Business                      891\n",
       "Humanities                    742\n",
       "Social                        649\n",
       "Art                           517\n",
       "I never declared a major      243\n",
       "Health                        131\n",
       "Name: UndergradMajor, dtype: int64"
      ]
     },
     "execution_count": 1693,
     "metadata": {},
     "output_type": "execute_result"
    }
   ],
   "source": [
    "df['UndergradMajor'].value_counts()"
   ]
  },
  {
   "cell_type": "code",
   "execution_count": 1694,
   "id": "23c68929",
   "metadata": {},
   "outputs": [],
   "source": [
    "df['UndergradMajorTech'] = df.UndergradMajor.apply(lambda x: True if 'Technology' in x else False)"
   ]
  },
  {
   "cell_type": "code",
   "execution_count": 1695,
   "id": "4e241053",
   "metadata": {},
   "outputs": [
    {
     "data": {
      "text/plain": [
       "True     27328\n",
       "False    12154\n",
       "Name: UndergradMajorTech, dtype: int64"
      ]
     },
     "execution_count": 1695,
     "metadata": {},
     "output_type": "execute_result"
    }
   ],
   "source": [
    "df['UndergradMajorTech'].value_counts()"
   ]
  },
  {
   "cell_type": "code",
   "execution_count": 1696,
   "id": "53693559",
   "metadata": {},
   "outputs": [],
   "source": [
    "df.drop(['UndergradMajor'], axis=1, inplace=True)"
   ]
  },
  {
   "cell_type": "markdown",
   "id": "db0b755c",
   "metadata": {},
   "source": [
    "### WorkWeekHrs"
   ]
  },
  {
   "cell_type": "code",
   "execution_count": 1697,
   "id": "86d76ee1",
   "metadata": {},
   "outputs": [],
   "source": [
    "def get_work_week_hrs(x):\n",
    "    try:\n",
    "        x = float(x)\n",
    "        if x <= 40:\n",
    "            return 'Menos 40'\n",
    "        else:\n",
    "           return 'Más 40'\n",
    "    except:\n",
    "        return None"
   ]
  },
  {
   "cell_type": "code",
   "execution_count": 1698,
   "id": "873ab5c7",
   "metadata": {},
   "outputs": [],
   "source": [
    "df['WorkWeekHrs'] = df['WorkWeekHrs'].apply(lambda x: get_work_week_hrs(x))"
   ]
  },
  {
   "cell_type": "code",
   "execution_count": 1699,
   "id": "69aa9c0b",
   "metadata": {},
   "outputs": [
    {
     "data": {
      "text/plain": [
       "Menos 40    26001\n",
       "Más 40      13481\n",
       "Name: WorkWeekHrs, dtype: int64"
      ]
     },
     "execution_count": 1699,
     "metadata": {},
     "output_type": "execute_result"
    }
   ],
   "source": [
    "df['WorkWeekHrs'].value_counts()"
   ]
  },
  {
   "cell_type": "markdown",
   "id": "cebfa16f",
   "metadata": {},
   "source": [
    "### YearsCode"
   ]
  },
  {
   "cell_type": "code",
   "execution_count": 1700,
   "id": "6c1642cc",
   "metadata": {},
   "outputs": [],
   "source": [
    "def get_year_code(x):\n",
    "    try:\n",
    "        x = float(x)\n",
    "        if x == 0:\n",
    "            return 'Cero'\n",
    "        if x > 0 and x <= 2:\n",
    "            return 'menos 2'\n",
    "        if x > 2 and x <= 5:\n",
    "            return '2-5'\n",
    "        if x > 5 and x <= 10:\n",
    "            return '5-10'\n",
    "        if x > 10 and x <= 20:\n",
    "            return '10-20'\n",
    "        if x >= 20:\n",
    "            return '+20'\n",
    "    except:\n",
    "        return None"
   ]
  },
  {
   "cell_type": "code",
   "execution_count": 1701,
   "id": "55c0b72f",
   "metadata": {},
   "outputs": [],
   "source": [
    "# More than 50 years --> 51\n",
    "df['YearsCode'] = [0.5 if x == \"Less than 1 year\" else 51 if x == \"More than 50 years\" else x for x in df.YearsCodePro]\n",
    "df['YearsCode'] = df['YearsCode'].apply(lambda x: get_year_code(x))"
   ]
  },
  {
   "cell_type": "code",
   "execution_count": 1702,
   "id": "535e4564",
   "metadata": {},
   "outputs": [
    {
     "data": {
      "text/plain": [
       "2-5        10940\n",
       "5-10        9624\n",
       "menos 2     8541\n",
       "10-20       7271\n",
       "+20         2793\n",
       "Name: YearsCode, dtype: int64"
      ]
     },
     "execution_count": 1702,
     "metadata": {},
     "output_type": "execute_result"
    }
   ],
   "source": [
    "df['YearsCode'].value_counts()"
   ]
  },
  {
   "cell_type": "markdown",
   "id": "04967f93",
   "metadata": {},
   "source": [
    "### YearsCodePro"
   ]
  },
  {
   "cell_type": "code",
   "execution_count": 1703,
   "id": "31c5bab9",
   "metadata": {},
   "outputs": [],
   "source": [
    "def get_year_code_pro(x):\n",
    "    try:\n",
    "        x = float(x)\n",
    "        if x == 0:\n",
    "            return 'Cero'\n",
    "        if x > 0 and x <= 2:\n",
    "            return 'menos 2'\n",
    "        if x > 2 and x <= 5:\n",
    "            return '2-5'\n",
    "        if x > 5 and x <= 10:\n",
    "            return '5-10'\n",
    "        if x > 10 and x <= 20:\n",
    "            return '10-20'\n",
    "        if x >= 20:\n",
    "            return '-20'\n",
    "    except:\n",
    "        return None"
   ]
  },
  {
   "cell_type": "code",
   "execution_count": 1704,
   "id": "9262e45b",
   "metadata": {},
   "outputs": [],
   "source": [
    "# More than 50 years --> 51\n",
    "df['YearsCodePro'] = [0.5 if x == \"Less than 1 year\" else 51 if x == \"More than 50 years\" else x for x in df.YearsCodePro]\n",
    "df['YearsCodePro'] = df['YearsCodePro'].apply(lambda x: get_year_code_pro(x))"
   ]
  },
  {
   "cell_type": "code",
   "execution_count": 1705,
   "id": "ca27335f",
   "metadata": {},
   "outputs": [
    {
     "data": {
      "text/plain": [
       "2-5        10940\n",
       "5-10        9624\n",
       "menos 2     8541\n",
       "10-20       7271\n",
       "-20         2793\n",
       "Name: YearsCodePro, dtype: int64"
      ]
     },
     "execution_count": 1705,
     "metadata": {},
     "output_type": "execute_result"
    }
   ],
   "source": [
    "df['YearsCodePro'].value_counts()"
   ]
  },
  {
   "cell_type": "markdown",
   "id": "4e70af77",
   "metadata": {},
   "source": [
    "### Todas las columnas que comparan lo que están haciendo con lo que desean para el proximo año"
   ]
  },
  {
   "cell_type": "code",
   "execution_count": 1706,
   "id": "877d3118",
   "metadata": {},
   "outputs": [],
   "source": [
    "def compare_tools(actuales, deseos):\n",
    "    try:\n",
    "        actuales = set (actuales.split(';'))\n",
    "    except:\n",
    "        actuales = set([])\n",
    "    \n",
    "    try:\n",
    "        deseos = set(deseos.split(';'))\n",
    "    except:\n",
    "        deseos = set([])\n",
    "        \n",
    "    if actuales == set() and deseos == set():\n",
    "        return None\n",
    "    \n",
    "    len_deseos = len(deseos)\n",
    "    len_actuales = len (actuales)\n",
    "    \n",
    "\n",
    "    # Si no hay ningun elemento en comun entre ambos conjuntos entonces hay un cambio total\n",
    "    if deseos.isdisjoint(actuales):\n",
    "        return 'CAMBTO'\n",
    "    \n",
    "    # Si son iguales\n",
    "    if actuales == deseos:\n",
    "        return 'SINC'\n",
    "\n",
    "    if actuales.issubset(deseos):\n",
    "        # actuales esta dentro de deseos y no son iguales quiere decir que conserva los actuales y agrega nuevos \n",
    "        return 'CONYA'\n",
    "    \n",
    "    # ya se que se conservan algunos pero no todos, falta ver si ademas agrega algo\n",
    "\n",
    "    # veo cuantos se conservan\n",
    "    len_interseccion = len(actuales & deseos)\n",
    "\n",
    "    if len_deseos >  len_interseccion:\n",
    "        return 'CONAYA'\n",
    "\n",
    "    # Si no agrega nuevo entonces simplemente baja la cantidad de tecnologias\n",
    "    return 'CONANA'"
   ]
  },
  {
   "cell_type": "code",
   "execution_count": 1707,
   "id": "802b00e7",
   "metadata": {},
   "outputs": [],
   "source": [
    "df['DatabaseChangesDesires'] = df.apply(lambda x: compare_tools(x.DatabaseWorkedWith,x.DatabaseDesireNextYear), axis=1)"
   ]
  },
  {
   "cell_type": "code",
   "execution_count": 1708,
   "id": "ef3ce904",
   "metadata": {},
   "outputs": [],
   "source": [
    "df['LanguageChangesDesires'] = df.apply(lambda x: compare_tools(x.LanguageWorkedWith,x.LanguageDesireNextYear), axis=1)"
   ]
  },
  {
   "cell_type": "code",
   "execution_count": 1709,
   "id": "466d3684",
   "metadata": {},
   "outputs": [],
   "source": [
    "df['MiscTechChangesDesires'] = df.apply(lambda x: compare_tools(x.MiscTechWorkedWith,x.MiscTechDesireNextYear), axis=1)"
   ]
  },
  {
   "cell_type": "code",
   "execution_count": 1710,
   "id": "89ee8631",
   "metadata": {},
   "outputs": [],
   "source": [
    "df['CollabToolsChangesDesires'] = df.apply(lambda x: compare_tools(x.NEWCollabToolsWorkedWith,x.NEWCollabToolsDesireNextYear), axis=1)"
   ]
  },
  {
   "cell_type": "code",
   "execution_count": 1711,
   "id": "e2ebe2e1",
   "metadata": {},
   "outputs": [],
   "source": [
    "df['WebframeChangesDesires'] = df.apply(lambda x: compare_tools(x.WebframeWorkedWith,x.WebframeDesireNextYear), axis=1)"
   ]
  },
  {
   "cell_type": "code",
   "execution_count": 1712,
   "id": "52c4e981",
   "metadata": {},
   "outputs": [],
   "source": [
    "df['PlatformChangesDesires'] = df.apply(lambda x: compare_tools(x.PlatformWorkedWith,x.PlatformDesireNextYear), axis=1)"
   ]
  },
  {
   "cell_type": "code",
   "execution_count": 1713,
   "id": "8d380530",
   "metadata": {},
   "outputs": [],
   "source": [
    "df.drop('DatabaseWorkedWith', axis=1, inplace=True)\n",
    "df.drop('DatabaseDesireNextYear', axis=1, inplace=True)\n",
    "df.drop('LanguageWorkedWith', axis=1, inplace=True)\n",
    "df.drop('LanguageDesireNextYear', axis=1, inplace=True)\n",
    "df.drop('MiscTechWorkedWith', axis=1, inplace=True)\n",
    "df.drop('MiscTechDesireNextYear', axis=1, inplace=True)\n",
    "df.drop('NEWCollabToolsWorkedWith', axis=1, inplace=True)\n",
    "df.drop('NEWCollabToolsDesireNextYear', axis=1, inplace=True)\n",
    "df.drop('WebframeWorkedWith', axis=1, inplace=True)\n",
    "df.drop('WebframeDesireNextYear', axis=1, inplace=True)\n",
    "df.drop('PlatformWorkedWith', axis=1, inplace=True)\n",
    "df.drop('PlatformDesireNextYear', axis=1, inplace=True)"
   ]
  },
  {
   "cell_type": "code",
   "execution_count": 1714,
   "id": "8064063c",
   "metadata": {},
   "outputs": [
    {
     "data": {
      "text/plain": [
       "CAMBTO    10530\n",
       "SINC       6990\n",
       "CONANA     5956\n",
       "CONYA      5578\n",
       "CONAYA     5022\n",
       "Name: DatabaseChangesDesires, dtype: int64"
      ]
     },
     "execution_count": 1714,
     "metadata": {},
     "output_type": "execute_result"
    }
   ],
   "source": [
    "df['DatabaseChangesDesires'].value_counts()"
   ]
  },
  {
   "cell_type": "markdown",
   "id": "fa20d5d3",
   "metadata": {},
   "source": [
    "### NULLS"
   ]
  },
  {
   "cell_type": "code",
   "execution_count": 1715,
   "id": "36d4d648",
   "metadata": {},
   "outputs": [],
   "source": [
    "# Elimino registros con más de la mitad de las columna vacias\n",
    "#df = df.dropna(thresh=22)\n",
    "\n",
    "# Reemplazo los restantes NaN\n",
    "df = df.dropna()"
   ]
  },
  {
   "cell_type": "code",
   "execution_count": 1716,
   "id": "80740502",
   "metadata": {},
   "outputs": [
    {
     "name": "stdout",
     "output_type": "stream",
     "text": [
      "<class 'pandas.core.frame.DataFrame'>\n",
      "Int64Index: 14857 entries, 7 to 63517\n",
      "Data columns (total 44 columns):\n",
      " #   Column                     Non-Null Count  Dtype \n",
      "---  ------                     --------------  ----- \n",
      " 0   Age                        14857 non-null  object\n",
      " 1   CompFreq                   14857 non-null  object\n",
      " 2   ConvertedComp              14857 non-null  object\n",
      " 3   Continent                  14857 non-null  object\n",
      " 4   EdLevel                    14857 non-null  object\n",
      " 5   Ethnicity                  14857 non-null  object\n",
      " 6   JobSat                     14857 non-null  object\n",
      " 7   JobSeek                    14857 non-null  object\n",
      " 8   NEWLearn                   14857 non-null  object\n",
      " 9   NEWOnboardGood             14857 non-null  object\n",
      " 10  NEWOvertime                14857 non-null  object\n",
      " 11  OpSys                      14857 non-null  object\n",
      " 12  OrgSize                    14857 non-null  object\n",
      " 13  PurchaseWhat               14857 non-null  object\n",
      " 14  WorkWeekHrs                14857 non-null  object\n",
      " 15  YearsCode                  14857 non-null  object\n",
      " 16  YearsCodePro               14857 non-null  object\n",
      " 17  Developer                  14857 non-null  bool  \n",
      " 18  Research                   14857 non-null  bool  \n",
      " 19  Data_Science               14857 non-null  bool  \n",
      " 20  System_Admin               14857 non-null  bool  \n",
      " 21  Remote work                14857 non-null  bool  \n",
      " 22  company culture            14857 non-null  bool  \n",
      " 23  Financial performance      14857 non-null  bool  \n",
      " 24  Opportunities              14857 non-null  bool  \n",
      " 25  Diversity                  14857 non-null  bool  \n",
      " 26  impactful                  14857 non-null  bool  \n",
      " 27  Industry                   14857 non-null  bool  \n",
      " 28  Specific department        14857 non-null  bool  \n",
      " 29  Flex time                  14857 non-null  bool  \n",
      " 30  technologies               14857 non-null  bool  \n",
      " 31  Family friendliness        14857 non-null  bool  \n",
      " 32  DevOpsImp                  14857 non-null  object\n",
      " 33  JobHuntWithoutCause        14857 non-null  bool  \n",
      " 34  JobHuntTrouble             14857 non-null  bool  \n",
      " 35  JobHuntOpportunities       14857 non-null  bool  \n",
      " 36  JobHuntCompensation        14857 non-null  bool  \n",
      " 37  UndergradMajorTech         14857 non-null  bool  \n",
      " 38  DatabaseChangesDesires     14857 non-null  object\n",
      " 39  LanguageChangesDesires     14857 non-null  object\n",
      " 40  MiscTechChangesDesires     14857 non-null  object\n",
      " 41  CollabToolsChangesDesires  14857 non-null  object\n",
      " 42  WebframeChangesDesires     14857 non-null  object\n",
      " 43  PlatformChangesDesires     14857 non-null  object\n",
      "dtypes: bool(20), object(24)\n",
      "memory usage: 3.1+ MB\n"
     ]
    }
   ],
   "source": [
    "df.info()"
   ]
  },
  {
   "cell_type": "markdown",
   "id": "d57dc2db",
   "metadata": {},
   "source": [
    "### Renombro columnas"
   ]
  },
  {
   "cell_type": "code",
   "execution_count": 1717,
   "id": "51ffdb9c",
   "metadata": {},
   "outputs": [],
   "source": [
    "cols = list(df.columns)\n",
    "new_cols = []\n",
    "for col in cols:\n",
    "    col = col.replace(\",\",\"\")\n",
    "    col = col.replace(\" \",\"\")\n",
    "    new_cols.append(col)"
   ]
  },
  {
   "cell_type": "code",
   "execution_count": 1718,
   "id": "dabc341a",
   "metadata": {},
   "outputs": [],
   "source": [
    "df.columns = new_cols"
   ]
  },
  {
   "cell_type": "markdown",
   "id": "81c0b219",
   "metadata": {},
   "source": [
    "### JobSat Al final"
   ]
  },
  {
   "cell_type": "code",
   "execution_count": 1719,
   "id": "fe6aaf06",
   "metadata": {},
   "outputs": [
    {
     "name": "stderr",
     "output_type": "stream",
     "text": [
      "C:\\Users\\dario\\AppData\\Local\\Temp/ipykernel_17412/3814075631.py:4: FutureWarning: In a future version of pandas all arguments of DataFrame.drop except for the argument 'labels' will be keyword-only\n",
      "  df = df.drop(CLASS, 1)\n"
     ]
    }
   ],
   "source": [
    "# Set class as last col.\n",
    "CLASS = 'JobSat'\n",
    "aux = df[CLASS]\n",
    "df = df.drop(CLASS, 1)\n",
    "df[CLASS] = aux"
   ]
  },
  {
   "cell_type": "markdown",
   "id": "c7ab3a0f",
   "metadata": {},
   "source": [
    "### Exporto df"
   ]
  },
  {
   "cell_type": "code",
   "execution_count": 1720,
   "id": "50fc2feb",
   "metadata": {},
   "outputs": [],
   "source": [
    "df.to_csv('clean_data.csv', index=False)"
   ]
  }
 ],
 "metadata": {
  "kernelspec": {
   "display_name": "Python 3 (ipykernel)",
   "language": "python",
   "name": "python3"
  },
  "language_info": {
   "codemirror_mode": {
    "name": "ipython",
    "version": 3
   },
   "file_extension": ".py",
   "mimetype": "text/x-python",
   "name": "python",
   "nbconvert_exporter": "python",
   "pygments_lexer": "ipython3",
   "version": "3.10.0"
  }
 },
 "nbformat": 4,
 "nbformat_minor": 5
}
