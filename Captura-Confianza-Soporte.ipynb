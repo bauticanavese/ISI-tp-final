{
 "cells": [
  {
   "cell_type": "code",
   "execution_count": 1,
   "id": "58bd649c",
   "metadata": {},
   "outputs": [
    {
     "name": "stdout",
     "output_type": "stream",
     "text": [
      "['inst#,', 'actual,', 'predicted,', 'error,', 'probability', 'Age', 'CompFreq', 'ConvertedComp', 'EdLevel', 'NEWOnboardGood', 'NEWOvertime', 'OrgSize', 'WorkWeekHrs', 'YearsCodePro', 'LookingForJob']\n"
     ]
    }
   ],
   "source": [
    "import csv\n",
    "import pandas as pd\n",
    "\n",
    "a=[]\n",
    "n = 0\n",
    "with open(\"test.txt\") as tsv:\n",
    "    for line in csv.reader(tsv, dialect=\"excel-tab\"):\n",
    "        l = [x.replace('*', '').replace('+', '') for x in line[0].strip().split(' ') if x.replace('*', '').replace('+', '')]\n",
    "        if n == 0:\n",
    "            attrs = l[6].replace('(', '').replace(')', '').split(',')\n",
    "            attrs = l[:5] + attrs\n",
    "            print(attrs)\n",
    "        else:\n",
    "            l[1] = int(l[1][2])\n",
    "            l[2] = int(l[2][2])\n",
    "            attr_values = ''.join(l[5:]).replace('(', '').replace(')', '').split(',')\n",
    "            l = l[:5]\n",
    "            for value in attr_values:\n",
    "                if value.isnumeric():\n",
    "                    value = float(value)\n",
    "                else:\n",
    "                    value = value.replace(\"'\", '')\n",
    "                l.append(value)\n",
    "            a.append(l)\n",
    "\n",
    "        \n",
    "        n+=1\n",
    "        \n",
    "df = pd.DataFrame(a, columns = attrs)"
   ]
  },
  {
   "cell_type": "code",
   "execution_count": 2,
   "id": "260bf4c1",
   "metadata": {},
   "outputs": [],
   "source": [
    "df['Correctly'] = (df['actual,'] == df['predicted,']).astype(int)"
   ]
  },
  {
   "cell_type": "code",
   "execution_count": 3,
   "id": "82704c57",
   "metadata": {},
   "outputs": [
    {
     "data": {
      "text/html": [
       "<div>\n",
       "<style scoped>\n",
       "    .dataframe tbody tr th:only-of-type {\n",
       "        vertical-align: middle;\n",
       "    }\n",
       "\n",
       "    .dataframe tbody tr th {\n",
       "        vertical-align: top;\n",
       "    }\n",
       "\n",
       "    .dataframe thead th {\n",
       "        text-align: right;\n",
       "    }\n",
       "</style>\n",
       "<table border=\"1\" class=\"dataframe\">\n",
       "  <thead>\n",
       "    <tr style=\"text-align: right;\">\n",
       "      <th></th>\n",
       "      <th>inst#,</th>\n",
       "      <th>actual,</th>\n",
       "      <th>predicted,</th>\n",
       "      <th>error,</th>\n",
       "      <th>probability</th>\n",
       "      <th>Age</th>\n",
       "      <th>CompFreq</th>\n",
       "      <th>ConvertedComp</th>\n",
       "      <th>EdLevel</th>\n",
       "      <th>NEWOnboardGood</th>\n",
       "      <th>NEWOvertime</th>\n",
       "      <th>OrgSize</th>\n",
       "      <th>WorkWeekHrs</th>\n",
       "      <th>YearsCodePro</th>\n",
       "      <th>LookingForJob</th>\n",
       "      <th>Correctly</th>\n",
       "    </tr>\n",
       "  </thead>\n",
       "  <tbody>\n",
       "    <tr>\n",
       "      <th>0</th>\n",
       "      <td>1</td>\n",
       "      <td>1</td>\n",
       "      <td>1</td>\n",
       "      <td>0.119</td>\n",
       "      <td>0.881</td>\n",
       "      <td>24.0</td>\n",
       "      <td>Monthly</td>\n",
       "      <td>4944.0</td>\n",
       "      <td>Master/Doctoral</td>\n",
       "      <td>Yes</td>\n",
       "      <td>Rarely</td>\n",
       "      <td>20-99</td>\n",
       "      <td>45.0</td>\n",
       "      <td>5.0</td>\n",
       "      <td>No</td>\n",
       "      <td>1</td>\n",
       "    </tr>\n",
       "    <tr>\n",
       "      <th>1</th>\n",
       "      <td>2</td>\n",
       "      <td>1</td>\n",
       "      <td>1</td>\n",
       "      <td>0.397</td>\n",
       "      <td>0.603</td>\n",
       "      <td>25.0</td>\n",
       "      <td>Monthly</td>\n",
       "      <td>8400.0</td>\n",
       "      <td>University</td>\n",
       "      <td>Yes</td>\n",
       "      <td>Sometimes</td>\n",
       "      <td>20-99</td>\n",
       "      <td>42.0</td>\n",
       "      <td>1.0</td>\n",
       "      <td>Yes</td>\n",
       "      <td>1</td>\n",
       "    </tr>\n",
       "    <tr>\n",
       "      <th>2</th>\n",
       "      <td>3</td>\n",
       "      <td>1</td>\n",
       "      <td>1</td>\n",
       "      <td>0.223</td>\n",
       "      <td>0.777</td>\n",
       "      <td>26.0</td>\n",
       "      <td>Monthly</td>\n",
       "      <td>62424.0</td>\n",
       "      <td>University</td>\n",
       "      <td>Yes</td>\n",
       "      <td>Occasionally</td>\n",
       "      <td>1.000-4.999</td>\n",
       "      <td>40.0</td>\n",
       "      <td>8.0</td>\n",
       "      <td>NoButOpenToOpportunities</td>\n",
       "      <td>1</td>\n",
       "    </tr>\n",
       "    <tr>\n",
       "      <th>3</th>\n",
       "      <td>4</td>\n",
       "      <td>1</td>\n",
       "      <td>1</td>\n",
       "      <td>0.119</td>\n",
       "      <td>0.881</td>\n",
       "      <td>27.0</td>\n",
       "      <td>Monthly</td>\n",
       "      <td>78156.0</td>\n",
       "      <td>University</td>\n",
       "      <td>Yes</td>\n",
       "      <td>Often</td>\n",
       "      <td>100-499</td>\n",
       "      <td>40.0</td>\n",
       "      <td>3.0</td>\n",
       "      <td>No</td>\n",
       "      <td>1</td>\n",
       "    </tr>\n",
       "    <tr>\n",
       "      <th>4</th>\n",
       "      <td>5</td>\n",
       "      <td>1</td>\n",
       "      <td>1</td>\n",
       "      <td>0.223</td>\n",
       "      <td>0.777</td>\n",
       "      <td>31.504648</td>\n",
       "      <td>Monthly</td>\n",
       "      <td>108240.39508</td>\n",
       "      <td>University</td>\n",
       "      <td>Yes</td>\n",
       "      <td>Sometimes</td>\n",
       "      <td>20-99</td>\n",
       "      <td>8.0</td>\n",
       "      <td>6.0</td>\n",
       "      <td>NoButOpenToOpportunities</td>\n",
       "      <td>1</td>\n",
       "    </tr>\n",
       "    <tr>\n",
       "      <th>...</th>\n",
       "      <td>...</td>\n",
       "      <td>...</td>\n",
       "      <td>...</td>\n",
       "      <td>...</td>\n",
       "      <td>...</td>\n",
       "      <td>...</td>\n",
       "      <td>...</td>\n",
       "      <td>...</td>\n",
       "      <td>...</td>\n",
       "      <td>...</td>\n",
       "      <td>...</td>\n",
       "      <td>...</td>\n",
       "      <td>...</td>\n",
       "      <td>...</td>\n",
       "      <td>...</td>\n",
       "      <td>...</td>\n",
       "    </tr>\n",
       "    <tr>\n",
       "      <th>6627</th>\n",
       "      <td>6628</td>\n",
       "      <td>1</td>\n",
       "      <td>1</td>\n",
       "      <td>0.119</td>\n",
       "      <td>0.881</td>\n",
       "      <td>27.0</td>\n",
       "      <td>Yearly</td>\n",
       "      <td>130000.0</td>\n",
       "      <td>University</td>\n",
       "      <td>Yes</td>\n",
       "      <td>Never</td>\n",
       "      <td>2-9</td>\n",
       "      <td>55.0</td>\n",
       "      <td>5.0</td>\n",
       "      <td>No</td>\n",
       "      <td>1</td>\n",
       "    </tr>\n",
       "    <tr>\n",
       "      <th>6628</th>\n",
       "      <td>6629</td>\n",
       "      <td>0</td>\n",
       "      <td>1</td>\n",
       "      <td>0.223</td>\n",
       "      <td>0.777</td>\n",
       "      <td>50.0</td>\n",
       "      <td>Yearly</td>\n",
       "      <td>127000.0</td>\n",
       "      <td>University</td>\n",
       "      <td>Yes</td>\n",
       "      <td>Often</td>\n",
       "      <td>10.000ormore</td>\n",
       "      <td>45.0</td>\n",
       "      <td>23.0</td>\n",
       "      <td>NoButOpenToOpportunities</td>\n",
       "      <td>0</td>\n",
       "    </tr>\n",
       "    <tr>\n",
       "      <th>6629</th>\n",
       "      <td>6630</td>\n",
       "      <td>1</td>\n",
       "      <td>1</td>\n",
       "      <td>0.119</td>\n",
       "      <td>0.881</td>\n",
       "      <td>25.0</td>\n",
       "      <td>Yearly</td>\n",
       "      <td>105000.0</td>\n",
       "      <td>University</td>\n",
       "      <td>Yes</td>\n",
       "      <td>Often</td>\n",
       "      <td>20-99</td>\n",
       "      <td>40.0</td>\n",
       "      <td>3.0</td>\n",
       "      <td>No</td>\n",
       "      <td>1</td>\n",
       "    </tr>\n",
       "    <tr>\n",
       "      <th>6630</th>\n",
       "      <td>6631</td>\n",
       "      <td>1</td>\n",
       "      <td>1</td>\n",
       "      <td>0.223</td>\n",
       "      <td>0.777</td>\n",
       "      <td>23.0</td>\n",
       "      <td>Yearly</td>\n",
       "      <td>25131.0</td>\n",
       "      <td>Master/Doctoral</td>\n",
       "      <td>Yes</td>\n",
       "      <td>Sometimes</td>\n",
       "      <td>10.000ormore</td>\n",
       "      <td>40.0</td>\n",
       "      <td>1.0</td>\n",
       "      <td>NoButOpenToOpportunities</td>\n",
       "      <td>1</td>\n",
       "    </tr>\n",
       "    <tr>\n",
       "      <th>6631</th>\n",
       "      <td>6632</td>\n",
       "      <td>1</td>\n",
       "      <td>1</td>\n",
       "      <td>0.223</td>\n",
       "      <td>0.777</td>\n",
       "      <td>27.0</td>\n",
       "      <td>Yearly</td>\n",
       "      <td>64859.0</td>\n",
       "      <td>University</td>\n",
       "      <td>Yes</td>\n",
       "      <td>Rarely</td>\n",
       "      <td>20-99</td>\n",
       "      <td>40.0</td>\n",
       "      <td>4.0</td>\n",
       "      <td>NoButOpenToOpportunities</td>\n",
       "      <td>1</td>\n",
       "    </tr>\n",
       "  </tbody>\n",
       "</table>\n",
       "<p>6632 rows × 16 columns</p>\n",
       "</div>"
      ],
      "text/plain": [
       "     inst#,  actual,  predicted, error, probability        Age CompFreq  \\\n",
       "0         1        1           1  0.119       0.881       24.0  Monthly   \n",
       "1         2        1           1  0.397       0.603       25.0  Monthly   \n",
       "2         3        1           1  0.223       0.777       26.0  Monthly   \n",
       "3         4        1           1  0.119       0.881       27.0  Monthly   \n",
       "4         5        1           1  0.223       0.777  31.504648  Monthly   \n",
       "...     ...      ...         ...    ...         ...        ...      ...   \n",
       "6627   6628        1           1  0.119       0.881       27.0   Yearly   \n",
       "6628   6629        0           1  0.223       0.777       50.0   Yearly   \n",
       "6629   6630        1           1  0.119       0.881       25.0   Yearly   \n",
       "6630   6631        1           1  0.223       0.777       23.0   Yearly   \n",
       "6631   6632        1           1  0.223       0.777       27.0   Yearly   \n",
       "\n",
       "     ConvertedComp          EdLevel NEWOnboardGood   NEWOvertime  \\\n",
       "0           4944.0  Master/Doctoral            Yes        Rarely   \n",
       "1           8400.0       University            Yes     Sometimes   \n",
       "2          62424.0       University            Yes  Occasionally   \n",
       "3          78156.0       University            Yes         Often   \n",
       "4     108240.39508       University            Yes     Sometimes   \n",
       "...            ...              ...            ...           ...   \n",
       "6627      130000.0       University            Yes         Never   \n",
       "6628      127000.0       University            Yes         Often   \n",
       "6629      105000.0       University            Yes         Often   \n",
       "6630       25131.0  Master/Doctoral            Yes     Sometimes   \n",
       "6631       64859.0       University            Yes        Rarely   \n",
       "\n",
       "           OrgSize WorkWeekHrs YearsCodePro             LookingForJob  \\\n",
       "0            20-99        45.0          5.0                        No   \n",
       "1            20-99        42.0          1.0                       Yes   \n",
       "2      1.000-4.999        40.0          8.0  NoButOpenToOpportunities   \n",
       "3          100-499        40.0          3.0                        No   \n",
       "4            20-99         8.0          6.0  NoButOpenToOpportunities   \n",
       "...            ...         ...          ...                       ...   \n",
       "6627           2-9        55.0          5.0                        No   \n",
       "6628  10.000ormore        45.0         23.0  NoButOpenToOpportunities   \n",
       "6629         20-99        40.0          3.0                        No   \n",
       "6630  10.000ormore        40.0          1.0  NoButOpenToOpportunities   \n",
       "6631         20-99        40.0          4.0  NoButOpenToOpportunities   \n",
       "\n",
       "      Correctly  \n",
       "0             1  \n",
       "1             1  \n",
       "2             1  \n",
       "3             1  \n",
       "4             1  \n",
       "...         ...  \n",
       "6627          1  \n",
       "6628          0  \n",
       "6629          1  \n",
       "6630          1  \n",
       "6631          1  \n",
       "\n",
       "[6632 rows x 16 columns]"
      ]
     },
     "execution_count": 3,
     "metadata": {},
     "output_type": "execute_result"
    }
   ],
   "source": [
    "df"
   ]
  },
  {
   "cell_type": "code",
   "execution_count": 35,
   "id": "b67f88b5",
   "metadata": {},
   "outputs": [],
   "source": [
    "# Reglas\n",
    "TOTAL_INSTANCIAS = df.shape[0]\n",
    "TOTAL_CLASE_1 = df['actual,'].sum()\n",
    "TOTAL_CLASE_0 = TOTAL_INSTANCIAS - TOTAL_CLASE_1\n",
    "\n",
    "def calculate_and_print(R, class_label):\n",
    "    class_count = TOTAL_CLASE_1 if class_label == 1 else TOTAL_CLASE_0\n",
    "    R_COUNT = R.shape[0]\n",
    "    print('Clase: ' + str(class_label))\n",
    "    print('Entradas: ' + str(R_COUNT))\n",
    "    print('Bien Clasificados: ' + str(R['Correctly'].sum()))\n",
    "    print('----------------------------------')\n",
    "    print('Confianza: {} / {} = {:.4f} ({:.2f} %)'.format(R['Correctly'].sum(), R_COUNT, R['Correctly'].sum() / R_COUNT, (R['Correctly'].sum() / R_COUNT) * 100))\n",
    "    print('Captura: {} / {} = {:.4f} ({:.2f} %)'.format(R['Correctly'].sum(), class_count, R['Correctly'].sum() / class_count, (R['Correctly'].sum() / class_count) * 100))\n",
    "    print('Soporte: {} / {} = {:.4f} ({:.2f} %)'.format(R_COUNT, TOTAL_INSTANCIAS, R_COUNT / TOTAL_INSTANCIAS, (R_COUNT / TOTAL_INSTANCIAS) * 100))"
   ]
  },
  {
   "cell_type": "code",
   "execution_count": 36,
   "id": "7afbbfc6",
   "metadata": {},
   "outputs": [
    {
     "name": "stdout",
     "output_type": "stream",
     "text": [
      "Total Instancias Test: 6632\n",
      "Total Instancias Clase 0: 1753\n",
      "Total Instancias Clase 1: 4879\n"
     ]
    }
   ],
   "source": [
    "print(\"Total Instancias Test: {}\".format(TOTAL_INSTANCIAS))\n",
    "print(\"Total Instancias Clase 0: {}\".format(TOTAL_CLASE_0))\n",
    "print(\"Total Instancias Clase 1: {}\".format(TOTAL_CLASE_1))"
   ]
  },
  {
   "cell_type": "code",
   "execution_count": 37,
   "id": "581a8fd1",
   "metadata": {
    "scrolled": true
   },
   "outputs": [
    {
     "name": "stdout",
     "output_type": "stream",
     "text": [
      "Clase: 1\n",
      "Entradas: 3820\n",
      "Bien Clasificados: 2786\n",
      "----------------------------------\n",
      "Confianza: 2786 / 3820 = 0.7293 (72.93 %)\n",
      "Captura: 2786 / 4879 = 0.5710 (57.10 %)\n",
      "Soporte: 3820 / 6632 = 0.5760 (57.60 %)\n"
     ]
    }
   ],
   "source": [
    "R = df.loc[(df['LookingForJob'] == \"NoButOpenToOpportunities\")]\n",
    "calculate_and_print(R, class_label=1)"
   ]
  },
  {
   "cell_type": "code",
   "execution_count": 38,
   "id": "010d2105",
   "metadata": {},
   "outputs": [
    {
     "name": "stdout",
     "output_type": "stream",
     "text": [
      "Clase: 1\n",
      "Entradas: 357\n",
      "Bien Clasificados: 199\n",
      "----------------------------------\n",
      "Confianza: 199 / 357 = 0.5574 (55.74 %)\n",
      "Captura: 199 / 4879 = 0.0408 (4.08 %)\n",
      "Soporte: 357 / 6632 = 0.0538 (5.38 %)\n"
     ]
    }
   ],
   "source": [
    "R = df.loc[(df['LookingForJob'] == \"Yes\") & (df['NEWOnboardGood'] == \"Yes\")]\n",
    "calculate_and_print(R, class_label=1)"
   ]
  },
  {
   "cell_type": "code",
   "execution_count": 39,
   "id": "3c76ae64",
   "metadata": {
    "scrolled": true
   },
   "outputs": [
    {
     "name": "stdout",
     "output_type": "stream",
     "text": [
      "Clase: 1\n",
      "Entradas: 2023\n",
      "Bien Clasificados: 1780\n",
      "----------------------------------\n",
      "Confianza: 1780 / 2023 = 0.8799 (87.99 %)\n",
      "Captura: 1780 / 4879 = 0.3648 (36.48 %)\n",
      "Soporte: 2023 / 6632 = 0.3050 (30.50 %)\n"
     ]
    }
   ],
   "source": [
    "R = df.loc[df['LookingForJob'] == \"No\"]\n",
    "calculate_and_print(R, class_label=1)"
   ]
  },
  {
   "cell_type": "code",
   "execution_count": 40,
   "id": "60d276db",
   "metadata": {
    "scrolled": true
   },
   "outputs": [
    {
     "name": "stdout",
     "output_type": "stream",
     "text": [
      "Clase: 0\n",
      "Entradas: 125\n",
      "Bien Clasificados: 94\n",
      "----------------------------------\n",
      "Confianza: 94 / 125 = 0.7520 (75.20 %)\n",
      "Captura: 94 / 1753 = 0.0536 (5.36 %)\n",
      "Soporte: 125 / 6632 = 0.0188 (1.88 %)\n"
     ]
    }
   ],
   "source": [
    "R = df.loc[(df['LookingForJob'] == \"Yes\") & (df['NEWOnboardGood'] == \"No\") & (df['OrgSize'] == \"20-99\")]\n",
    "calculate_and_print(R, class_label=0)"
   ]
  },
  {
   "cell_type": "code",
   "execution_count": 41,
   "id": "9df5df78",
   "metadata": {
    "scrolled": true
   },
   "outputs": [
    {
     "name": "stdout",
     "output_type": "stream",
     "text": [
      "Clase: 0\n",
      "Entradas: 66\n",
      "Bien Clasificados: 49\n",
      "----------------------------------\n",
      "Confianza: 49 / 66 = 0.7424 (74.24 %)\n",
      "Captura: 49 / 1753 = 0.0280 (2.80 %)\n",
      "Soporte: 66 / 6632 = 0.0100 (1.00 %)\n"
     ]
    }
   ],
   "source": [
    "R = df.loc[(df['LookingForJob'] == \"Yes\") & (df['NEWOnboardGood'] == \"No\") & (df['OrgSize'] == \"10.000ormore\")]\n",
    "calculate_and_print(R, class_label=0)"
   ]
  },
  {
   "cell_type": "code",
   "execution_count": 42,
   "id": "c552d8d9",
   "metadata": {
    "scrolled": true
   },
   "outputs": [
    {
     "name": "stdout",
     "output_type": "stream",
     "text": [
      "Clase: 0\n",
      "Entradas: 32\n",
      "Bien Clasificados: 20\n",
      "----------------------------------\n",
      "Confianza: 20 / 32 = 0.6250 (62.50 %)\n",
      "Captura: 20 / 1753 = 0.0114 (1.14 %)\n",
      "Soporte: 32 / 6632 = 0.0048 (0.48 %)\n"
     ]
    }
   ],
   "source": [
    "R = df.loc[(df['LookingForJob'] == \"Yes\") & (df['NEWOnboardGood'] == \"No\") & (df['OrgSize'] == \"2-9\")]\n",
    "calculate_and_print(R, class_label=0)"
   ]
  },
  {
   "cell_type": "code",
   "execution_count": 43,
   "id": "492d5677",
   "metadata": {
    "scrolled": true
   },
   "outputs": [
    {
     "name": "stdout",
     "output_type": "stream",
     "text": [
      "Clase: 0\n",
      "Entradas: 65\n",
      "Bien Clasificados: 46\n",
      "----------------------------------\n",
      "Confianza: 46 / 65 = 0.7077 (70.77 %)\n",
      "Captura: 46 / 1753 = 0.0262 (2.62 %)\n",
      "Soporte: 65 / 6632 = 0.0098 (0.98 %)\n"
     ]
    }
   ],
   "source": [
    "R = df.loc[(df['LookingForJob'] == \"Yes\") & (df['NEWOnboardGood'] == \"No\") & (df['OrgSize'] == \"100-499\")]\n",
    "calculate_and_print(R, class_label=0)"
   ]
  },
  {
   "cell_type": "code",
   "execution_count": 44,
   "id": "9e1774d7",
   "metadata": {
    "scrolled": true
   },
   "outputs": [
    {
     "name": "stdout",
     "output_type": "stream",
     "text": [
      "Clase: 0\n",
      "Entradas: 31\n",
      "Bien Clasificados: 21\n",
      "----------------------------------\n",
      "Confianza: 21 / 31 = 0.6774 (67.74 %)\n",
      "Captura: 21 / 1753 = 0.0120 (1.20 %)\n",
      "Soporte: 31 / 6632 = 0.0047 (0.47 %)\n"
     ]
    }
   ],
   "source": [
    "R = df.loc[(df['LookingForJob'] == \"Yes\") & (df['NEWOnboardGood'] == \"No\") & (df['OrgSize'] == \"500-999\")]\n",
    "calculate_and_print(R, class_label=0)"
   ]
  },
  {
   "cell_type": "code",
   "execution_count": 45,
   "id": "8788d8c7",
   "metadata": {
    "scrolled": true
   },
   "outputs": [
    {
     "name": "stdout",
     "output_type": "stream",
     "text": [
      "Clase: 0\n",
      "Entradas: 52\n",
      "Bien Clasificados: 37\n",
      "----------------------------------\n",
      "Confianza: 37 / 52 = 0.7115 (71.15 %)\n",
      "Captura: 37 / 1753 = 0.0211 (2.11 %)\n",
      "Soporte: 52 / 6632 = 0.0078 (0.78 %)\n"
     ]
    }
   ],
   "source": [
    "R = df.loc[(df['LookingForJob'] == \"Yes\") & (df['NEWOnboardGood'] == \"No\") & (df['OrgSize'] == \"1.000-4.999\")]\n",
    "calculate_and_print(R, class_label=0)"
   ]
  },
  {
   "cell_type": "code",
   "execution_count": 46,
   "id": "843aeede",
   "metadata": {},
   "outputs": [
    {
     "name": "stdout",
     "output_type": "stream",
     "text": [
      "Clase: 0\n",
      "Entradas: 10\n",
      "Bien Clasificados: 9\n",
      "----------------------------------\n",
      "Confianza: 9 / 10 = 0.9000 (90.00 %)\n",
      "Captura: 9 / 1753 = 0.0051 (0.51 %)\n",
      "Soporte: 10 / 6632 = 0.0015 (0.15 %)\n"
     ]
    }
   ],
   "source": [
    "R = df.loc[(df['LookingForJob'] == \"Yes\") & (df['NEWOnboardGood'] == \"No\") & (df['OrgSize'] == \"5.000-9.999\")]\n",
    "calculate_and_print(R, class_label=0)"
   ]
  },
  {
   "cell_type": "code",
   "execution_count": 47,
   "id": "c1131267",
   "metadata": {
    "scrolled": true
   },
   "outputs": [
    {
     "name": "stdout",
     "output_type": "stream",
     "text": [
      "Clase: 1\n",
      "Entradas: 12\n",
      "Bien Clasificados: 4\n",
      "----------------------------------\n",
      "Confianza: 4 / 12 = 0.3333 (33.33 %)\n",
      "Captura: 4 / 4879 = 0.0008 (0.08 %)\n",
      "Soporte: 12 / 6632 = 0.0018 (0.18 %)\n"
     ]
    }
   ],
   "source": [
    "df[\"ConvertedComp\"] = pd.to_numeric(df[\"ConvertedComp\"], downcast=\"float\")\n",
    "R = df.loc[(df['LookingForJob'] == \"Yes\") & (df['NEWOnboardGood'] == \"No\") & (df['OrgSize'] == \"10-19\") & (df['ConvertedComp'] < 5660.5)]\n",
    "calculate_and_print(R, class_label=1)"
   ]
  },
  {
   "cell_type": "code",
   "execution_count": 48,
   "id": "bbd91259",
   "metadata": {
    "scrolled": true
   },
   "outputs": [
    {
     "name": "stdout",
     "output_type": "stream",
     "text": [
      "Clase: 0\n",
      "Entradas: 39\n",
      "Bien Clasificados: 29\n",
      "----------------------------------\n",
      "Confianza: 29 / 39 = 0.7436 (74.36 %)\n",
      "Captura: 29 / 1753 = 0.0165 (1.65 %)\n",
      "Soporte: 39 / 6632 = 0.0059 (0.59 %)\n"
     ]
    }
   ],
   "source": [
    "R = df.loc[(df['LookingForJob'] == \"Yes\") & (df['NEWOnboardGood'] == \"No\") & (df['OrgSize'] == \"10-19\") & (df['ConvertedComp'] >= 5660.5)]\n",
    "calculate_and_print(R, class_label=0)"
   ]
  },
  {
   "cell_type": "code",
   "execution_count": null,
   "id": "3b0a8f6c",
   "metadata": {},
   "outputs": [],
   "source": []
  },
  {
   "cell_type": "code",
   "execution_count": null,
   "id": "91d20b1e",
   "metadata": {},
   "outputs": [],
   "source": []
  },
  {
   "cell_type": "code",
   "execution_count": null,
   "id": "0fc30e77",
   "metadata": {},
   "outputs": [],
   "source": []
  }
 ],
 "metadata": {
  "kernelspec": {
   "display_name": "Python 3",
   "language": "python",
   "name": "python3"
  },
  "language_info": {
   "codemirror_mode": {
    "name": "ipython",
    "version": 3
   },
   "file_extension": ".py",
   "mimetype": "text/x-python",
   "name": "python",
   "nbconvert_exporter": "python",
   "pygments_lexer": "ipython3",
   "version": "3.8.8"
  }
 },
 "nbformat": 4,
 "nbformat_minor": 5
}
